{
 "cells": [
  {
   "cell_type": "code",
   "execution_count": 1,
   "metadata": {},
   "outputs": [],
   "source": [
    "import polars as pl"
   ]
  },
  {
   "cell_type": "markdown",
   "metadata": {},
   "source": [
    "### 1. Data reading\n"
   ]
  },
  {
   "cell_type": "markdown",
   "metadata": {},
   "source": [
    "Load parquet file into a polars LazyFrame.\n"
   ]
  },
  {
   "cell_type": "code",
   "execution_count": 2,
   "metadata": {},
   "outputs": [],
   "source": [
    "dfs = []\n",
    "for month in range(1, 13):\n",
    "    df = pl.scan_parquet(f\"../lab/data/{month}.parquet\")\n",
    "    df = df.with_columns(\n",
    "        pl.col(\"tpep_pickup_datetime\").dt.cast_time_unit(\"ms\"),\n",
    "        pl.col(\"tpep_dropoff_datetime\").dt.cast_time_unit(\"ms\"),\n",
    "    )\n",
    "    dfs.append(df)\n",
    "\n",
    "df_2024 = pl.concat(dfs)"
   ]
  },
  {
   "cell_type": "markdown",
   "metadata": {},
   "source": [
    "Load csv file into a polars LazyFrame.\n"
   ]
  },
  {
   "cell_type": "code",
   "execution_count": 3,
   "metadata": {},
   "outputs": [],
   "source": [
    "taxi_zones_df = pl.scan_csv(\"../lab/data/taxi_zone_lookup.csv\")"
   ]
  },
  {
   "cell_type": "markdown",
   "metadata": {},
   "source": [
    "Filter the taxi lf to only include rows from the year 2024.\n"
   ]
  },
  {
   "cell_type": "code",
   "execution_count": 4,
   "metadata": {},
   "outputs": [],
   "source": [
    "df_2024 = df_2024.filter(\n",
    "    pl.col(\"tpep_pickup_datetime\").dt.year() == 2024,\n",
    "    pl.col(\"tpep_dropoff_datetime\") <= pl.date(2025, 1, 1),\n",
    ")"
   ]
  },
  {
   "cell_type": "markdown",
   "metadata": {},
   "source": [
    "Optimize taxi LazyFrame\n"
   ]
  },
  {
   "cell_type": "code",
   "execution_count": 5,
   "metadata": {},
   "outputs": [
    {
     "data": {
      "text/html": [
       "<div><style>\n",
       ".dataframe > thead > tr,\n",
       ".dataframe > tbody > tr {\n",
       "  text-align: right;\n",
       "  white-space: pre-wrap;\n",
       "}\n",
       "</style>\n",
       "<small>shape: (9, 20)</small><table border=\"1\" class=\"dataframe\"><thead><tr><th>statistic</th><th>VendorID</th><th>tpep_pickup_datetime</th><th>tpep_dropoff_datetime</th><th>passenger_count</th><th>trip_distance</th><th>RatecodeID</th><th>store_and_fwd_flag</th><th>PULocationID</th><th>DOLocationID</th><th>payment_type</th><th>fare_amount</th><th>extra</th><th>mta_tax</th><th>tip_amount</th><th>tolls_amount</th><th>improvement_surcharge</th><th>total_amount</th><th>congestion_surcharge</th><th>Airport_fee</th></tr><tr><td>str</td><td>f64</td><td>str</td><td>str</td><td>f64</td><td>f64</td><td>f64</td><td>str</td><td>f64</td><td>f64</td><td>f64</td><td>f64</td><td>f64</td><td>f64</td><td>f64</td><td>f64</td><td>f64</td><td>f64</td><td>f64</td><td>f64</td></tr></thead><tbody><tr><td>&quot;count&quot;</td><td>4.1169064e7</td><td>&quot;41169064&quot;</td><td>&quot;41169064&quot;</td><td>3.7077867e7</td><td>4.1169064e7</td><td>3.7077867e7</td><td>&quot;37077867&quot;</td><td>4.1169064e7</td><td>4.1169064e7</td><td>4.1169064e7</td><td>4.1169064e7</td><td>4.1169064e7</td><td>4.1169064e7</td><td>4.1169064e7</td><td>4.1169064e7</td><td>4.1169064e7</td><td>4.1169064e7</td><td>3.7077867e7</td><td>3.7077867e7</td></tr><tr><td>&quot;null_count&quot;</td><td>0.0</td><td>&quot;0&quot;</td><td>&quot;0&quot;</td><td>4.091197e6</td><td>0.0</td><td>4.091197e6</td><td>&quot;4091197&quot;</td><td>0.0</td><td>0.0</td><td>0.0</td><td>0.0</td><td>0.0</td><td>0.0</td><td>0.0</td><td>0.0</td><td>0.0</td><td>0.0</td><td>4.091197e6</td><td>4.091197e6</td></tr><tr><td>&quot;mean&quot;</td><td>1.764231</td><td>&quot;2024-07-06 10:06:13.130000&quot;</td><td>&quot;2024-07-06 10:23:41.087000&quot;</td><td>1.333927</td><td>4.976051</td><td>2.322168</td><td>null</td><td>164.243041</td><td>163.447651</td><td>1.107255</td><td>19.268278</td><td>1.385948</td><td>0.479778</td><td>3.307857</td><td>0.561511</td><td>0.962994</td><td>27.832536</td><td>2.232153</td><td>0.146999</td></tr><tr><td>&quot;std&quot;</td><td>0.425858</td><td>null</td><td>null</td><td>0.815821</td><td>419.233836</td><td>10.928139</td><td>null</td><td>64.340795</td><td>69.599929</td><td>0.651506</td><td>76.720324</td><td>1.815873</td><td>0.130182</td><td>4.090465</td><td>2.240516</td><td>0.255053</td><td>78.054026</td><td>0.87464</td><td>0.502031</td></tr><tr><td>&quot;min&quot;</td><td>1.0</td><td>&quot;2024-01-01 00:00:00&quot;</td><td>&quot;2024-01-01 00:02:42&quot;</td><td>0.0</td><td>0.0</td><td>1.0</td><td>&quot;N&quot;</td><td>1.0</td><td>1.0</td><td>0.0</td><td>-2261.2</td><td>-9.25</td><td>-0.5</td><td>-300.0</td><td>-140.63</td><td>-1.0</td><td>-2265.45</td><td>-2.5</td><td>-1.75</td></tr><tr><td>&quot;25%&quot;</td><td>2.0</td><td>&quot;2024-04-06 20:06:26&quot;</td><td>&quot;2024-04-06 20:22:54&quot;</td><td>1.0</td><td>1.01</td><td>1.0</td><td>null</td><td>132.0</td><td>113.0</td><td>1.0</td><td>9.3</td><td>0.0</td><td>0.5</td><td>0.0</td><td>0.0</td><td>1.0</td><td>15.75</td><td>2.5</td><td>0.0</td></tr><tr><td>&quot;50%&quot;</td><td>2.0</td><td>&quot;2024-07-03 23:28:31&quot;</td><td>&quot;2024-07-03 23:44:36&quot;</td><td>1.0</td><td>1.76</td><td>1.0</td><td>null</td><td>161.0</td><td>162.0</td><td>1.0</td><td>13.5</td><td>1.0</td><td>0.5</td><td>2.6</td><td>0.0</td><td>1.0</td><td>21.0</td><td>2.5</td><td>0.0</td></tr><tr><td>&quot;75%&quot;</td><td>2.0</td><td>&quot;2024-10-08 17:30:38&quot;</td><td>&quot;2024-10-08 17:50:40&quot;</td><td>1.0</td><td>3.36</td><td>1.0</td><td>null</td><td>233.0</td><td>234.0</td><td>1.0</td><td>22.6</td><td>2.5</td><td>0.5</td><td>4.25</td><td>0.0</td><td>1.0</td><td>30.6</td><td>2.5</td><td>0.0</td></tr><tr><td>&quot;max&quot;</td><td>7.0</td><td>&quot;2024-12-31 23:59:21&quot;</td><td>&quot;2025-01-01 00:00:00&quot;</td><td>9.0</td><td>398608.62</td><td>99.0</td><td>&quot;Y&quot;</td><td>265.0</td><td>265.0</td><td>5.0</td><td>335544.44</td><td>65.99</td><td>41.3</td><td>999.99</td><td>1702.88</td><td>2.0</td><td>335550.94</td><td>2.52</td><td>1.75</td></tr></tbody></table></div>"
      ],
      "text/plain": [
       "shape: (9, 20)\n",
       "┌───────────┬───────────┬───────────┬───────────┬───┬───────────┬───────────┬───────────┬──────────┐\n",
       "│ statistic ┆ VendorID  ┆ tpep_pick ┆ tpep_drop ┆ … ┆ improveme ┆ total_amo ┆ congestio ┆ Airport_ │\n",
       "│ ---       ┆ ---       ┆ up_dateti ┆ off_datet ┆   ┆ nt_surcha ┆ unt       ┆ n_surchar ┆ fee      │\n",
       "│ str       ┆ f64       ┆ me        ┆ ime       ┆   ┆ rge       ┆ ---       ┆ ge        ┆ ---      │\n",
       "│           ┆           ┆ ---       ┆ ---       ┆   ┆ ---       ┆ f64       ┆ ---       ┆ f64      │\n",
       "│           ┆           ┆ str       ┆ str       ┆   ┆ f64       ┆           ┆ f64       ┆          │\n",
       "╞═══════════╪═══════════╪═══════════╪═══════════╪═══╪═══════════╪═══════════╪═══════════╪══════════╡\n",
       "│ count     ┆ 4.1169064 ┆ 41169064  ┆ 41169064  ┆ … ┆ 4.1169064 ┆ 4.1169064 ┆ 3.7077867 ┆ 3.707786 │\n",
       "│           ┆ e7        ┆           ┆           ┆   ┆ e7        ┆ e7        ┆ e7        ┆ 7e7      │\n",
       "│ null_coun ┆ 0.0       ┆ 0         ┆ 0         ┆ … ┆ 0.0       ┆ 0.0       ┆ 4.091197e ┆ 4.091197 │\n",
       "│ t         ┆           ┆           ┆           ┆   ┆           ┆           ┆ 6         ┆ e6       │\n",
       "│ mean      ┆ 1.764231  ┆ 2024-07-0 ┆ 2024-07-0 ┆ … ┆ 0.962994  ┆ 27.832536 ┆ 2.232153  ┆ 0.146999 │\n",
       "│           ┆           ┆ 6 10:06:1 ┆ 6 10:23:4 ┆   ┆           ┆           ┆           ┆          │\n",
       "│           ┆           ┆ 3.130000  ┆ 1.087000  ┆   ┆           ┆           ┆           ┆          │\n",
       "│ std       ┆ 0.425858  ┆ null      ┆ null      ┆ … ┆ 0.255053  ┆ 78.054026 ┆ 0.87464   ┆ 0.502031 │\n",
       "│ min       ┆ 1.0       ┆ 2024-01-0 ┆ 2024-01-0 ┆ … ┆ -1.0      ┆ -2265.45  ┆ -2.5      ┆ -1.75    │\n",
       "│           ┆           ┆ 1         ┆ 1         ┆   ┆           ┆           ┆           ┆          │\n",
       "│           ┆           ┆ 00:00:00  ┆ 00:02:42  ┆   ┆           ┆           ┆           ┆          │\n",
       "│ 25%       ┆ 2.0       ┆ 2024-04-0 ┆ 2024-04-0 ┆ … ┆ 1.0       ┆ 15.75     ┆ 2.5       ┆ 0.0      │\n",
       "│           ┆           ┆ 6         ┆ 6         ┆   ┆           ┆           ┆           ┆          │\n",
       "│           ┆           ┆ 20:06:26  ┆ 20:22:54  ┆   ┆           ┆           ┆           ┆          │\n",
       "│ 50%       ┆ 2.0       ┆ 2024-07-0 ┆ 2024-07-0 ┆ … ┆ 1.0       ┆ 21.0      ┆ 2.5       ┆ 0.0      │\n",
       "│           ┆           ┆ 3         ┆ 3         ┆   ┆           ┆           ┆           ┆          │\n",
       "│           ┆           ┆ 23:28:31  ┆ 23:44:36  ┆   ┆           ┆           ┆           ┆          │\n",
       "│ 75%       ┆ 2.0       ┆ 2024-10-0 ┆ 2024-10-0 ┆ … ┆ 1.0       ┆ 30.6      ┆ 2.5       ┆ 0.0      │\n",
       "│           ┆           ┆ 8         ┆ 8         ┆   ┆           ┆           ┆           ┆          │\n",
       "│           ┆           ┆ 17:30:38  ┆ 17:50:40  ┆   ┆           ┆           ┆           ┆          │\n",
       "│ max       ┆ 7.0       ┆ 2024-12-3 ┆ 2025-01-0 ┆ … ┆ 2.0       ┆ 335550.94 ┆ 2.52      ┆ 1.75     │\n",
       "│           ┆           ┆ 1         ┆ 1         ┆   ┆           ┆           ┆           ┆          │\n",
       "│           ┆           ┆ 23:59:21  ┆ 00:00:00  ┆   ┆           ┆           ┆           ┆          │\n",
       "└───────────┴───────────┴───────────┴───────────┴───┴───────────┴───────────┴───────────┴──────────┘"
      ]
     },
     "execution_count": 5,
     "metadata": {},
     "output_type": "execute_result"
    }
   ],
   "source": [
    "df_2024.describe()"
   ]
  },
  {
   "cell_type": "code",
   "execution_count": 6,
   "metadata": {},
   "outputs": [
    {
     "name": "stderr",
     "output_type": "stream",
     "text": [
      "/var/folders/8j/_nnvcqj93gvgk18wygygd9tw0000gn/T/ipykernel_35828/795530184.py:1: PerformanceWarning: Resolving the schema of a LazyFrame is a potentially expensive operation. Use `LazyFrame.collect_schema()` to get the schema without this warning.\n",
      "  df_2024.schema\n"
     ]
    },
    {
     "data": {
      "text/plain": [
       "Schema([('VendorID', Int32),\n",
       "        ('tpep_pickup_datetime', Datetime(time_unit='ms', time_zone=None)),\n",
       "        ('tpep_dropoff_datetime', Datetime(time_unit='ms', time_zone=None)),\n",
       "        ('passenger_count', Int64),\n",
       "        ('trip_distance', Float64),\n",
       "        ('RatecodeID', Int64),\n",
       "        ('store_and_fwd_flag', String),\n",
       "        ('PULocationID', Int32),\n",
       "        ('DOLocationID', Int32),\n",
       "        ('payment_type', Int64),\n",
       "        ('fare_amount', Float64),\n",
       "        ('extra', Float64),\n",
       "        ('mta_tax', Float64),\n",
       "        ('tip_amount', Float64),\n",
       "        ('tolls_amount', Float64),\n",
       "        ('improvement_surcharge', Float64),\n",
       "        ('total_amount', Float64),\n",
       "        ('congestion_surcharge', Float64),\n",
       "        ('Airport_fee', Float64)])"
      ]
     },
     "execution_count": 6,
     "metadata": {},
     "output_type": "execute_result"
    }
   ],
   "source": [
    "df_2024.schema"
   ]
  },
  {
   "cell_type": "code",
   "execution_count": 7,
   "metadata": {},
   "outputs": [],
   "source": [
    "df_2024 = df_2024.with_columns(\n",
    "    pl.col(\"VendorID\").cast(pl.UInt8),\n",
    "    pl.col(\"passenger_count\").cast(pl.UInt8),\n",
    "    pl.col(\"RatecodeID\").cast(pl.UInt8),\n",
    "    pl.col(\"PULocationID\").cast(pl.UInt16),\n",
    "    pl.col(\"DOLocationID\").cast(pl.UInt16),\n",
    "    pl.col(\"payment_type\").cast(pl.UInt8),\n",
    "    pl.col(\"trip_distance\").cast(pl.Float32),\n",
    "    pl.col(\"fare_amount\").cast(pl.Float32),\n",
    "    pl.col(\"extra\").cast(pl.Float32),\n",
    "    pl.col(\"mta_tax\").cast(pl.Float32),\n",
    "    pl.col(\"tip_amount\").cast(pl.Float32),\n",
    "    pl.col(\"tolls_amount\").cast(pl.Float32),\n",
    "    pl.col(\"improvement_surcharge\").cast(pl.Float32),\n",
    "    pl.col(\"total_amount\").cast(pl.Float32),\n",
    "    pl.col(\"congestion_surcharge\").cast(pl.Float32),\n",
    "    pl.col(\"Airport_fee\").cast(pl.Float32),\n",
    "    pl.col(\"store_and_fwd_flag\").cast(pl.Categorical),\n",
    ")"
   ]
  },
  {
   "cell_type": "code",
   "execution_count": 8,
   "metadata": {},
   "outputs": [
    {
     "name": "stderr",
     "output_type": "stream",
     "text": [
      "/var/folders/8j/_nnvcqj93gvgk18wygygd9tw0000gn/T/ipykernel_35828/795530184.py:1: PerformanceWarning: Resolving the schema of a LazyFrame is a potentially expensive operation. Use `LazyFrame.collect_schema()` to get the schema without this warning.\n",
      "  df_2024.schema\n"
     ]
    },
    {
     "data": {
      "text/plain": [
       "Schema([('VendorID', UInt8),\n",
       "        ('tpep_pickup_datetime', Datetime(time_unit='ms', time_zone=None)),\n",
       "        ('tpep_dropoff_datetime', Datetime(time_unit='ms', time_zone=None)),\n",
       "        ('passenger_count', UInt8),\n",
       "        ('trip_distance', Float32),\n",
       "        ('RatecodeID', UInt8),\n",
       "        ('store_and_fwd_flag', Categorical),\n",
       "        ('PULocationID', UInt16),\n",
       "        ('DOLocationID', UInt16),\n",
       "        ('payment_type', UInt8),\n",
       "        ('fare_amount', Float32),\n",
       "        ('extra', Float32),\n",
       "        ('mta_tax', Float32),\n",
       "        ('tip_amount', Float32),\n",
       "        ('tolls_amount', Float32),\n",
       "        ('improvement_surcharge', Float32),\n",
       "        ('total_amount', Float32),\n",
       "        ('congestion_surcharge', Float32),\n",
       "        ('Airport_fee', Float32)])"
      ]
     },
     "execution_count": 8,
     "metadata": {},
     "output_type": "execute_result"
    }
   ],
   "source": [
    "df_2024.schema"
   ]
  },
  {
   "cell_type": "markdown",
   "metadata": {},
   "source": [
    "Optimize zones LazyFrame\n"
   ]
  },
  {
   "cell_type": "code",
   "execution_count": 9,
   "metadata": {},
   "outputs": [
    {
     "data": {
      "text/html": [
       "<div><style>\n",
       ".dataframe > thead > tr,\n",
       ".dataframe > tbody > tr {\n",
       "  text-align: right;\n",
       "  white-space: pre-wrap;\n",
       "}\n",
       "</style>\n",
       "<small>shape: (9, 5)</small><table border=\"1\" class=\"dataframe\"><thead><tr><th>statistic</th><th>LocationID</th><th>Borough</th><th>Zone</th><th>service_zone</th></tr><tr><td>str</td><td>f64</td><td>str</td><td>str</td><td>str</td></tr></thead><tbody><tr><td>&quot;count&quot;</td><td>265.0</td><td>&quot;265&quot;</td><td>&quot;265&quot;</td><td>&quot;265&quot;</td></tr><tr><td>&quot;null_count&quot;</td><td>0.0</td><td>&quot;0&quot;</td><td>&quot;0&quot;</td><td>&quot;0&quot;</td></tr><tr><td>&quot;mean&quot;</td><td>133.0</td><td>null</td><td>null</td><td>null</td></tr><tr><td>&quot;std&quot;</td><td>76.643112</td><td>null</td><td>null</td><td>null</td></tr><tr><td>&quot;min&quot;</td><td>1.0</td><td>&quot;Bronx&quot;</td><td>&quot;Allerton/Pelham Gardens&quot;</td><td>&quot;Airports&quot;</td></tr><tr><td>&quot;25%&quot;</td><td>67.0</td><td>null</td><td>null</td><td>null</td></tr><tr><td>&quot;50%&quot;</td><td>133.0</td><td>null</td><td>null</td><td>null</td></tr><tr><td>&quot;75%&quot;</td><td>199.0</td><td>null</td><td>null</td><td>null</td></tr><tr><td>&quot;max&quot;</td><td>265.0</td><td>&quot;Unknown&quot;</td><td>&quot;Yorkville West&quot;</td><td>&quot;Yellow Zone&quot;</td></tr></tbody></table></div>"
      ],
      "text/plain": [
       "shape: (9, 5)\n",
       "┌────────────┬────────────┬─────────┬─────────────────────────┬──────────────┐\n",
       "│ statistic  ┆ LocationID ┆ Borough ┆ Zone                    ┆ service_zone │\n",
       "│ ---        ┆ ---        ┆ ---     ┆ ---                     ┆ ---          │\n",
       "│ str        ┆ f64        ┆ str     ┆ str                     ┆ str          │\n",
       "╞════════════╪════════════╪═════════╪═════════════════════════╪══════════════╡\n",
       "│ count      ┆ 265.0      ┆ 265     ┆ 265                     ┆ 265          │\n",
       "│ null_count ┆ 0.0        ┆ 0       ┆ 0                       ┆ 0            │\n",
       "│ mean       ┆ 133.0      ┆ null    ┆ null                    ┆ null         │\n",
       "│ std        ┆ 76.643112  ┆ null    ┆ null                    ┆ null         │\n",
       "│ min        ┆ 1.0        ┆ Bronx   ┆ Allerton/Pelham Gardens ┆ Airports     │\n",
       "│ 25%        ┆ 67.0       ┆ null    ┆ null                    ┆ null         │\n",
       "│ 50%        ┆ 133.0      ┆ null    ┆ null                    ┆ null         │\n",
       "│ 75%        ┆ 199.0      ┆ null    ┆ null                    ┆ null         │\n",
       "│ max        ┆ 265.0      ┆ Unknown ┆ Yorkville West          ┆ Yellow Zone  │\n",
       "└────────────┴────────────┴─────────┴─────────────────────────┴──────────────┘"
      ]
     },
     "execution_count": 9,
     "metadata": {},
     "output_type": "execute_result"
    }
   ],
   "source": [
    "taxi_zones_df.describe()"
   ]
  },
  {
   "cell_type": "code",
   "execution_count": 10,
   "metadata": {},
   "outputs": [],
   "source": [
    "taxi_zones_df = taxi_zones_df.with_columns(\n",
    "    pl.col(\"LocationID\").cast(pl.Int16),\n",
    "    pl.col(\"Borough\").cast(pl.Categorical),\n",
    "    pl.col(\"Zone\").cast(pl.Categorical),\n",
    "    pl.col(\"service_zone\").cast(pl.Categorical),\n",
    ")"
   ]
  },
  {
   "cell_type": "code",
   "execution_count": 11,
   "metadata": {},
   "outputs": [
    {
     "data": {
      "text/plain": [
       "Schema([('LocationID', Int16),\n",
       "        ('Borough', Categorical),\n",
       "        ('Zone', Categorical),\n",
       "        ('service_zone', Categorical)])"
      ]
     },
     "execution_count": 11,
     "metadata": {},
     "output_type": "execute_result"
    }
   ],
   "source": [
    "taxi_zones_df.collect_schema()"
   ]
  },
  {
   "cell_type": "markdown",
   "metadata": {},
   "source": [
    "### 2. Data cleaning and filtering\n"
   ]
  },
  {
   "cell_type": "code",
   "execution_count": 12,
   "metadata": {},
   "outputs": [
    {
     "data": {
      "text/html": [
       "<div><style>\n",
       ".dataframe > thead > tr,\n",
       ".dataframe > tbody > tr {\n",
       "  text-align: right;\n",
       "  white-space: pre-wrap;\n",
       "}\n",
       "</style>\n",
       "<small>shape: (9, 20)</small><table border=\"1\" class=\"dataframe\"><thead><tr><th>statistic</th><th>VendorID</th><th>tpep_pickup_datetime</th><th>tpep_dropoff_datetime</th><th>passenger_count</th><th>trip_distance</th><th>RatecodeID</th><th>store_and_fwd_flag</th><th>PULocationID</th><th>DOLocationID</th><th>payment_type</th><th>fare_amount</th><th>extra</th><th>mta_tax</th><th>tip_amount</th><th>tolls_amount</th><th>improvement_surcharge</th><th>total_amount</th><th>congestion_surcharge</th><th>Airport_fee</th></tr><tr><td>str</td><td>f64</td><td>str</td><td>str</td><td>f64</td><td>f64</td><td>f64</td><td>str</td><td>f64</td><td>f64</td><td>f64</td><td>f64</td><td>f64</td><td>f64</td><td>f64</td><td>f64</td><td>f64</td><td>f64</td><td>f64</td><td>f64</td></tr></thead><tbody><tr><td>&quot;count&quot;</td><td>4.1169064e7</td><td>&quot;41169064&quot;</td><td>&quot;41169064&quot;</td><td>3.7077867e7</td><td>4.1169064e7</td><td>3.7077867e7</td><td>&quot;37077867&quot;</td><td>4.1169064e7</td><td>4.1169064e7</td><td>4.1169064e7</td><td>4.1169064e7</td><td>4.1169064e7</td><td>4.1169064e7</td><td>4.1169064e7</td><td>4.1169064e7</td><td>4.1169064e7</td><td>4.1169064e7</td><td>3.7077867e7</td><td>3.7077867e7</td></tr><tr><td>&quot;null_count&quot;</td><td>0.0</td><td>&quot;0&quot;</td><td>&quot;0&quot;</td><td>4.091197e6</td><td>0.0</td><td>4.091197e6</td><td>&quot;4091197&quot;</td><td>0.0</td><td>0.0</td><td>0.0</td><td>0.0</td><td>0.0</td><td>0.0</td><td>0.0</td><td>0.0</td><td>0.0</td><td>0.0</td><td>4.091197e6</td><td>4.091197e6</td></tr><tr><td>&quot;mean&quot;</td><td>1.764231</td><td>&quot;2024-07-06 10:06:13.130000&quot;</td><td>&quot;2024-07-06 10:23:41.087000&quot;</td><td>1.333927</td><td>4.97605</td><td>2.322168</td><td>null</td><td>164.243041</td><td>163.447651</td><td>1.107255</td><td>19.268278</td><td>1.385948</td><td>0.479778</td><td>3.307858</td><td>0.561511</td><td>0.962994</td><td>27.832537</td><td>2.232153</td><td>0.146999</td></tr><tr><td>&quot;std&quot;</td><td>0.425858</td><td>null</td><td>null</td><td>0.815821</td><td>419.233826</td><td>10.928139</td><td>null</td><td>64.340795</td><td>69.599929</td><td>0.651506</td><td>76.720322</td><td>1.815873</td><td>0.130182</td><td>4.090466</td><td>2.240516</td><td>0.255053</td><td>78.054024</td><td>0.87464</td><td>0.502031</td></tr><tr><td>&quot;min&quot;</td><td>1.0</td><td>&quot;2024-01-01 00:00:00&quot;</td><td>&quot;2024-01-01 00:02:42&quot;</td><td>0.0</td><td>0.0</td><td>1.0</td><td>null</td><td>1.0</td><td>1.0</td><td>0.0</td><td>-2261.199951</td><td>-9.25</td><td>-0.5</td><td>-300.0</td><td>-140.630005</td><td>-1.0</td><td>-2265.449951</td><td>-2.5</td><td>-1.75</td></tr><tr><td>&quot;25%&quot;</td><td>2.0</td><td>&quot;2024-04-06 20:06:26&quot;</td><td>&quot;2024-04-06 20:22:54&quot;</td><td>1.0</td><td>1.01</td><td>1.0</td><td>null</td><td>132.0</td><td>113.0</td><td>1.0</td><td>9.3</td><td>0.0</td><td>0.5</td><td>0.0</td><td>0.0</td><td>1.0</td><td>15.75</td><td>2.5</td><td>0.0</td></tr><tr><td>&quot;50%&quot;</td><td>2.0</td><td>&quot;2024-07-03 23:28:31&quot;</td><td>&quot;2024-07-03 23:44:36&quot;</td><td>1.0</td><td>1.76</td><td>1.0</td><td>null</td><td>161.0</td><td>162.0</td><td>1.0</td><td>13.5</td><td>1.0</td><td>0.5</td><td>2.6</td><td>0.0</td><td>1.0</td><td>21.0</td><td>2.5</td><td>0.0</td></tr><tr><td>&quot;75%&quot;</td><td>2.0</td><td>&quot;2024-10-08 17:30:38&quot;</td><td>&quot;2024-10-08 17:50:40&quot;</td><td>1.0</td><td>3.36</td><td>1.0</td><td>null</td><td>233.0</td><td>234.0</td><td>1.0</td><td>22.6</td><td>2.5</td><td>0.5</td><td>4.25</td><td>0.0</td><td>1.0</td><td>30.6</td><td>2.5</td><td>0.0</td></tr><tr><td>&quot;max&quot;</td><td>7.0</td><td>&quot;2024-12-31 23:59:21&quot;</td><td>&quot;2025-01-01 00:00:00&quot;</td><td>9.0</td><td>398608.625</td><td>99.0</td><td>null</td><td>265.0</td><td>265.0</td><td>5.0</td><td>335544.4375</td><td>65.989998</td><td>41.299999</td><td>999.98999</td><td>1702.880005</td><td>2.0</td><td>335550.9375</td><td>2.52</td><td>1.75</td></tr></tbody></table></div>"
      ],
      "text/plain": [
       "shape: (9, 20)\n",
       "┌───────────┬───────────┬───────────┬───────────┬───┬───────────┬───────────┬───────────┬──────────┐\n",
       "│ statistic ┆ VendorID  ┆ tpep_pick ┆ tpep_drop ┆ … ┆ improveme ┆ total_amo ┆ congestio ┆ Airport_ │\n",
       "│ ---       ┆ ---       ┆ up_dateti ┆ off_datet ┆   ┆ nt_surcha ┆ unt       ┆ n_surchar ┆ fee      │\n",
       "│ str       ┆ f64       ┆ me        ┆ ime       ┆   ┆ rge       ┆ ---       ┆ ge        ┆ ---      │\n",
       "│           ┆           ┆ ---       ┆ ---       ┆   ┆ ---       ┆ f64       ┆ ---       ┆ f64      │\n",
       "│           ┆           ┆ str       ┆ str       ┆   ┆ f64       ┆           ┆ f64       ┆          │\n",
       "╞═══════════╪═══════════╪═══════════╪═══════════╪═══╪═══════════╪═══════════╪═══════════╪══════════╡\n",
       "│ count     ┆ 4.1169064 ┆ 41169064  ┆ 41169064  ┆ … ┆ 4.1169064 ┆ 4.1169064 ┆ 3.7077867 ┆ 3.707786 │\n",
       "│           ┆ e7        ┆           ┆           ┆   ┆ e7        ┆ e7        ┆ e7        ┆ 7e7      │\n",
       "│ null_coun ┆ 0.0       ┆ 0         ┆ 0         ┆ … ┆ 0.0       ┆ 0.0       ┆ 4.091197e ┆ 4.091197 │\n",
       "│ t         ┆           ┆           ┆           ┆   ┆           ┆           ┆ 6         ┆ e6       │\n",
       "│ mean      ┆ 1.764231  ┆ 2024-07-0 ┆ 2024-07-0 ┆ … ┆ 0.962994  ┆ 27.832537 ┆ 2.232153  ┆ 0.146999 │\n",
       "│           ┆           ┆ 6 10:06:1 ┆ 6 10:23:4 ┆   ┆           ┆           ┆           ┆          │\n",
       "│           ┆           ┆ 3.130000  ┆ 1.087000  ┆   ┆           ┆           ┆           ┆          │\n",
       "│ std       ┆ 0.425858  ┆ null      ┆ null      ┆ … ┆ 0.255053  ┆ 78.054024 ┆ 0.87464   ┆ 0.502031 │\n",
       "│ min       ┆ 1.0       ┆ 2024-01-0 ┆ 2024-01-0 ┆ … ┆ -1.0      ┆ -2265.449 ┆ -2.5      ┆ -1.75    │\n",
       "│           ┆           ┆ 1         ┆ 1         ┆   ┆           ┆ 951       ┆           ┆          │\n",
       "│           ┆           ┆ 00:00:00  ┆ 00:02:42  ┆   ┆           ┆           ┆           ┆          │\n",
       "│ 25%       ┆ 2.0       ┆ 2024-04-0 ┆ 2024-04-0 ┆ … ┆ 1.0       ┆ 15.75     ┆ 2.5       ┆ 0.0      │\n",
       "│           ┆           ┆ 6         ┆ 6         ┆   ┆           ┆           ┆           ┆          │\n",
       "│           ┆           ┆ 20:06:26  ┆ 20:22:54  ┆   ┆           ┆           ┆           ┆          │\n",
       "│ 50%       ┆ 2.0       ┆ 2024-07-0 ┆ 2024-07-0 ┆ … ┆ 1.0       ┆ 21.0      ┆ 2.5       ┆ 0.0      │\n",
       "│           ┆           ┆ 3         ┆ 3         ┆   ┆           ┆           ┆           ┆          │\n",
       "│           ┆           ┆ 23:28:31  ┆ 23:44:36  ┆   ┆           ┆           ┆           ┆          │\n",
       "│ 75%       ┆ 2.0       ┆ 2024-10-0 ┆ 2024-10-0 ┆ … ┆ 1.0       ┆ 30.6      ┆ 2.5       ┆ 0.0      │\n",
       "│           ┆           ┆ 8         ┆ 8         ┆   ┆           ┆           ┆           ┆          │\n",
       "│           ┆           ┆ 17:30:38  ┆ 17:50:40  ┆   ┆           ┆           ┆           ┆          │\n",
       "│ max       ┆ 7.0       ┆ 2024-12-3 ┆ 2025-01-0 ┆ … ┆ 2.0       ┆ 335550.93 ┆ 2.52      ┆ 1.75     │\n",
       "│           ┆           ┆ 1         ┆ 1         ┆   ┆           ┆ 75        ┆           ┆          │\n",
       "│           ┆           ┆ 23:59:21  ┆ 00:00:00  ┆   ┆           ┆           ┆           ┆          │\n",
       "└───────────┴───────────┴───────────┴───────────┴───┴───────────┴───────────┴───────────┴──────────┘"
      ]
     },
     "execution_count": 12,
     "metadata": {},
     "output_type": "execute_result"
    }
   ],
   "source": [
    "df_2024.describe()"
   ]
  },
  {
   "cell_type": "markdown",
   "metadata": {},
   "source": [
    "Fill null values in the \"passenger_count\" column with 1\n"
   ]
  },
  {
   "cell_type": "code",
   "execution_count": 13,
   "metadata": {},
   "outputs": [],
   "source": [
    "df_2024 = df_2024.with_columns(pl.col(\"passenger_count\").fill_null(1))"
   ]
  },
  {
   "cell_type": "markdown",
   "metadata": {},
   "source": [
    "Remove rides with 0 passengers\n"
   ]
  },
  {
   "cell_type": "code",
   "execution_count": 14,
   "metadata": {},
   "outputs": [],
   "source": [
    "df_2024 = df_2024.filter(pl.col(\"passenger_count\") > 0)"
   ]
  },
  {
   "cell_type": "markdown",
   "metadata": {},
   "source": [
    "Replace passenger_count with 6 if a ride has over 6 passengers\n"
   ]
  },
  {
   "cell_type": "code",
   "execution_count": 15,
   "metadata": {},
   "outputs": [],
   "source": [
    "df_2024 = df_2024.with_columns(pl.col(\"passenger_count\").clip(upper_bound=6))"
   ]
  },
  {
   "cell_type": "markdown",
   "metadata": {},
   "source": [
    "Remove rides lasting over 2 hours\n"
   ]
  },
  {
   "cell_type": "code",
   "execution_count": 16,
   "metadata": {},
   "outputs": [],
   "source": [
    "df_2024 = df_2024.filter(\n",
    "    (\n",
    "        pl.col(\"tpep_dropoff_datetime\") - pl.col(\"tpep_pickup_datetime\")\n",
    "    ).dt.total_minutes()\n",
    "    < 120\n",
    ")"
   ]
  },
  {
   "cell_type": "markdown",
   "metadata": {},
   "source": [
    "In all money-related columns, replace values with absolute value to fix negative amounts\n"
   ]
  },
  {
   "cell_type": "code",
   "execution_count": 17,
   "metadata": {},
   "outputs": [],
   "source": [
    "df_2024 = df_2024.with_columns(\n",
    "    pl.col(\"fare_amount\").abs(),\n",
    "    pl.col(\"extra\").abs(),\n",
    "    pl.col(\"mta_tax\").abs(),\n",
    "    pl.col(\"tip_amount\").abs(),\n",
    "    pl.col(\"tolls_amount\").abs(),\n",
    "    pl.col(\"improvement_surcharge\").abs(),\n",
    "    pl.col(\"total_amount\").abs(),\n",
    "    pl.col(\"congestion_surcharge\").abs(),\n",
    "    pl.col(\"Airport_fee\").abs(),\n",
    ")"
   ]
  },
  {
   "cell_type": "markdown",
   "metadata": {},
   "source": [
    "Remove rides with over 1000 dollars in any money-related column\n"
   ]
  },
  {
   "cell_type": "code",
   "execution_count": 18,
   "metadata": {},
   "outputs": [],
   "source": [
    "df_2024 = df_2024.with_columns(\n",
    "    pl.col(\"fare_amount\").clip(upper_bound=1000),\n",
    "    pl.col(\"extra\").clip(upper_bound=1000),\n",
    "    pl.col(\"mta_tax\").clip(upper_bound=1000),\n",
    "    pl.col(\"tip_amount\").clip(upper_bound=1000),\n",
    "    pl.col(\"tolls_amount\").clip(upper_bound=1000),\n",
    "    pl.col(\"improvement_surcharge\").clip(upper_bound=1000),\n",
    "    pl.col(\"total_amount\").clip(upper_bound=1000),\n",
    "    pl.col(\"congestion_surcharge\").clip(upper_bound=1000),\n",
    "    pl.col(\"Airport_fee\").clip(upper_bound=1000),\n",
    ")"
   ]
  },
  {
   "cell_type": "markdown",
   "metadata": {},
   "source": [
    "Remove rows with values of RatecodeID or VendorID missing or outside those defined in the data dictionary\n"
   ]
  },
  {
   "cell_type": "code",
   "execution_count": 19,
   "metadata": {},
   "outputs": [],
   "source": [
    "df_2024 = df_2024.filter(\n",
    "    (pl.col(\"VendorID\").is_not_null())\n",
    "    & (pl.col(\"RatecodeID\").is_not_null())\n",
    "    & (pl.col(\"VendorID\").is_in([1, 2, 6, 7]))\n",
    "    & (pl.col(\"RatecodeID\").is_in([1, 2, 3, 4, 5, 6, 99]))\n",
    ")"
   ]
  },
  {
   "cell_type": "code",
   "execution_count": 20,
   "metadata": {},
   "outputs": [
    {
     "data": {
      "text/html": [
       "<div><style>\n",
       ".dataframe > thead > tr,\n",
       ".dataframe > tbody > tr {\n",
       "  text-align: right;\n",
       "  white-space: pre-wrap;\n",
       "}\n",
       "</style>\n",
       "<small>shape: (9, 20)</small><table border=\"1\" class=\"dataframe\"><thead><tr><th>statistic</th><th>VendorID</th><th>tpep_pickup_datetime</th><th>tpep_dropoff_datetime</th><th>passenger_count</th><th>trip_distance</th><th>RatecodeID</th><th>store_and_fwd_flag</th><th>PULocationID</th><th>DOLocationID</th><th>payment_type</th><th>fare_amount</th><th>extra</th><th>mta_tax</th><th>tip_amount</th><th>tolls_amount</th><th>improvement_surcharge</th><th>total_amount</th><th>congestion_surcharge</th><th>Airport_fee</th></tr><tr><td>str</td><td>f64</td><td>str</td><td>str</td><td>f64</td><td>f64</td><td>f64</td><td>str</td><td>f64</td><td>f64</td><td>f64</td><td>f64</td><td>f64</td><td>f64</td><td>f64</td><td>f64</td><td>f64</td><td>f64</td><td>f64</td><td>f64</td></tr></thead><tbody><tr><td>&quot;count&quot;</td><td>3.663524e7</td><td>&quot;36635240&quot;</td><td>&quot;36635240&quot;</td><td>3.663524e7</td><td>3.663524e7</td><td>3.663524e7</td><td>&quot;36635240&quot;</td><td>3.663524e7</td><td>3.663524e7</td><td>3.663524e7</td><td>3.663524e7</td><td>3.663524e7</td><td>3.663524e7</td><td>3.663524e7</td><td>3.663524e7</td><td>3.663524e7</td><td>3.663524e7</td><td>3.663524e7</td><td>3.663524e7</td></tr><tr><td>&quot;null_count&quot;</td><td>0.0</td><td>&quot;0&quot;</td><td>&quot;0&quot;</td><td>0.0</td><td>0.0</td><td>0.0</td><td>&quot;0&quot;</td><td>0.0</td><td>0.0</td><td>0.0</td><td>0.0</td><td>0.0</td><td>0.0</td><td>0.0</td><td>0.0</td><td>0.0</td><td>0.0</td><td>0.0</td><td>0.0</td></tr><tr><td>&quot;mean&quot;</td><td>1.769662</td><td>&quot;2024-07-05 17:21:33.660000&quot;</td><td>&quot;2024-07-05 17:38:13.489000&quot;</td><td>1.3483</td><td>3.500941</td><td>2.291132</td><td>null</td><td>164.974237</td><td>164.290253</td><td>1.229276</td><td>19.913923</td><td>1.547185</td><td>0.493484</td><td>3.595956</td><td>0.619858</td><td>0.992087</td><td>29.083256</td><td>2.299824</td><td>0.156961</td></tr><tr><td>&quot;std&quot;</td><td>0.421273</td><td>null</td><td>null</td><td>0.807489</td><td>85.858627</td><td>10.791904</td><td>null</td><td>63.332206</td><td>69.341322</td><td>0.567188</td><td>18.840296</td><td>1.815981</td><td>0.057169</td><td>4.143783</td><td>2.288974</td><td>0.088493</td><td>23.515465</td><td>0.678505</td><td>0.500044</td></tr><tr><td>&quot;min&quot;</td><td>1.0</td><td>&quot;2024-01-01 00:00:00&quot;</td><td>&quot;2024-01-01 00:02:42&quot;</td><td>1.0</td><td>0.0</td><td>1.0</td><td>null</td><td>1.0</td><td>1.0</td><td>1.0</td><td>0.0</td><td>0.0</td><td>0.0</td><td>0.0</td><td>0.0</td><td>0.0</td><td>0.0</td><td>0.0</td><td>0.0</td></tr><tr><td>&quot;25%&quot;</td><td>2.0</td><td>&quot;2024-04-05 15:17:29&quot;</td><td>&quot;2024-04-05 15:37:34&quot;</td><td>1.0</td><td>1.0</td><td>1.0</td><td>null</td><td>132.0</td><td>114.0</td><td>1.0</td><td>9.3</td><td>0.0</td><td>0.5</td><td>1.0</td><td>0.0</td><td>1.0</td><td>15.96</td><td>2.5</td><td>0.0</td></tr><tr><td>&quot;50%&quot;</td><td>2.0</td><td>&quot;2024-07-03 16:10:09&quot;</td><td>&quot;2024-07-03 16:28:33&quot;</td><td>1.0</td><td>1.7</td><td>1.0</td><td>null</td><td>162.0</td><td>162.0</td><td>1.0</td><td>13.5</td><td>1.0</td><td>0.5</td><td>2.86</td><td>0.0</td><td>1.0</td><td>21.0</td><td>2.5</td><td>0.0</td></tr><tr><td>&quot;75%&quot;</td><td>2.0</td><td>&quot;2024-10-08 19:41:43&quot;</td><td>&quot;2024-10-08 19:57:57&quot;</td><td>1.0</td><td>3.27</td><td>1.0</td><td>null</td><td>233.0</td><td>234.0</td><td>1.0</td><td>21.9</td><td>2.5</td><td>0.5</td><td>4.45</td><td>0.0</td><td>1.0</td><td>30.940001</td><td>2.5</td><td>0.0</td></tr><tr><td>&quot;max&quot;</td><td>7.0</td><td>&quot;2024-12-31 23:59:21&quot;</td><td>&quot;2025-01-01 00:00:00&quot;</td><td>6.0</td><td>160244.90625</td><td>99.0</td><td>null</td><td>265.0</td><td>265.0</td><td>5.0</td><td>1000.0</td><td>65.989998</td><td>35.84</td><td>999.98999</td><td>1000.0</td><td>1.0</td><td>1000.0</td><td>2.52</td><td>1.75</td></tr></tbody></table></div>"
      ],
      "text/plain": [
       "shape: (9, 20)\n",
       "┌───────────┬───────────┬───────────┬───────────┬───┬───────────┬───────────┬───────────┬──────────┐\n",
       "│ statistic ┆ VendorID  ┆ tpep_pick ┆ tpep_drop ┆ … ┆ improveme ┆ total_amo ┆ congestio ┆ Airport_ │\n",
       "│ ---       ┆ ---       ┆ up_dateti ┆ off_datet ┆   ┆ nt_surcha ┆ unt       ┆ n_surchar ┆ fee      │\n",
       "│ str       ┆ f64       ┆ me        ┆ ime       ┆   ┆ rge       ┆ ---       ┆ ge        ┆ ---      │\n",
       "│           ┆           ┆ ---       ┆ ---       ┆   ┆ ---       ┆ f64       ┆ ---       ┆ f64      │\n",
       "│           ┆           ┆ str       ┆ str       ┆   ┆ f64       ┆           ┆ f64       ┆          │\n",
       "╞═══════════╪═══════════╪═══════════╪═══════════╪═══╪═══════════╪═══════════╪═══════════╪══════════╡\n",
       "│ count     ┆ 3.663524e ┆ 36635240  ┆ 36635240  ┆ … ┆ 3.663524e ┆ 3.663524e ┆ 3.663524e ┆ 3.663524 │\n",
       "│           ┆ 7         ┆           ┆           ┆   ┆ 7         ┆ 7         ┆ 7         ┆ e7       │\n",
       "│ null_coun ┆ 0.0       ┆ 0         ┆ 0         ┆ … ┆ 0.0       ┆ 0.0       ┆ 0.0       ┆ 0.0      │\n",
       "│ t         ┆           ┆           ┆           ┆   ┆           ┆           ┆           ┆          │\n",
       "│ mean      ┆ 1.769662  ┆ 2024-07-0 ┆ 2024-07-0 ┆ … ┆ 0.992087  ┆ 29.083256 ┆ 2.299824  ┆ 0.156961 │\n",
       "│           ┆           ┆ 5 17:21:3 ┆ 5 17:38:1 ┆   ┆           ┆           ┆           ┆          │\n",
       "│           ┆           ┆ 3.660000  ┆ 3.489000  ┆   ┆           ┆           ┆           ┆          │\n",
       "│ std       ┆ 0.421273  ┆ null      ┆ null      ┆ … ┆ 0.088493  ┆ 23.515465 ┆ 0.678505  ┆ 0.500044 │\n",
       "│ min       ┆ 1.0       ┆ 2024-01-0 ┆ 2024-01-0 ┆ … ┆ 0.0       ┆ 0.0       ┆ 0.0       ┆ 0.0      │\n",
       "│           ┆           ┆ 1         ┆ 1         ┆   ┆           ┆           ┆           ┆          │\n",
       "│           ┆           ┆ 00:00:00  ┆ 00:02:42  ┆   ┆           ┆           ┆           ┆          │\n",
       "│ 25%       ┆ 2.0       ┆ 2024-04-0 ┆ 2024-04-0 ┆ … ┆ 1.0       ┆ 15.96     ┆ 2.5       ┆ 0.0      │\n",
       "│           ┆           ┆ 5         ┆ 5         ┆   ┆           ┆           ┆           ┆          │\n",
       "│           ┆           ┆ 15:17:29  ┆ 15:37:34  ┆   ┆           ┆           ┆           ┆          │\n",
       "│ 50%       ┆ 2.0       ┆ 2024-07-0 ┆ 2024-07-0 ┆ … ┆ 1.0       ┆ 21.0      ┆ 2.5       ┆ 0.0      │\n",
       "│           ┆           ┆ 3         ┆ 3         ┆   ┆           ┆           ┆           ┆          │\n",
       "│           ┆           ┆ 16:10:09  ┆ 16:28:33  ┆   ┆           ┆           ┆           ┆          │\n",
       "│ 75%       ┆ 2.0       ┆ 2024-10-0 ┆ 2024-10-0 ┆ … ┆ 1.0       ┆ 30.940001 ┆ 2.5       ┆ 0.0      │\n",
       "│           ┆           ┆ 8         ┆ 8         ┆   ┆           ┆           ┆           ┆          │\n",
       "│           ┆           ┆ 19:41:43  ┆ 19:57:57  ┆   ┆           ┆           ┆           ┆          │\n",
       "│ max       ┆ 7.0       ┆ 2024-12-3 ┆ 2025-01-0 ┆ … ┆ 1.0       ┆ 1000.0    ┆ 2.52      ┆ 1.75     │\n",
       "│           ┆           ┆ 1         ┆ 1         ┆   ┆           ┆           ┆           ┆          │\n",
       "│           ┆           ┆ 23:59:21  ┆ 00:00:00  ┆   ┆           ┆           ┆           ┆          │\n",
       "└───────────┴───────────┴───────────┴───────────┴───┴───────────┴───────────┴───────────┴──────────┘"
      ]
     },
     "execution_count": 20,
     "metadata": {},
     "output_type": "execute_result"
    }
   ],
   "source": [
    "df_2024.describe()"
   ]
  },
  {
   "cell_type": "markdown",
   "metadata": {},
   "source": [
    "### 3. Data transformation\n"
   ]
  },
  {
   "cell_type": "markdown",
   "metadata": {},
   "source": [
    "Combine payment type values of \"No charge\", \"Dispute\", \"Unknown\" and \"Voided trip\" into \"Other\"\n"
   ]
  },
  {
   "cell_type": "code",
   "execution_count": 21,
   "metadata": {},
   "outputs": [],
   "source": [
    "df_2024 = df_2024.with_columns(\n",
    "    pl.when(pl.col(\"payment_type\").is_in([3, 4, 5, 6]))\n",
    "    .then(pl.lit(0))\n",
    "    .otherwise(pl.col(\"payment_type\"))\n",
    "    .alias(\"payment_type\")\n",
    ")"
   ]
  },
  {
   "cell_type": "markdown",
   "metadata": {},
   "source": [
    "Replace PULocationID and DOLocationID with borough names\n"
   ]
  },
  {
   "cell_type": "code",
   "execution_count": 22,
   "metadata": {},
   "outputs": [],
   "source": [
    "df_2024 = (\n",
    "    df_2024.join(\n",
    "        taxi_zones_df.select(pl.col(\"LocationID\"), pl.col(\"Borough\")),\n",
    "        left_on=\"PULocationID\",\n",
    "        right_on=\"LocationID\",\n",
    "        how=\"left\",\n",
    "    )\n",
    "    .rename({\"Borough\": \"PUBorough\"})\n",
    "    .join(\n",
    "        taxi_zones_df.select(pl.col(\"LocationID\", \"Borough\")),\n",
    "        left_on=\"DOLocationID\",\n",
    "        right_on=\"LocationID\",\n",
    "    )\n",
    "    .rename({\"Borough\": \"DOBorough\"})\n",
    ")"
   ]
  },
  {
   "cell_type": "code",
   "execution_count": 23,
   "metadata": {},
   "outputs": [],
   "source": [
    "df_2024 = df_2024.drop([\"PULocationID\", \"DOLocationID\"])"
   ]
  },
  {
   "cell_type": "markdown",
   "metadata": {},
   "source": [
    "Add boolean variable is_airport_ride\n"
   ]
  },
  {
   "cell_type": "code",
   "execution_count": 24,
   "metadata": {},
   "outputs": [],
   "source": [
    "df_2024 = df_2024.with_columns(\n",
    "    pl.when(pl.col(\"Airport_fee\") > 0)\n",
    "    .then(True)\n",
    "    .otherwise(False)\n",
    "    .alias(\"is_airport_ride\")\n",
    ")"
   ]
  },
  {
   "cell_type": "code",
   "execution_count": 25,
   "metadata": {},
   "outputs": [
    {
     "data": {
      "text/html": [
       "<div><style>\n",
       ".dataframe > thead > tr,\n",
       ".dataframe > tbody > tr {\n",
       "  text-align: right;\n",
       "  white-space: pre-wrap;\n",
       "}\n",
       "</style>\n",
       "<small>shape: (9, 21)</small><table border=\"1\" class=\"dataframe\"><thead><tr><th>statistic</th><th>VendorID</th><th>tpep_pickup_datetime</th><th>tpep_dropoff_datetime</th><th>passenger_count</th><th>trip_distance</th><th>RatecodeID</th><th>store_and_fwd_flag</th><th>payment_type</th><th>fare_amount</th><th>extra</th><th>mta_tax</th><th>tip_amount</th><th>tolls_amount</th><th>improvement_surcharge</th><th>total_amount</th><th>congestion_surcharge</th><th>Airport_fee</th><th>PUBorough</th><th>DOBorough</th><th>is_airport_ride</th></tr><tr><td>str</td><td>f64</td><td>str</td><td>str</td><td>f64</td><td>f64</td><td>f64</td><td>str</td><td>f64</td><td>f64</td><td>f64</td><td>f64</td><td>f64</td><td>f64</td><td>f64</td><td>f64</td><td>f64</td><td>f64</td><td>str</td><td>str</td><td>f64</td></tr></thead><tbody><tr><td>&quot;count&quot;</td><td>3.663524e7</td><td>&quot;36635240&quot;</td><td>&quot;36635240&quot;</td><td>3.663524e7</td><td>3.663524e7</td><td>3.663524e7</td><td>&quot;36635240&quot;</td><td>3.663524e7</td><td>3.663524e7</td><td>3.663524e7</td><td>3.663524e7</td><td>3.663524e7</td><td>3.663524e7</td><td>3.663524e7</td><td>3.663524e7</td><td>3.663524e7</td><td>3.663524e7</td><td>&quot;36635240&quot;</td><td>&quot;36635240&quot;</td><td>3.663524e7</td></tr><tr><td>&quot;null_count&quot;</td><td>0.0</td><td>&quot;0&quot;</td><td>&quot;0&quot;</td><td>0.0</td><td>0.0</td><td>0.0</td><td>&quot;0&quot;</td><td>0.0</td><td>0.0</td><td>0.0</td><td>0.0</td><td>0.0</td><td>0.0</td><td>0.0</td><td>0.0</td><td>0.0</td><td>0.0</td><td>&quot;0&quot;</td><td>&quot;0&quot;</td><td>0.0</td></tr><tr><td>&quot;mean&quot;</td><td>1.769662</td><td>&quot;2024-07-05 17:21:33.660000&quot;</td><td>&quot;2024-07-05 17:38:13.489000&quot;</td><td>1.3483</td><td>3.500941</td><td>2.291132</td><td>null</td><td>1.1198</td><td>19.913923</td><td>1.547185</td><td>0.493484</td><td>3.595956</td><td>0.619858</td><td>0.992087</td><td>29.083256</td><td>2.299824</td><td>0.156961</td><td>null</td><td>null</td><td>0.089692</td></tr><tr><td>&quot;std&quot;</td><td>0.421273</td><td>null</td><td>null</td><td>0.807489</td><td>85.858627</td><td>10.791904</td><td>null</td><td>0.405007</td><td>18.840296</td><td>1.815981</td><td>0.057169</td><td>4.143783</td><td>2.288974</td><td>0.088493</td><td>23.515465</td><td>0.678505</td><td>0.500044</td><td>null</td><td>null</td><td>null</td></tr><tr><td>&quot;min&quot;</td><td>1.0</td><td>&quot;2024-01-01 00:00:00&quot;</td><td>&quot;2024-01-01 00:02:42&quot;</td><td>1.0</td><td>0.0</td><td>1.0</td><td>null</td><td>0.0</td><td>0.0</td><td>0.0</td><td>0.0</td><td>0.0</td><td>0.0</td><td>0.0</td><td>0.0</td><td>0.0</td><td>0.0</td><td>null</td><td>null</td><td>0.0</td></tr><tr><td>&quot;25%&quot;</td><td>2.0</td><td>&quot;2024-04-05 15:17:29&quot;</td><td>&quot;2024-04-05 15:37:34&quot;</td><td>1.0</td><td>1.0</td><td>1.0</td><td>null</td><td>1.0</td><td>9.3</td><td>0.0</td><td>0.5</td><td>1.0</td><td>0.0</td><td>1.0</td><td>15.96</td><td>2.5</td><td>0.0</td><td>null</td><td>null</td><td>null</td></tr><tr><td>&quot;50%&quot;</td><td>2.0</td><td>&quot;2024-07-03 16:10:09&quot;</td><td>&quot;2024-07-03 16:28:33&quot;</td><td>1.0</td><td>1.7</td><td>1.0</td><td>null</td><td>1.0</td><td>13.5</td><td>1.0</td><td>0.5</td><td>2.86</td><td>0.0</td><td>1.0</td><td>21.0</td><td>2.5</td><td>0.0</td><td>null</td><td>null</td><td>null</td></tr><tr><td>&quot;75%&quot;</td><td>2.0</td><td>&quot;2024-10-08 19:41:43&quot;</td><td>&quot;2024-10-08 19:57:57&quot;</td><td>1.0</td><td>3.27</td><td>1.0</td><td>null</td><td>1.0</td><td>21.9</td><td>2.5</td><td>0.5</td><td>4.45</td><td>0.0</td><td>1.0</td><td>30.940001</td><td>2.5</td><td>0.0</td><td>null</td><td>null</td><td>null</td></tr><tr><td>&quot;max&quot;</td><td>7.0</td><td>&quot;2024-12-31 23:59:21&quot;</td><td>&quot;2025-01-01 00:00:00&quot;</td><td>6.0</td><td>160244.90625</td><td>99.0</td><td>null</td><td>2.0</td><td>1000.0</td><td>65.989998</td><td>35.84</td><td>999.98999</td><td>1000.0</td><td>1.0</td><td>1000.0</td><td>2.52</td><td>1.75</td><td>null</td><td>null</td><td>1.0</td></tr></tbody></table></div>"
      ],
      "text/plain": [
       "shape: (9, 21)\n",
       "┌───────────┬───────────┬───────────┬───────────┬───┬───────────┬───────────┬───────────┬──────────┐\n",
       "│ statistic ┆ VendorID  ┆ tpep_pick ┆ tpep_drop ┆ … ┆ Airport_f ┆ PUBorough ┆ DOBorough ┆ is_airpo │\n",
       "│ ---       ┆ ---       ┆ up_dateti ┆ off_datet ┆   ┆ ee        ┆ ---       ┆ ---       ┆ rt_ride  │\n",
       "│ str       ┆ f64       ┆ me        ┆ ime       ┆   ┆ ---       ┆ str       ┆ str       ┆ ---      │\n",
       "│           ┆           ┆ ---       ┆ ---       ┆   ┆ f64       ┆           ┆           ┆ f64      │\n",
       "│           ┆           ┆ str       ┆ str       ┆   ┆           ┆           ┆           ┆          │\n",
       "╞═══════════╪═══════════╪═══════════╪═══════════╪═══╪═══════════╪═══════════╪═══════════╪══════════╡\n",
       "│ count     ┆ 3.663524e ┆ 36635240  ┆ 36635240  ┆ … ┆ 3.663524e ┆ 36635240  ┆ 36635240  ┆ 3.663524 │\n",
       "│           ┆ 7         ┆           ┆           ┆   ┆ 7         ┆           ┆           ┆ e7       │\n",
       "│ null_coun ┆ 0.0       ┆ 0         ┆ 0         ┆ … ┆ 0.0       ┆ 0         ┆ 0         ┆ 0.0      │\n",
       "│ t         ┆           ┆           ┆           ┆   ┆           ┆           ┆           ┆          │\n",
       "│ mean      ┆ 1.769662  ┆ 2024-07-0 ┆ 2024-07-0 ┆ … ┆ 0.156961  ┆ null      ┆ null      ┆ 0.089692 │\n",
       "│           ┆           ┆ 5 17:21:3 ┆ 5 17:38:1 ┆   ┆           ┆           ┆           ┆          │\n",
       "│           ┆           ┆ 3.660000  ┆ 3.489000  ┆   ┆           ┆           ┆           ┆          │\n",
       "│ std       ┆ 0.421273  ┆ null      ┆ null      ┆ … ┆ 0.500044  ┆ null      ┆ null      ┆ null     │\n",
       "│ min       ┆ 1.0       ┆ 2024-01-0 ┆ 2024-01-0 ┆ … ┆ 0.0       ┆ null      ┆ null      ┆ 0.0      │\n",
       "│           ┆           ┆ 1         ┆ 1         ┆   ┆           ┆           ┆           ┆          │\n",
       "│           ┆           ┆ 00:00:00  ┆ 00:02:42  ┆   ┆           ┆           ┆           ┆          │\n",
       "│ 25%       ┆ 2.0       ┆ 2024-04-0 ┆ 2024-04-0 ┆ … ┆ 0.0       ┆ null      ┆ null      ┆ null     │\n",
       "│           ┆           ┆ 5         ┆ 5         ┆   ┆           ┆           ┆           ┆          │\n",
       "│           ┆           ┆ 15:17:29  ┆ 15:37:34  ┆   ┆           ┆           ┆           ┆          │\n",
       "│ 50%       ┆ 2.0       ┆ 2024-07-0 ┆ 2024-07-0 ┆ … ┆ 0.0       ┆ null      ┆ null      ┆ null     │\n",
       "│           ┆           ┆ 3         ┆ 3         ┆   ┆           ┆           ┆           ┆          │\n",
       "│           ┆           ┆ 16:10:09  ┆ 16:28:33  ┆   ┆           ┆           ┆           ┆          │\n",
       "│ 75%       ┆ 2.0       ┆ 2024-10-0 ┆ 2024-10-0 ┆ … ┆ 0.0       ┆ null      ┆ null      ┆ null     │\n",
       "│           ┆           ┆ 8         ┆ 8         ┆   ┆           ┆           ┆           ┆          │\n",
       "│           ┆           ┆ 19:41:43  ┆ 19:57:57  ┆   ┆           ┆           ┆           ┆          │\n",
       "│ max       ┆ 7.0       ┆ 2024-12-3 ┆ 2025-01-0 ┆ … ┆ 1.75      ┆ null      ┆ null      ┆ 1.0      │\n",
       "│           ┆           ┆ 1         ┆ 1         ┆   ┆           ┆           ┆           ┆          │\n",
       "│           ┆           ┆ 23:59:21  ┆ 00:00:00  ┆   ┆           ┆           ┆           ┆          │\n",
       "└───────────┴───────────┴───────────┴───────────┴───┴───────────┴───────────┴───────────┴──────────┘"
      ]
     },
     "execution_count": 25,
     "metadata": {},
     "output_type": "execute_result"
    }
   ],
   "source": [
    "df_2024.describe()"
   ]
  },
  {
   "cell_type": "markdown",
   "metadata": {},
   "source": [
    "Add boolean variable is_rush_hour\n"
   ]
  },
  {
   "cell_type": "code",
   "execution_count": 27,
   "metadata": {},
   "outputs": [],
   "source": [
    "from datetime import time\n",
    "\n",
    "df_2024 = df_2024.with_columns(\n",
    "    pl.when(\n",
    "        (pl.col(\"tpep_pickup_datetime\").dt.weekday() < 6)\n",
    "        & (\n",
    "            (\n",
    "                pl.col(\"tpep_pickup_datetime\")\n",
    "                .dt.time()\n",
    "                .is_between(time(6, 30), time(9, 30))\n",
    "            )\n",
    "            | (\n",
    "                pl.col(\"tpep_pickup_datetime\")\n",
    "                .dt.time()\n",
    "                .is_between(time(15, 30), time(20, 00))\n",
    "            )\n",
    "        )\n",
    "    )\n",
    "    .then(True)\n",
    "    .otherwise(False)\n",
    "    .alias(\"is_rush_hour\")\n",
    ")"
   ]
  },
  {
   "cell_type": "code",
   "execution_count": 28,
   "metadata": {},
   "outputs": [
    {
     "data": {
      "text/html": [
       "<div><style>\n",
       ".dataframe > thead > tr,\n",
       ".dataframe > tbody > tr {\n",
       "  text-align: right;\n",
       "  white-space: pre-wrap;\n",
       "}\n",
       "</style>\n",
       "<small>shape: (9, 22)</small><table border=\"1\" class=\"dataframe\"><thead><tr><th>statistic</th><th>VendorID</th><th>tpep_pickup_datetime</th><th>tpep_dropoff_datetime</th><th>passenger_count</th><th>trip_distance</th><th>RatecodeID</th><th>store_and_fwd_flag</th><th>payment_type</th><th>fare_amount</th><th>extra</th><th>mta_tax</th><th>tip_amount</th><th>tolls_amount</th><th>improvement_surcharge</th><th>total_amount</th><th>congestion_surcharge</th><th>Airport_fee</th><th>PUBorough</th><th>DOBorough</th><th>is_airport_ride</th><th>is_rush_hour</th></tr><tr><td>str</td><td>f64</td><td>str</td><td>str</td><td>f64</td><td>f64</td><td>f64</td><td>str</td><td>f64</td><td>f64</td><td>f64</td><td>f64</td><td>f64</td><td>f64</td><td>f64</td><td>f64</td><td>f64</td><td>f64</td><td>str</td><td>str</td><td>f64</td><td>f64</td></tr></thead><tbody><tr><td>&quot;count&quot;</td><td>3.663524e7</td><td>&quot;36635240&quot;</td><td>&quot;36635240&quot;</td><td>3.663524e7</td><td>3.663524e7</td><td>3.663524e7</td><td>&quot;36635240&quot;</td><td>3.663524e7</td><td>3.663524e7</td><td>3.663524e7</td><td>3.663524e7</td><td>3.663524e7</td><td>3.663524e7</td><td>3.663524e7</td><td>3.663524e7</td><td>3.663524e7</td><td>3.663524e7</td><td>&quot;36635240&quot;</td><td>&quot;36635240&quot;</td><td>3.663524e7</td><td>3.663524e7</td></tr><tr><td>&quot;null_count&quot;</td><td>0.0</td><td>&quot;0&quot;</td><td>&quot;0&quot;</td><td>0.0</td><td>0.0</td><td>0.0</td><td>&quot;0&quot;</td><td>0.0</td><td>0.0</td><td>0.0</td><td>0.0</td><td>0.0</td><td>0.0</td><td>0.0</td><td>0.0</td><td>0.0</td><td>0.0</td><td>&quot;0&quot;</td><td>&quot;0&quot;</td><td>0.0</td><td>0.0</td></tr><tr><td>&quot;mean&quot;</td><td>1.769662</td><td>&quot;2024-07-05 17:21:33.660000&quot;</td><td>&quot;2024-07-05 17:38:13.489000&quot;</td><td>1.3483</td><td>3.500941</td><td>2.291132</td><td>null</td><td>1.1198</td><td>19.913923</td><td>1.547185</td><td>0.493484</td><td>3.595956</td><td>0.619858</td><td>0.992087</td><td>29.083256</td><td>2.299824</td><td>0.156961</td><td>null</td><td>null</td><td>0.089692</td><td>0.299134</td></tr><tr><td>&quot;std&quot;</td><td>0.421273</td><td>null</td><td>null</td><td>0.807489</td><td>85.858627</td><td>10.791904</td><td>null</td><td>0.405007</td><td>18.840296</td><td>1.815981</td><td>0.057169</td><td>4.143783</td><td>2.288974</td><td>0.088493</td><td>23.515465</td><td>0.678505</td><td>0.500044</td><td>null</td><td>null</td><td>null</td><td>null</td></tr><tr><td>&quot;min&quot;</td><td>1.0</td><td>&quot;2024-01-01 00:00:00&quot;</td><td>&quot;2024-01-01 00:02:42&quot;</td><td>1.0</td><td>0.0</td><td>1.0</td><td>null</td><td>0.0</td><td>0.0</td><td>0.0</td><td>0.0</td><td>0.0</td><td>0.0</td><td>0.0</td><td>0.0</td><td>0.0</td><td>0.0</td><td>null</td><td>null</td><td>0.0</td><td>0.0</td></tr><tr><td>&quot;25%&quot;</td><td>2.0</td><td>&quot;2024-04-05 15:17:29&quot;</td><td>&quot;2024-04-05 15:37:34&quot;</td><td>1.0</td><td>1.0</td><td>1.0</td><td>null</td><td>1.0</td><td>9.3</td><td>0.0</td><td>0.5</td><td>1.0</td><td>0.0</td><td>1.0</td><td>15.96</td><td>2.5</td><td>0.0</td><td>null</td><td>null</td><td>null</td><td>null</td></tr><tr><td>&quot;50%&quot;</td><td>2.0</td><td>&quot;2024-07-03 16:10:09&quot;</td><td>&quot;2024-07-03 16:28:33&quot;</td><td>1.0</td><td>1.7</td><td>1.0</td><td>null</td><td>1.0</td><td>13.5</td><td>1.0</td><td>0.5</td><td>2.86</td><td>0.0</td><td>1.0</td><td>21.0</td><td>2.5</td><td>0.0</td><td>null</td><td>null</td><td>null</td><td>null</td></tr><tr><td>&quot;75%&quot;</td><td>2.0</td><td>&quot;2024-10-08 19:41:43&quot;</td><td>&quot;2024-10-08 19:57:57&quot;</td><td>1.0</td><td>3.27</td><td>1.0</td><td>null</td><td>1.0</td><td>21.9</td><td>2.5</td><td>0.5</td><td>4.45</td><td>0.0</td><td>1.0</td><td>30.940001</td><td>2.5</td><td>0.0</td><td>null</td><td>null</td><td>null</td><td>null</td></tr><tr><td>&quot;max&quot;</td><td>7.0</td><td>&quot;2024-12-31 23:59:21&quot;</td><td>&quot;2025-01-01 00:00:00&quot;</td><td>6.0</td><td>160244.90625</td><td>99.0</td><td>null</td><td>2.0</td><td>1000.0</td><td>65.989998</td><td>35.84</td><td>999.98999</td><td>1000.0</td><td>1.0</td><td>1000.0</td><td>2.52</td><td>1.75</td><td>null</td><td>null</td><td>1.0</td><td>1.0</td></tr></tbody></table></div>"
      ],
      "text/plain": [
       "shape: (9, 22)\n",
       "┌───────────┬───────────┬───────────┬───────────┬───┬───────────┬───────────┬───────────┬──────────┐\n",
       "│ statistic ┆ VendorID  ┆ tpep_pick ┆ tpep_drop ┆ … ┆ PUBorough ┆ DOBorough ┆ is_airpor ┆ is_rush_ │\n",
       "│ ---       ┆ ---       ┆ up_dateti ┆ off_datet ┆   ┆ ---       ┆ ---       ┆ t_ride    ┆ hour     │\n",
       "│ str       ┆ f64       ┆ me        ┆ ime       ┆   ┆ str       ┆ str       ┆ ---       ┆ ---      │\n",
       "│           ┆           ┆ ---       ┆ ---       ┆   ┆           ┆           ┆ f64       ┆ f64      │\n",
       "│           ┆           ┆ str       ┆ str       ┆   ┆           ┆           ┆           ┆          │\n",
       "╞═══════════╪═══════════╪═══════════╪═══════════╪═══╪═══════════╪═══════════╪═══════════╪══════════╡\n",
       "│ count     ┆ 3.663524e ┆ 36635240  ┆ 36635240  ┆ … ┆ 36635240  ┆ 36635240  ┆ 3.663524e ┆ 3.663524 │\n",
       "│           ┆ 7         ┆           ┆           ┆   ┆           ┆           ┆ 7         ┆ e7       │\n",
       "│ null_coun ┆ 0.0       ┆ 0         ┆ 0         ┆ … ┆ 0         ┆ 0         ┆ 0.0       ┆ 0.0      │\n",
       "│ t         ┆           ┆           ┆           ┆   ┆           ┆           ┆           ┆          │\n",
       "│ mean      ┆ 1.769662  ┆ 2024-07-0 ┆ 2024-07-0 ┆ … ┆ null      ┆ null      ┆ 0.089692  ┆ 0.299134 │\n",
       "│           ┆           ┆ 5 17:21:3 ┆ 5 17:38:1 ┆   ┆           ┆           ┆           ┆          │\n",
       "│           ┆           ┆ 3.660000  ┆ 3.489000  ┆   ┆           ┆           ┆           ┆          │\n",
       "│ std       ┆ 0.421273  ┆ null      ┆ null      ┆ … ┆ null      ┆ null      ┆ null      ┆ null     │\n",
       "│ min       ┆ 1.0       ┆ 2024-01-0 ┆ 2024-01-0 ┆ … ┆ null      ┆ null      ┆ 0.0       ┆ 0.0      │\n",
       "│           ┆           ┆ 1         ┆ 1         ┆   ┆           ┆           ┆           ┆          │\n",
       "│           ┆           ┆ 00:00:00  ┆ 00:02:42  ┆   ┆           ┆           ┆           ┆          │\n",
       "│ 25%       ┆ 2.0       ┆ 2024-04-0 ┆ 2024-04-0 ┆ … ┆ null      ┆ null      ┆ null      ┆ null     │\n",
       "│           ┆           ┆ 5         ┆ 5         ┆   ┆           ┆           ┆           ┆          │\n",
       "│           ┆           ┆ 15:17:29  ┆ 15:37:34  ┆   ┆           ┆           ┆           ┆          │\n",
       "│ 50%       ┆ 2.0       ┆ 2024-07-0 ┆ 2024-07-0 ┆ … ┆ null      ┆ null      ┆ null      ┆ null     │\n",
       "│           ┆           ┆ 3         ┆ 3         ┆   ┆           ┆           ┆           ┆          │\n",
       "│           ┆           ┆ 16:10:09  ┆ 16:28:33  ┆   ┆           ┆           ┆           ┆          │\n",
       "│ 75%       ┆ 2.0       ┆ 2024-10-0 ┆ 2024-10-0 ┆ … ┆ null      ┆ null      ┆ null      ┆ null     │\n",
       "│           ┆           ┆ 8         ┆ 8         ┆   ┆           ┆           ┆           ┆          │\n",
       "│           ┆           ┆ 19:41:43  ┆ 19:57:57  ┆   ┆           ┆           ┆           ┆          │\n",
       "│ max       ┆ 7.0       ┆ 2024-12-3 ┆ 2025-01-0 ┆ … ┆ null      ┆ null      ┆ 1.0       ┆ 1.0      │\n",
       "│           ┆           ┆ 1         ┆ 1         ┆   ┆           ┆           ┆           ┆          │\n",
       "│           ┆           ┆ 23:59:21  ┆ 00:00:00  ┆   ┆           ┆           ┆           ┆          │\n",
       "└───────────┴───────────┴───────────┴───────────┴───┴───────────┴───────────┴───────────┴──────────┘"
      ]
     },
     "execution_count": 28,
     "metadata": {},
     "output_type": "execute_result"
    }
   ],
   "source": [
    "df_2024.describe()"
   ]
  },
  {
   "cell_type": "markdown",
   "metadata": {},
   "source": [
    "### 4. Feature extraction\n"
   ]
  },
  {
   "cell_type": "markdown",
   "metadata": {},
   "source": [
    "apply dummy encoding to features:\n",
    "\n",
    "- payment type\n",
    "- pickup borough\n",
    "- dropoff borough\n"
   ]
  },
  {
   "cell_type": "markdown",
   "metadata": {},
   "source": [
    "payment_type is Uint8, why encode that?\n"
   ]
  },
  {
   "cell_type": "code",
   "execution_count": 29,
   "metadata": {},
   "outputs": [],
   "source": [
    "df = df_2024.collect().to_dummies([\"POBorough\", \"DOBorough\"])"
   ]
  },
  {
   "cell_type": "markdown",
   "metadata": {},
   "source": [
    "Add integer variables for counting daily events:\n",
    "\n",
    "- total number of rides (target variable)\n",
    "- total number of airport rides\n",
    "- total number of rush hour rides\n"
   ]
  },
  {
   "cell_type": "code",
   "execution_count": 30,
   "metadata": {},
   "outputs": [],
   "source": [
    "df_daily_events = df_2024.group_by(pl.col(\"tpep_pickup_datetime\").dt.date().alias(\"date\")).agg(\n",
    "    pl.len().alias(\"total_rides\"),\n",
    "    pl.col(\"is_airport_ride\").sum().alias(\"airport_rides\"),\n",
    "    pl.col(\"is_rush_hour\").sum().alias(\"rush_hour_rides\"),\n",
    ")"
   ]
  },
  {
   "cell_type": "markdown",
   "metadata": {},
   "source": [
    "Add features aggregating daily rides information:\n",
    "\n",
    "- average fare amount\n",
    "- median distance\n",
    "- sum of total amounts\n",
    "- total amount paid by card, cash, and other\n",
    "- total congestion surcharge\n",
    "- total number of passengers\n"
   ]
  },
  {
   "cell_type": "code",
   "execution_count": 31,
   "metadata": {},
   "outputs": [],
   "source": [
    "df_daily_info = df_2024.group_by(pl.col(\"tpep_pickup_datetime\").dt.date().alias(\"date\")).agg(\n",
    "    pl.col(\"fare_amount\").mean().alias(\"average_fare_amount\"),\n",
    "    pl.col(\"trip_distance\").median().alias(\"mean_distance\"),\n",
    "    pl.col(\"total_amount\").sum().alias(\"total_amt_sum\"),\n",
    "    pl.col(\"payment_type\").is_in([0]).sum().alias(\"total_amt_other\"),\n",
    "    pl.col(\"payment_type\").is_in([1]).sum().alias(\"total_amt_card\"),\n",
    "    pl.col(\"payment_type\").is_in([2]).sum().alias(\"total_amt_cash\"),\n",
    "    pl.col(\"congestion_surcharge\").sum().alias(\"total_congestion_surcharge\"),\n",
    "    pl.col(\"passenger_count\").sum().alias(\"total_passengers\"),\n",
    ")"
   ]
  },
  {
   "cell_type": "code",
   "execution_count": 32,
   "metadata": {},
   "outputs": [],
   "source": [
    "df_daily = df_daily_events.join(df_daily_info, on='date')"
   ]
  },
  {
   "cell_type": "code",
   "execution_count": 33,
   "metadata": {},
   "outputs": [],
   "source": [
    "df_daily = df_daily.with_columns(\n",
    "    pl.col(\"date\").dt.weekday().alias(\"day_of_week\"),\n",
    "    pl.col(\"date\").dt.weekday().is_in([6, 7]).alias(\"is_weekend\"),\n",
    "    pl.col(\"date\").dt.day().alias(\"day_of_month\"),\n",
    "    pl.col(\"date\").dt.month().alias(\"month\"),\n",
    "    pl.col(\"date\").dt.quarter().alias(\"quarter\")\n",
    ")"
   ]
  },
  {
   "cell_type": "code",
   "execution_count": 34,
   "metadata": {},
   "outputs": [
    {
     "data": {
      "text/plain": [
       "Schema([('date', Date),\n",
       "        ('total_rides', UInt32),\n",
       "        ('airport_rides', UInt32),\n",
       "        ('rush_hour_rides', UInt32),\n",
       "        ('average_fare_amount', Float32),\n",
       "        ('mean_distance', Float32),\n",
       "        ('total_amt_sum', Float32),\n",
       "        ('total_amt_other', UInt32),\n",
       "        ('total_amt_card', UInt32),\n",
       "        ('total_amt_cash', UInt32),\n",
       "        ('total_congestion_surcharge', Float32),\n",
       "        ('total_passengers', Int64),\n",
       "        ('day_of_week', Int8),\n",
       "        ('is_weekend', Boolean),\n",
       "        ('day_of_month', Int8),\n",
       "        ('month', Int8),\n",
       "        ('quarter', Int8)])"
      ]
     },
     "execution_count": 34,
     "metadata": {},
     "output_type": "execute_result"
    }
   ],
   "source": [
    "df_daily.collect_schema()"
   ]
  },
  {
   "cell_type": "code",
   "execution_count": 35,
   "metadata": {},
   "outputs": [],
   "source": [
    "df_daily.collect().write_parquet(\"../lab/data/dataset.parquet\", compression='zstd')"
   ]
  },
  {
   "cell_type": "markdown",
   "metadata": {},
   "source": [
    "### Data analysis"
   ]
  },
  {
   "cell_type": "markdown",
   "metadata": {},
   "source": [
    "Dataset Shape"
   ]
  },
  {
   "cell_type": "code",
   "execution_count": 36,
   "metadata": {},
   "outputs": [
    {
     "data": {
      "text/plain": [
       "(366, 17)"
      ]
     },
     "execution_count": 36,
     "metadata": {},
     "output_type": "execute_result"
    }
   ],
   "source": [
    "df_daily.collect().shape"
   ]
  },
  {
   "cell_type": "markdown",
   "metadata": {},
   "source": [
    "Top 5 rows"
   ]
  },
  {
   "cell_type": "code",
   "execution_count": 37,
   "metadata": {},
   "outputs": [
    {
     "data": {
      "text/html": [
       "<div><style>\n",
       ".dataframe > thead > tr,\n",
       ".dataframe > tbody > tr {\n",
       "  text-align: right;\n",
       "  white-space: pre-wrap;\n",
       "}\n",
       "</style>\n",
       "<small>shape: (5, 17)</small><table border=\"1\" class=\"dataframe\"><thead><tr><th>date</th><th>total_rides</th><th>airport_rides</th><th>rush_hour_rides</th><th>average_fare_amount</th><th>mean_distance</th><th>total_amt_sum</th><th>total_amt_other</th><th>total_amt_card</th><th>total_amt_cash</th><th>total_congestion_surcharge</th><th>total_passengers</th><th>day_of_week</th><th>is_weekend</th><th>day_of_month</th><th>month</th><th>quarter</th></tr><tr><td>date</td><td>u32</td><td>u32</td><td>u32</td><td>f32</td><td>f32</td><td>f32</td><td>u32</td><td>u32</td><td>u32</td><td>f32</td><td>i64</td><td>i8</td><td>bool</td><td>i8</td><td>i8</td><td>i8</td></tr></thead><tbody><tr><td>2024-08-19</td><td>79023</td><td>12074</td><td>33332</td><td>22.655487</td><td>1.83</td><td>2.5682e6</td><td>2906</td><td>62655</td><td>13462</td><td>171967.5</td><td>104851</td><td>1</td><td>false</td><td>19</td><td>8</td><td>3</td></tr><tr><td>2024-07-29</td><td>83325</td><td>10144</td><td>35202</td><td>20.56291</td><td>1.78</td><td>2.4974e6</td><td>2812</td><td>66571</td><td>13942</td><td>186280.0</td><td>111663</td><td>1</td><td>false</td><td>29</td><td>7</td><td>3</td></tr><tr><td>2024-04-04</td><td>114360</td><td>10380</td><td>45950</td><td>19.728214</td><td>1.7</td><td>3.3373e6</td><td>2756</td><td>94888</td><td>16716</td><td>263692.5</td><td>151775</td><td>4</td><td>false</td><td>4</td><td>4</td><td>2</td></tr><tr><td>2024-08-10</td><td>83009</td><td>7414</td><td>0</td><td>20.12928</td><td>1.8</td><td>2.3625e6</td><td>3122</td><td>65643</td><td>14244</td><td>189292.5</td><td>122112</td><td>6</td><td>true</td><td>10</td><td>8</td><td>3</td></tr><tr><td>2024-03-17</td><td>88196</td><td>10120</td><td>0</td><td>21.21418</td><td>1.9</td><td>2.6867e6</td><td>2598</td><td>71562</td><td>14036</td><td>201257.5</td><td>123712</td><td>7</td><td>true</td><td>17</td><td>3</td><td>1</td></tr></tbody></table></div>"
      ],
      "text/plain": [
       "shape: (5, 17)\n",
       "┌────────────┬────────────┬────────────┬────────────┬───┬────────────┬───────────┬───────┬─────────┐\n",
       "│ date       ┆ total_ride ┆ airport_ri ┆ rush_hour_ ┆ … ┆ is_weekend ┆ day_of_mo ┆ month ┆ quarter │\n",
       "│ ---        ┆ s          ┆ des        ┆ rides      ┆   ┆ ---        ┆ nth       ┆ ---   ┆ ---     │\n",
       "│ date       ┆ ---        ┆ ---        ┆ ---        ┆   ┆ bool       ┆ ---       ┆ i8    ┆ i8      │\n",
       "│            ┆ u32        ┆ u32        ┆ u32        ┆   ┆            ┆ i8        ┆       ┆         │\n",
       "╞════════════╪════════════╪════════════╪════════════╪═══╪════════════╪═══════════╪═══════╪═════════╡\n",
       "│ 2024-08-19 ┆ 79023      ┆ 12074      ┆ 33332      ┆ … ┆ false      ┆ 19        ┆ 8     ┆ 3       │\n",
       "│ 2024-07-29 ┆ 83325      ┆ 10144      ┆ 35202      ┆ … ┆ false      ┆ 29        ┆ 7     ┆ 3       │\n",
       "│ 2024-04-04 ┆ 114360     ┆ 10380      ┆ 45950      ┆ … ┆ false      ┆ 4         ┆ 4     ┆ 2       │\n",
       "│ 2024-08-10 ┆ 83009      ┆ 7414       ┆ 0          ┆ … ┆ true       ┆ 10        ┆ 8     ┆ 3       │\n",
       "│ 2024-03-17 ┆ 88196      ┆ 10120      ┆ 0          ┆ … ┆ true       ┆ 17        ┆ 3     ┆ 1       │\n",
       "└────────────┴────────────┴────────────┴────────────┴───┴────────────┴───────────┴───────┴─────────┘"
      ]
     },
     "execution_count": 37,
     "metadata": {},
     "output_type": "execute_result"
    }
   ],
   "source": [
    "df_daily.collect().head()"
   ]
  },
  {
   "cell_type": "markdown",
   "metadata": {},
   "source": [
    "DataFrame statistics"
   ]
  },
  {
   "cell_type": "code",
   "execution_count": 38,
   "metadata": {},
   "outputs": [
    {
     "data": {
      "text/html": [
       "<div><style>\n",
       ".dataframe > thead > tr,\n",
       ".dataframe > tbody > tr {\n",
       "  text-align: right;\n",
       "  white-space: pre-wrap;\n",
       "}\n",
       "</style>\n",
       "<small>shape: (9, 18)</small><table border=\"1\" class=\"dataframe\"><thead><tr><th>statistic</th><th>date</th><th>total_rides</th><th>airport_rides</th><th>rush_hour_rides</th><th>average_fare_amount</th><th>mean_distance</th><th>total_amt_sum</th><th>total_amt_other</th><th>total_amt_card</th><th>total_amt_cash</th><th>total_congestion_surcharge</th><th>total_passengers</th><th>day_of_week</th><th>is_weekend</th><th>day_of_month</th><th>month</th><th>quarter</th></tr><tr><td>str</td><td>str</td><td>f64</td><td>f64</td><td>f64</td><td>f64</td><td>f64</td><td>f64</td><td>f64</td><td>f64</td><td>f64</td><td>f64</td><td>f64</td><td>f64</td><td>f64</td><td>f64</td><td>f64</td><td>f64</td></tr></thead><tbody><tr><td>&quot;count&quot;</td><td>&quot;366&quot;</td><td>366.0</td><td>366.0</td><td>366.0</td><td>366.0</td><td>366.0</td><td>366.0</td><td>366.0</td><td>366.0</td><td>366.0</td><td>366.0</td><td>366.0</td><td>366.0</td><td>366.0</td><td>366.0</td><td>366.0</td><td>366.0</td></tr><tr><td>&quot;null_count&quot;</td><td>&quot;0&quot;</td><td>0.0</td><td>0.0</td><td>0.0</td><td>0.0</td><td>0.0</td><td>0.0</td><td>0.0</td><td>0.0</td><td>0.0</td><td>0.0</td><td>0.0</td><td>0.0</td><td>0.0</td><td>0.0</td><td>0.0</td><td>0.0</td></tr><tr><td>&quot;mean&quot;</td><td>&quot;2024-07-01 12:00:00&quot;</td><td>100096.284153</td><td>8977.849727</td><td>29942.191257</td><td>19.952482</td><td>1.718634</td><td>2.9112e6</td><td>2931.956284</td><td>82240.885246</td><td>14923.442623</td><td>230203.796875</td><td>134959.773224</td><td>3.986339</td><td>0.284153</td><td>15.756831</td><td>6.513661</td><td>2.505464</td></tr><tr><td>&quot;std&quot;</td><td>null</td><td>15372.278378</td><td>1716.363211</td><td>19694.163496</td><td>1.20462</td><td>0.10091</td><td>461532.53125</td><td>554.320874</td><td>14161.094428</td><td>1357.233058</td><td>37864.675781</td><td>18725.114675</td><td>2.006108</td><td>null</td><td>8.823592</td><td>3.455958</td><td>1.119551</td></tr><tr><td>&quot;min&quot;</td><td>&quot;2024-01-01&quot;</td><td>47390.0</td><td>3355.0</td><td>0.0</td><td>16.676249</td><td>1.5</td><td>1.3260e6</td><td>1656.0</td><td>34052.0</td><td>10244.0</td><td>107825.0</td><td>74198.0</td><td>1.0</td><td>0.0</td><td>1.0</td><td>1.0</td><td>1.0</td></tr><tr><td>&quot;25%&quot;</td><td>&quot;2024-04-01&quot;</td><td>89572.0</td><td>7869.0</td><td>0.0</td><td>19.125853</td><td>1.66</td><td>2.5819e6</td><td>2566.0</td><td>72543.0</td><td>14109.0</td><td>203501.0</td><td>122219.0</td><td>2.0</td><td>null</td><td>8.0</td><td>4.0</td><td>2.0</td></tr><tr><td>&quot;50%&quot;</td><td>&quot;2024-07-02&quot;</td><td>100781.0</td><td>9018.0</td><td>39519.0</td><td>19.950588</td><td>1.7</td><td>2.916561e6</td><td>2910.0</td><td>83419.0</td><td>14966.0</td><td>232817.5</td><td>134078.0</td><td>4.0</td><td>null</td><td>16.0</td><td>7.0</td><td>3.0</td></tr><tr><td>&quot;75%&quot;</td><td>&quot;2024-10-01&quot;</td><td>110799.0</td><td>10144.0</td><td>44782.0</td><td>20.713577</td><td>1.77</td><td>3.222885e6</td><td>3271.0</td><td>91738.0</td><td>15834.0</td><td>256939.5</td><td>147187.0</td><td>6.0</td><td>null</td><td>23.0</td><td>10.0</td><td>4.0</td></tr><tr><td>&quot;max&quot;</td><td>&quot;2024-12-31&quot;</td><td>141676.0</td><td>14903.0</td><td>56567.0</td><td>24.447693</td><td>2.2</td><td>4.4621e6</td><td>4596.0</td><td>120976.0</td><td>17994.0</td><td>330475.0</td><td>199440.0</td><td>7.0</td><td>1.0</td><td>31.0</td><td>12.0</td><td>4.0</td></tr></tbody></table></div>"
      ],
      "text/plain": [
       "shape: (9, 18)\n",
       "┌────────────┬───────────┬───────────┬───────────┬───┬───────────┬───────────┬──────────┬──────────┐\n",
       "│ statistic  ┆ date      ┆ total_rid ┆ airport_r ┆ … ┆ is_weeken ┆ day_of_mo ┆ month    ┆ quarter  │\n",
       "│ ---        ┆ ---       ┆ es        ┆ ides      ┆   ┆ d         ┆ nth       ┆ ---      ┆ ---      │\n",
       "│ str        ┆ str       ┆ ---       ┆ ---       ┆   ┆ ---       ┆ ---       ┆ f64      ┆ f64      │\n",
       "│            ┆           ┆ f64       ┆ f64       ┆   ┆ f64       ┆ f64       ┆          ┆          │\n",
       "╞════════════╪═══════════╪═══════════╪═══════════╪═══╪═══════════╪═══════════╪══════════╪══════════╡\n",
       "│ count      ┆ 366       ┆ 366.0     ┆ 366.0     ┆ … ┆ 366.0     ┆ 366.0     ┆ 366.0    ┆ 366.0    │\n",
       "│ null_count ┆ 0         ┆ 0.0       ┆ 0.0       ┆ … ┆ 0.0       ┆ 0.0       ┆ 0.0      ┆ 0.0      │\n",
       "│ mean       ┆ 2024-07-0 ┆ 100096.28 ┆ 8977.8497 ┆ … ┆ 0.284153  ┆ 15.756831 ┆ 6.513661 ┆ 2.505464 │\n",
       "│            ┆ 1         ┆ 4153      ┆ 27        ┆   ┆           ┆           ┆          ┆          │\n",
       "│            ┆ 12:00:00  ┆           ┆           ┆   ┆           ┆           ┆          ┆          │\n",
       "│ std        ┆ null      ┆ 15372.278 ┆ 1716.3632 ┆ … ┆ null      ┆ 8.823592  ┆ 3.455958 ┆ 1.119551 │\n",
       "│            ┆           ┆ 378       ┆ 11        ┆   ┆           ┆           ┆          ┆          │\n",
       "│ min        ┆ 2024-01-0 ┆ 47390.0   ┆ 3355.0    ┆ … ┆ 0.0       ┆ 1.0       ┆ 1.0      ┆ 1.0      │\n",
       "│            ┆ 1         ┆           ┆           ┆   ┆           ┆           ┆          ┆          │\n",
       "│ 25%        ┆ 2024-04-0 ┆ 89572.0   ┆ 7869.0    ┆ … ┆ null      ┆ 8.0       ┆ 4.0      ┆ 2.0      │\n",
       "│            ┆ 1         ┆           ┆           ┆   ┆           ┆           ┆          ┆          │\n",
       "│ 50%        ┆ 2024-07-0 ┆ 100781.0  ┆ 9018.0    ┆ … ┆ null      ┆ 16.0      ┆ 7.0      ┆ 3.0      │\n",
       "│            ┆ 2         ┆           ┆           ┆   ┆           ┆           ┆          ┆          │\n",
       "│ 75%        ┆ 2024-10-0 ┆ 110799.0  ┆ 10144.0   ┆ … ┆ null      ┆ 23.0      ┆ 10.0     ┆ 4.0      │\n",
       "│            ┆ 1         ┆           ┆           ┆   ┆           ┆           ┆          ┆          │\n",
       "│ max        ┆ 2024-12-3 ┆ 141676.0  ┆ 14903.0   ┆ … ┆ 1.0       ┆ 31.0      ┆ 12.0     ┆ 4.0      │\n",
       "│            ┆ 1         ┆           ┆           ┆   ┆           ┆           ┆          ┆          │\n",
       "└────────────┴───────────┴───────────┴───────────┴───┴───────────┴───────────┴──────────┴──────────┘"
      ]
     },
     "execution_count": 38,
     "metadata": {},
     "output_type": "execute_result"
    }
   ],
   "source": [
    "df_daily.describe()"
   ]
  },
  {
   "cell_type": "markdown",
   "metadata": {},
   "source": [
    "Schema"
   ]
  },
  {
   "cell_type": "code",
   "execution_count": 39,
   "metadata": {},
   "outputs": [
    {
     "data": {
      "text/plain": [
       "Schema([('date', Date),\n",
       "        ('total_rides', UInt32),\n",
       "        ('airport_rides', UInt32),\n",
       "        ('rush_hour_rides', UInt32),\n",
       "        ('average_fare_amount', Float32),\n",
       "        ('mean_distance', Float32),\n",
       "        ('total_amt_sum', Float32),\n",
       "        ('total_amt_other', UInt32),\n",
       "        ('total_amt_card', UInt32),\n",
       "        ('total_amt_cash', UInt32),\n",
       "        ('total_congestion_surcharge', Float32),\n",
       "        ('total_passengers', Int64),\n",
       "        ('day_of_week', Int8),\n",
       "        ('is_weekend', Boolean),\n",
       "        ('day_of_month', Int8),\n",
       "        ('month', Int8),\n",
       "        ('quarter', Int8)])"
      ]
     },
     "execution_count": 39,
     "metadata": {},
     "output_type": "execute_result"
    }
   ],
   "source": [
    "df_daily.collect_schema()"
   ]
  },
  {
   "cell_type": "markdown",
   "metadata": {},
   "source": [
    "Histogram of daily number of rides"
   ]
  },
  {
   "cell_type": "code",
   "execution_count": 40,
   "metadata": {},
   "outputs": [],
   "source": [
    "pd_df = df_daily.sort(pl.col(\"date\"), descending=False).collect().to_pandas()"
   ]
  },
  {
   "cell_type": "code",
   "execution_count": 41,
   "metadata": {},
   "outputs": [
    {
     "data": {
      "image/png": "[encoded data removed]",
      "text/plain": [
       "<Figure size 640x480 with 1 Axes>"
      ]
     },
     "metadata": {},
     "output_type": "display_data"
    }
   ],
   "source": [
    "import matplotlib.pyplot as plt\n",
    "\n",
    "plt.hist(pd_df[\"total_rides\"])\n",
    "plt.title(\"Histogram of the number of daily rides\")\n",
    "plt.xlabel(\"Number of rides\")\n",
    "plt.show()"
   ]
  },
  {
   "cell_type": "markdown",
   "metadata": {},
   "source": [
    "Line plot of number of rides"
   ]
  },
  {
   "cell_type": "code",
   "execution_count": 42,
   "metadata": {},
   "outputs": [
    {
     "data": {
      "image/png": "[encoded data removed]",
      "text/plain": [
       "<Figure size 640x480 with 1 Axes>"
      ]
     },
     "metadata": {},
     "output_type": "display_data"
    }
   ],
   "source": [
    "plt.plot(pd_df[\"date\"], pd_df[\"total_rides\"])\n",
    "plt.title(\"Total rides daily\")\n",
    "plt.xlabel(\"date\")\n",
    "plt.ylabel(\"number of rides\")\n",
    "plt.show()"
   ]
  },
  {
   "cell_type": "code",
   "execution_count": null,
   "metadata": {},
   "outputs": [],
   "source": []
  }
 ],
 "metadata": {
  "kernelspec": {
   "display_name": "mlops-course-agh-lab-03",
   "language": "python",
   "name": "python3"
  },
  "language_info": {
   "codemirror_mode": {
    "name": "ipython",
    "version": 3
   },
   "file_extension": ".py",
   "mimetype": "text/x-python",
   "name": "python",
   "nbconvert_exporter": "python",
   "pygments_lexer": "ipython3",
   "version": "3.12.9"
  }
 },
 "nbformat": 4,
 "nbformat_minor": 2
}
