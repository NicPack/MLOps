{
 "cells": [
  {
   "cell_type": "markdown",
   "metadata": {},
   "source": [
    "# Get data\n"
   ]
  },
  {
   "cell_type": "code",
   "execution_count": 1,
   "metadata": {
    "vscode": {
     "languageId": "shellscript"
    }
   },
   "outputs": [
    {
     "name": "stdout",
     "output_type": "stream",
     "text": [
      "--2025-10-16 13:46:06--  https://opendata.rijdendetreinen.nl/public/tariff-distances/tariff-distances-2022-01.csv\n",
      "Resolving opendata.rijdendetreinen.nl (opendata.rijdendetreinen.nl)... 2a06:98c1:3120::b, 2a06:98c1:3121::b, 188.114.97.11, ...\n",
      "Connecting to opendata.rijdendetreinen.nl (opendata.rijdendetreinen.nl)|2a06:98c1:3120::b|:443... connected.\n",
      "HTTP request sent, awaiting response... 200 OK\n",
      "Length: 583534 (570K) [application/octet-stream]\n",
      "Saving to: ‘data/distances_2022.csv’\n",
      "\n",
      "data/distances_2022 100%[===================>] 569.86K  --.-KB/s    in 0.04s   \n",
      "\n",
      "2025-10-16 13:46:06 (12.6 MB/s) - ‘data/distances_2022.csv’ saved [583534/583534]\n",
      "\n"
     ]
    }
   ],
   "source": [
    "!wget https://opendata.rijdendetreinen.nl/public/tariff-distances/tariff-distances-2022-01.csv -O data/distances_2022.csv"
   ]
  },
  {
   "cell_type": "code",
   "execution_count": 2,
   "metadata": {
    "vscode": {
     "languageId": "shellscript"
    }
   },
   "outputs": [
    {
     "name": "stdout",
     "output_type": "stream",
     "text": [
      "--2025-10-16 13:46:06--  https://opendata.rijdendetreinen.nl/public/stations/stations-2023-09.csv\n",
      "Resolving opendata.rijdendetreinen.nl (opendata.rijdendetreinen.nl)... 2a06:98c1:3120::b, 2a06:98c1:3121::b, 188.114.97.11, ...\n",
      "Connecting to opendata.rijdendetreinen.nl (opendata.rijdendetreinen.nl)|2a06:98c1:3120::b|:443... connected.\n",
      "HTTP request sent, awaiting response... 200 OK\n",
      "Length: 65007 (63K) [application/octet-stream]\n",
      "Saving to: ‘data/stations_2023.csv’\n",
      "\n",
      "data/stations_2023. 100%[===================>]  63.48K  --.-KB/s    in 0.03s   \n",
      "\n",
      "2025-10-16 13:46:06 (2.43 MB/s) - ‘data/stations_2023.csv’ saved [65007/65007]\n",
      "\n"
     ]
    }
   ],
   "source": [
    "!wget https://opendata.rijdendetreinen.nl/public/stations/stations-2023-09.csv -O data/stations_2023.csv"
   ]
  },
  {
   "cell_type": "code",
   "execution_count": 3,
   "metadata": {
    "vscode": {
     "languageId": "shellscript"
    }
   },
   "outputs": [
    {
     "name": "stdout",
     "output_type": "stream",
     "text": [
      "--2025-10-16 13:46:07--  https://opendata.rijdendetreinen.nl/public/disruptions/disruptions-2011.csv\n",
      "Resolving opendata.rijdendetreinen.nl (opendata.rijdendetreinen.nl)... 2a06:98c1:3120::b, 2a06:98c1:3121::b, 188.114.97.11, ...\n",
      "Connecting to opendata.rijdendetreinen.nl (opendata.rijdendetreinen.nl)|2a06:98c1:3120::b|:443... connected.\n",
      "HTTP request sent, awaiting response... 200 OK\n",
      "Length: 410085 (400K) [application/octet-stream]\n",
      "Saving to: ‘data/disruptions/disruptions_2011.csv’\n",
      "\n",
      "data/disruptions/di 100%[===================>] 400.47K  --.-KB/s    in 0.04s   \n",
      "\n",
      "2025-10-16 13:46:07 (10.0 MB/s) - ‘data/disruptions/disruptions_2011.csv’ saved [410085/410085]\n",
      "\n",
      "--2025-10-16 13:46:07--  https://opendata.rijdendetreinen.nl/public/disruptions/disruptions-2012.csv\n",
      "Resolving opendata.rijdendetreinen.nl (opendata.rijdendetreinen.nl)... 2a06:98c1:3120::b, 2a06:98c1:3121::b, 188.114.97.11, ...\n",
      "Connecting to opendata.rijdendetreinen.nl (opendata.rijdendetreinen.nl)|2a06:98c1:3120::b|:443... connected.\n",
      "HTTP request sent, awaiting response... 200 OK\n",
      "Length: 475258 (464K) [application/octet-stream]\n",
      "Saving to: ‘data/disruptions/disruptions_2012.csv’\n",
      "\n",
      "data/disruptions/di 100%[===================>] 464.12K  --.-KB/s    in 0.05s   \n",
      "\n",
      "2025-10-16 13:46:07 (8.84 MB/s) - ‘data/disruptions/disruptions_2012.csv’ saved [475258/475258]\n",
      "\n",
      "--2025-10-16 13:46:07--  https://opendata.rijdendetreinen.nl/public/disruptions/disruptions-2013.csv\n",
      "Resolving opendata.rijdendetreinen.nl (opendata.rijdendetreinen.nl)... 2a06:98c1:3120::b, 2a06:98c1:3121::b, 188.114.97.11, ...\n",
      "Connecting to opendata.rijdendetreinen.nl (opendata.rijdendetreinen.nl)|2a06:98c1:3120::b|:443... connected.\n",
      "HTTP request sent, awaiting response... 200 OK\n",
      "Length: 510455 (498K) [application/octet-stream]\n",
      "Saving to: ‘data/disruptions/disruptions_2013.csv’\n",
      "\n",
      "data/disruptions/di 100%[===================>] 498.49K  --.-KB/s    in 0.04s   \n",
      "\n",
      "2025-10-16 13:46:08 (11.6 MB/s) - ‘data/disruptions/disruptions_2013.csv’ saved [510455/510455]\n",
      "\n",
      "--2025-10-16 13:46:08--  https://opendata.rijdendetreinen.nl/public/disruptions/disruptions-2014.csv\n",
      "Resolving opendata.rijdendetreinen.nl (opendata.rijdendetreinen.nl)... 2a06:98c1:3120::b, 2a06:98c1:3121::b, 188.114.97.11, ...\n",
      "Connecting to opendata.rijdendetreinen.nl (opendata.rijdendetreinen.nl)|2a06:98c1:3120::b|:443... connected.\n",
      "HTTP request sent, awaiting response... 200 OK\n",
      "Length: 543385 (531K) [application/octet-stream]\n",
      "Saving to: ‘data/disruptions/disruptions_2014.csv’\n",
      "\n",
      "data/disruptions/di 100%[===================>] 530.65K  --.-KB/s    in 0.04s   \n",
      "\n",
      "2025-10-16 13:46:08 (11.9 MB/s) - ‘data/disruptions/disruptions_2014.csv’ saved [543385/543385]\n",
      "\n",
      "--2025-10-16 13:46:08--  https://opendata.rijdendetreinen.nl/public/disruptions/disruptions-2015.csv\n",
      "Resolving opendata.rijdendetreinen.nl (opendata.rijdendetreinen.nl)... 2a06:98c1:3120::b, 2a06:98c1:3121::b, 188.114.97.11, ...\n",
      "Connecting to opendata.rijdendetreinen.nl (opendata.rijdendetreinen.nl)|2a06:98c1:3120::b|:443... connected.\n",
      "HTTP request sent, awaiting response... 200 OK\n",
      "Length: 653940 (639K) [application/octet-stream]\n",
      "Saving to: ‘data/disruptions/disruptions_2015.csv’\n",
      "\n",
      "data/disruptions/di 100%[===================>] 638.61K  --.-KB/s    in 0.04s   \n",
      "\n",
      "2025-10-16 13:46:08 (14.1 MB/s) - ‘data/disruptions/disruptions_2015.csv’ saved [653940/653940]\n",
      "\n",
      "--2025-10-16 13:46:08--  https://opendata.rijdendetreinen.nl/public/disruptions/disruptions-2016.csv\n",
      "Resolving opendata.rijdendetreinen.nl (opendata.rijdendetreinen.nl)... 2a06:98c1:3120::b, 2a06:98c1:3121::b, 188.114.97.11, ...\n",
      "Connecting to opendata.rijdendetreinen.nl (opendata.rijdendetreinen.nl)|2a06:98c1:3120::b|:443... connected.\n",
      "HTTP request sent, awaiting response... 200 OK\n",
      "Length: 675013 (659K) [application/octet-stream]\n",
      "Saving to: ‘data/disruptions/disruptions_2016.csv’\n",
      "\n",
      "data/disruptions/di 100%[===================>] 659.19K  --.-KB/s    in 0.05s   \n",
      "\n",
      "2025-10-16 13:46:08 (13.1 MB/s) - ‘data/disruptions/disruptions_2016.csv’ saved [675013/675013]\n",
      "\n",
      "--2025-10-16 13:46:08--  https://opendata.rijdendetreinen.nl/public/disruptions/disruptions-2017.csv\n",
      "Resolving opendata.rijdendetreinen.nl (opendata.rijdendetreinen.nl)... 2a06:98c1:3120::b, 2a06:98c1:3121::b, 188.114.97.11, ...\n",
      "Connecting to opendata.rijdendetreinen.nl (opendata.rijdendetreinen.nl)|2a06:98c1:3120::b|:443... connected.\n",
      "HTTP request sent, awaiting response... 200 OK\n",
      "Length: 1267976 (1.2M) [application/octet-stream]\n",
      "Saving to: ‘data/disruptions/disruptions_2017.csv’\n",
      "\n",
      "data/disruptions/di 100%[===================>]   1.21M  --.-KB/s    in 0.07s   \n",
      "\n",
      "2025-10-16 13:46:09 (16.7 MB/s) - ‘data/disruptions/disruptions_2017.csv’ saved [1267976/1267976]\n",
      "\n",
      "--2025-10-16 13:46:09--  https://opendata.rijdendetreinen.nl/public/disruptions/disruptions-2018.csv\n",
      "Resolving opendata.rijdendetreinen.nl (opendata.rijdendetreinen.nl)... 2a06:98c1:3120::b, 2a06:98c1:3121::b, 188.114.97.11, ...\n",
      "Connecting to opendata.rijdendetreinen.nl (opendata.rijdendetreinen.nl)|2a06:98c1:3120::b|:443... connected.\n",
      "HTTP request sent, awaiting response... 200 OK\n",
      "Length: 1581489 (1.5M) [application/octet-stream]\n",
      "Saving to: ‘data/disruptions/disruptions_2018.csv’\n",
      "\n",
      "data/disruptions/di 100%[===================>]   1.51M  --.-KB/s    in 0.08s   \n",
      "\n",
      "2025-10-16 13:46:09 (19.9 MB/s) - ‘data/disruptions/disruptions_2018.csv’ saved [1581489/1581489]\n",
      "\n",
      "--2025-10-16 13:46:09--  https://opendata.rijdendetreinen.nl/public/disruptions/disruptions-2019.csv\n",
      "Resolving opendata.rijdendetreinen.nl (opendata.rijdendetreinen.nl)... 2a06:98c1:3120::b, 2a06:98c1:3121::b, 188.114.97.11, ...\n",
      "Connecting to opendata.rijdendetreinen.nl (opendata.rijdendetreinen.nl)|2a06:98c1:3120::b|:443... connected.\n",
      "HTTP request sent, awaiting response... 200 OK\n",
      "Length: 1848697 (1.8M) [application/octet-stream]\n",
      "Saving to: ‘data/disruptions/disruptions_2019.csv’\n",
      "\n",
      "data/disruptions/di 100%[===================>]   1.76M  --.-KB/s    in 0.09s   \n",
      "\n",
      "2025-10-16 13:46:09 (18.6 MB/s) - ‘data/disruptions/disruptions_2019.csv’ saved [1848697/1848697]\n",
      "\n",
      "--2025-10-16 13:46:09--  https://opendata.rijdendetreinen.nl/public/disruptions/disruptions-2020.csv\n",
      "Resolving opendata.rijdendetreinen.nl (opendata.rijdendetreinen.nl)... 2a06:98c1:3120::b, 2a06:98c1:3121::b, 188.114.97.11, ...\n",
      "Connecting to opendata.rijdendetreinen.nl (opendata.rijdendetreinen.nl)|2a06:98c1:3120::b|:443... connected.\n",
      "HTTP request sent, awaiting response... 200 OK\n",
      "Length: 1338052 (1.3M) [application/octet-stream]\n",
      "Saving to: ‘data/disruptions/disruptions_2020.csv’\n",
      "\n",
      "data/disruptions/di 100%[===================>]   1.28M  --.-KB/s    in 0.09s   \n",
      "\n",
      "2025-10-16 13:46:10 (14.5 MB/s) - ‘data/disruptions/disruptions_2020.csv’ saved [1338052/1338052]\n",
      "\n",
      "--2025-10-16 13:46:10--  https://opendata.rijdendetreinen.nl/public/disruptions/disruptions-2021.csv\n",
      "Resolving opendata.rijdendetreinen.nl (opendata.rijdendetreinen.nl)... 2a06:98c1:3120::b, 2a06:98c1:3121::b, 188.114.97.11, ...\n",
      "Connecting to opendata.rijdendetreinen.nl (opendata.rijdendetreinen.nl)|2a06:98c1:3120::b|:443... connected.\n",
      "HTTP request sent, awaiting response... 200 OK\n",
      "Length: 1438033 (1.4M) [application/octet-stream]\n",
      "Saving to: ‘data/disruptions/disruptions_2021.csv’\n",
      "\n",
      "data/disruptions/di 100%[===================>]   1.37M  --.-KB/s    in 0.08s   \n",
      "\n",
      "2025-10-16 13:46:10 (18.0 MB/s) - ‘data/disruptions/disruptions_2021.csv’ saved [1438033/1438033]\n",
      "\n",
      "--2025-10-16 13:46:10--  https://opendata.rijdendetreinen.nl/public/disruptions/disruptions-2022.csv\n",
      "Resolving opendata.rijdendetreinen.nl (opendata.rijdendetreinen.nl)... 2a06:98c1:3120::b, 2a06:98c1:3121::b, 188.114.97.11, ...\n",
      "Connecting to opendata.rijdendetreinen.nl (opendata.rijdendetreinen.nl)|2a06:98c1:3120::b|:443... connected.\n",
      "HTTP request sent, awaiting response... 200 OK\n",
      "Length: 1693668 (1.6M) [application/octet-stream]\n",
      "Saving to: ‘data/disruptions/disruptions_2022.csv’\n",
      "\n",
      "data/disruptions/di 100%[===================>]   1.61M  --.-KB/s    in 0.09s   \n",
      "\n",
      "2025-10-16 13:46:10 (18.6 MB/s) - ‘data/disruptions/disruptions_2022.csv’ saved [1693668/1693668]\n",
      "\n",
      "--2025-10-16 13:46:10--  https://opendata.rijdendetreinen.nl/public/disruptions/disruptions-2023.csv\n",
      "Resolving opendata.rijdendetreinen.nl (opendata.rijdendetreinen.nl)... 2a06:98c1:3120::b, 2a06:98c1:3121::b, 188.114.97.11, ...\n",
      "Connecting to opendata.rijdendetreinen.nl (opendata.rijdendetreinen.nl)|2a06:98c1:3120::b|:443... connected.\n",
      "HTTP request sent, awaiting response... 200 OK\n",
      "Length: 1632642 (1.6M) [application/octet-stream]\n",
      "Saving to: ‘data/disruptions/disruptions_2023.csv’\n",
      "\n",
      "data/disruptions/di 100%[===================>]   1.56M  --.-KB/s    in 0.1s    \n",
      "\n",
      "2025-10-16 13:46:11 (14.5 MB/s) - ‘data/disruptions/disruptions_2023.csv’ saved [1632642/1632642]\n",
      "\n"
     ]
    }
   ],
   "source": [
    "!bash download_disruptions.sh"
   ]
  },
  {
   "cell_type": "markdown",
   "metadata": {},
   "source": [
    "There is no single dataset for 2025, so I omit it. I have only datasets for 2019-2024 inclusive.\n"
   ]
  },
  {
   "cell_type": "code",
   "execution_count": 4,
   "metadata": {
    "vscode": {
     "languageId": "shellscript"
    }
   },
   "outputs": [
    {
     "name": "stdout",
     "output_type": "stream",
     "text": [
      "--2025-10-16 13:46:11--  https://opendata.rijdendetreinen.nl/public/services/services-2019.csv.gz\n",
      "Resolving opendata.rijdendetreinen.nl (opendata.rijdendetreinen.nl)... 2a06:98c1:3120::b, 2a06:98c1:3121::b, 188.114.97.11, ...\n",
      "Connecting to opendata.rijdendetreinen.nl (opendata.rijdendetreinen.nl)|2a06:98c1:3120::b|:443... connected.\n",
      "HTTP request sent, awaiting response... 200 OK\n",
      "Length: 382832398 (365M) [application/octet-stream]\n",
      "Saving to: ‘data/services/services_2019.csv.gz’\n",
      "\n",
      "data/services/servi 100%[===================>] 365.10M  49.8MB/s    in 7.3s    \n",
      "\n",
      "2025-10-16 13:46:19 (49.8 MB/s) - ‘data/services/services_2019.csv.gz’ saved [382832398/382832398]\n",
      "\n",
      "--2025-10-16 13:46:20--  https://opendata.rijdendetreinen.nl/public/services/services-2020.csv.gz\n",
      "Resolving opendata.rijdendetreinen.nl (opendata.rijdendetreinen.nl)... 2a06:98c1:3120::b, 2a06:98c1:3121::b, 188.114.97.11, ...\n",
      "Connecting to opendata.rijdendetreinen.nl (opendata.rijdendetreinen.nl)|2a06:98c1:3120::b|:443... connected.\n",
      "HTTP request sent, awaiting response... 200 OK\n",
      "Length: 388565488 (371M) [application/octet-stream]\n",
      "Saving to: ‘data/services/services_2020.csv.gz’\n",
      "\n",
      "data/services/servi 100%[===================>] 370.56M  50.5MB/s    in 7.5s    \n",
      "\n",
      "2025-10-16 13:46:28 (49.4 MB/s) - ‘data/services/services_2020.csv.gz’ saved [388565488/388565488]\n",
      "\n",
      "--2025-10-16 13:46:30--  https://opendata.rijdendetreinen.nl/public/services/services-2021.csv.gz\n",
      "Resolving opendata.rijdendetreinen.nl (opendata.rijdendetreinen.nl)... 2a06:98c1:3120::b, 2a06:98c1:3121::b, 188.114.97.11, ...\n",
      "Connecting to opendata.rijdendetreinen.nl (opendata.rijdendetreinen.nl)|2a06:98c1:3120::b|:443... connected.\n",
      "HTTP request sent, awaiting response... 200 OK\n",
      "Length: 384255771 (366M) [application/octet-stream]\n",
      "Saving to: ‘data/services/services_2021.csv.gz’\n",
      "\n",
      "data/services/servi 100%[===================>] 366.45M  50.5MB/s    in 7.3s    \n",
      "\n",
      "2025-10-16 13:46:37 (49.9 MB/s) - ‘data/services/services_2021.csv.gz’ saved [384255771/384255771]\n",
      "\n",
      "--2025-10-16 13:46:39--  https://opendata.rijdendetreinen.nl/public/services/services-2022.csv.gz\n",
      "Resolving opendata.rijdendetreinen.nl (opendata.rijdendetreinen.nl)... 2a06:98c1:3120::b, 2a06:98c1:3121::b, 188.114.97.11, ...\n",
      "Connecting to opendata.rijdendetreinen.nl (opendata.rijdendetreinen.nl)|2a06:98c1:3120::b|:443... connected.\n",
      "HTTP request sent, awaiting response... 200 OK\n",
      "Length: 389990314 (372M) [application/octet-stream]\n",
      "Saving to: ‘data/services/services_2022.csv.gz’\n",
      "\n",
      "data/services/servi 100%[===================>] 371.92M  49.9MB/s    in 7.5s    \n",
      "\n",
      "2025-10-16 13:46:47 (49.8 MB/s) - ‘data/services/services_2022.csv.gz’ saved [389990314/389990314]\n",
      "\n",
      "--2025-10-16 13:46:48--  https://opendata.rijdendetreinen.nl/public/services/services-2023.csv.gz\n",
      "Resolving opendata.rijdendetreinen.nl (opendata.rijdendetreinen.nl)... 2a06:98c1:3120::b, 2a06:98c1:3121::b, 188.114.97.11, ...\n",
      "Connecting to opendata.rijdendetreinen.nl (opendata.rijdendetreinen.nl)|2a06:98c1:3120::b|:443... connected.\n",
      "HTTP request sent, awaiting response... 200 OK\n",
      "Length: 378407946 (361M) [application/octet-stream]\n",
      "Saving to: ‘data/services/services_2023.csv.gz’\n",
      "\n",
      "data/services/servi 100%[===================>] 360.88M  50.4MB/s    in 7.4s    \n",
      "\n",
      "2025-10-16 13:46:56 (48.7 MB/s) - ‘data/services/services_2023.csv.gz’ saved [378407946/378407946]\n",
      "\n",
      "--2025-10-16 13:46:58--  https://opendata.rijdendetreinen.nl/public/services/services-2024.csv.gz\n",
      "Resolving opendata.rijdendetreinen.nl (opendata.rijdendetreinen.nl)... 2a06:98c1:3120::b, 2a06:98c1:3121::b, 188.114.97.11, ...\n",
      "Connecting to opendata.rijdendetreinen.nl (opendata.rijdendetreinen.nl)|2a06:98c1:3120::b|:443... connected.\n",
      "HTTP request sent, awaiting response... 200 OK\n",
      "Length: 391243880 (373M) [application/octet-stream]\n",
      "Saving to: ‘data/services/services_2024.csv.gz’\n",
      "\n",
      "data/services/servi 100%[===================>] 373.12M  50.2MB/s    in 7.5s    \n",
      "\n",
      "2025-10-16 13:47:06 (49.5 MB/s) - ‘data/services/services_2024.csv.gz’ saved [391243880/391243880]\n",
      "\n",
      "--2025-10-16 13:47:07--  https://opendata.rijdendetreinen.nl/public/services/services-2025.csv.gz\n",
      "Resolving opendata.rijdendetreinen.nl (opendata.rijdendetreinen.nl)... 2a06:98c1:3120::b, 2a06:98c1:3121::b, 188.114.97.11, ...\n",
      "Connecting to opendata.rijdendetreinen.nl (opendata.rijdendetreinen.nl)|2a06:98c1:3120::b|:443... connected.\n",
      "HTTP request sent, awaiting response... 404 Not Found\n",
      "2025-10-16 13:47:07 ERROR 404: Not Found.\n",
      "\n"
     ]
    }
   ],
   "source": [
    "!bash download_services.sh"
   ]
  },
  {
   "cell_type": "code",
   "execution_count": 5,
   "metadata": {},
   "outputs": [],
   "source": [
    "import duckdb\n",
    "\n",
    "db = duckdb.connect(\"data/train_db.duckdb\")"
   ]
  },
  {
   "cell_type": "code",
   "execution_count": 6,
   "metadata": {},
   "outputs": [
    {
     "ename": "CatalogException",
     "evalue": "Catalog Error: Table with name \"stations\" already exists!",
     "output_type": "error",
     "traceback": [
      "\u001b[31m---------------------------------------------------------------------------\u001b[39m",
      "\u001b[31mCatalogException\u001b[39m                          Traceback (most recent call last)",
      "\u001b[36mCell\u001b[39m\u001b[36m \u001b[39m\u001b[32mIn[6]\u001b[39m\u001b[32m, line 1\u001b[39m\n\u001b[32m----> \u001b[39m\u001b[32m1\u001b[39m \u001b[43mdb\u001b[49m\u001b[43m.\u001b[49m\u001b[43msql\u001b[49m\u001b[43m(\u001b[49m\n\u001b[32m      2\u001b[39m \u001b[43m    \u001b[49m\u001b[43mquery\u001b[49m\u001b[43m=\u001b[49m\u001b[33;43m\"\"\"\u001b[39;49m\n\u001b[32m      3\u001b[39m \u001b[33;43mCREATE TABLE stations AS SELECT * FROM read_csv(\u001b[39;49m\u001b[33;43m'\u001b[39;49m\u001b[33;43mdata/stations_2023.csv\u001b[39;49m\u001b[33;43m'\u001b[39;49m\u001b[33;43m)\u001b[39;49m\n\u001b[32m      4\u001b[39m \u001b[33;43m\"\"\"\u001b[39;49m\n\u001b[32m      5\u001b[39m \u001b[43m)\u001b[49m\n",
      "\u001b[31mCatalogException\u001b[39m: Catalog Error: Table with name \"stations\" already exists!"
     ]
    }
   ],
   "source": [
    "db.sql(\n",
    "    query=\"\"\"\n",
    "CREATE TABLE stations AS SELECT * FROM read_csv('data/stations_2023.csv')\n",
    "\"\"\"\n",
    ")"
   ]
  },
  {
   "cell_type": "code",
   "execution_count": null,
   "metadata": {},
   "outputs": [],
   "source": [
    "db.sql(\n",
    "    query=\"\"\"\n",
    "CREATE TABLE distances AS SELECT * FROM read_csv('data/distances_2022.csv', nullstr='XXX')\n",
    "\"\"\"\n",
    ")"
   ]
  },
  {
   "cell_type": "code",
   "execution_count": null,
   "metadata": {},
   "outputs": [],
   "source": [
    "db.sql(\n",
    "    query=\"\"\"\n",
    "CREATE TABLE distances_long AS UNPIVOT distances ON COLUMNS (* EXCLUDE station) INTO NAME other_station VALUE distance\n",
    "\"\"\"\n",
    ")"
   ]
  },
  {
   "cell_type": "code",
   "execution_count": null,
   "metadata": {},
   "outputs": [
    {
     "data": {
      "text/plain": [
       "┌─────────┬───────────────┬──────────┐\n",
       "│ Station │ other_station │ distance │\n",
       "│ varchar │    varchar    │  int64   │\n",
       "├─────────┼───────────────┼──────────┤\n",
       "│ AC      │ AH            │       82 │\n",
       "│ AC      │ AHP           │       83 │\n",
       "│ AC      │ AHPR          │       85 │\n",
       "│ AC      │ AHZ           │       90 │\n",
       "│ AC      │ AKL           │       71 │\n",
       "│ AC      │ AKM           │      188 │\n",
       "│ AC      │ ALM           │       32 │\n",
       "│ AC      │ ALMB          │       38 │\n",
       "│ AC      │ ALMM          │       31 │\n",
       "│ AC      │ ALMO          │       40 │\n",
       "├─────────┴───────────────┴──────────┤\n",
       "│ 10 rows                  3 columns │\n",
       "└────────────────────────────────────┘"
      ]
     },
     "execution_count": 33,
     "metadata": {},
     "output_type": "execute_result"
    }
   ],
   "source": [
    "db.sql(query=\"\"\"SELECT * FROM distances_long limit 10\"\"\")"
   ]
  },
  {
   "cell_type": "code",
   "execution_count": null,
   "metadata": {},
   "outputs": [
    {
     "data": {
      "application/vnd.jupyter.widget-view+json": {
       "model_id": "4b24e67ac9b34b54938c39ba486a6a67",
       "version_major": 2,
       "version_minor": 0
      },
      "text/plain": [
       "FloatProgress(value=0.0, layout=Layout(width='auto'), style=ProgressStyle(bar_color='black'))"
      ]
     },
     "metadata": {},
     "output_type": "display_data"
    }
   ],
   "source": [
    "db.sql(\n",
    "    query=\"\"\"\n",
    "COPY (SELECT * FROM read_csv(\"data/services/*.csv\")) TO \"data/services.parquet\" (COMPRESSION zstd);\n",
    "\"\"\"\n",
    ")"
   ]
  },
  {
   "cell_type": "code",
   "execution_count": null,
   "metadata": {},
   "outputs": [
    {
     "data": {
      "application/vnd.jupyter.widget-view+json": {
       "model_id": "5d476c80edfb4b72ad5e67a1d80ed631",
       "version_major": 2,
       "version_minor": 0
      },
      "text/plain": [
       "FloatProgress(value=0.0, layout=Layout(width='auto'), style=ProgressStyle(bar_color='black'))"
      ]
     },
     "metadata": {},
     "output_type": "display_data"
    }
   ],
   "source": [
    "db.sql(\"\"\"\n",
    "CREATE TABLE services AS SELECT * FROM \"data/services.parquet\"\n",
    "\"\"\")"
   ]
  },
  {
   "cell_type": "code",
   "execution_count": 15,
   "metadata": {},
   "outputs": [],
   "source": [
    "conn_string = \"host=localhost user=postgres password=postgres dbname=postgres\"\n",
    "db.sql(\n",
    "    query=f\"\"\"\n",
    "ATTACH IF NOT EXISTS '{conn_string}' AS postgres (TYPE postgres)\n",
    "\"\"\"\n",
    ")"
   ]
  },
  {
   "cell_type": "code",
   "execution_count": 17,
   "metadata": {},
   "outputs": [],
   "source": [
    "db.sql(\n",
    "    query=\"\"\"\n",
    "COPY (SELECT * FROM read_csv('data/disruptions/*.csv')) TO postgres \n",
    "\"\"\"\n",
    ")"
   ]
  },
  {
   "cell_type": "code",
   "execution_count": 19,
   "metadata": {},
   "outputs": [
    {
     "data": {
      "text/plain": [
       "┌──────────┬─────────┬─────────────────────┬──────────────────────────────────────────────────────────────────────────────────────────────────────────────────────────────────────────────────────────────────────────────────────────────────────────────────────────────────────────────────────────────────────────────────────────────────────────────────────────────────────────────────────────────────────────────────────────────────────────────────────────────────────────────────────────────────────────────────────────────────────────────────────────────────────────────────────────────────────────────────────────────────────────────────────────────────────────────────────────────────────────────────────────────────────────────────────────────────────────────────────────────────────────────────────────────────────────────────────────────────────────────────────────────────────────────────────────────────────────────────────────────────────────────────────────────────────────────────────────────────────────────────────────────────────────────────────────────────────────────────────────────────────────────────────────────────────────────────────────────────────────────────────────────────────────────────────────────────────────────────────────────────────────────────────────────────────────────────────────────────────────────────────────────────────────────────────────────────────────────────────────────────────────────────────────────────────────────────────────────────────────────────────────────────────────────────────────────────────────────────────────────────────────────────────────────────────────────────────────────────────────────────────────────────────────────────────────────────────────────────────────────────────────────────────────────────────────────────────────────────────────────────────────────────────────────────────────────────────────────────────────────────────────────────────────────────────────────────────────────────────────────────────────────────────────────┬───────────────────────────────────────────────────────────────────────────────────────────────────────────────────────────────────────────────────────────────────────────────────────────────────────────────────────────────────────────────────────────────────────────────────────────────────────────────────────────────────────────────────────────────────────────────────────────────────────────────────────────────────────────────────────────────────────────────────────────────────────────────────────────────────────────────────────────────────────────────────────────────────────────────────────────────────────────────────────────────────────────────────────────────────────────────────────────────────────────────────────────────────────────────────────────────────────────────────────────────────────────────────────────────────────────────────────────────────────────────────────────────────────────────────────────────────────────────────────────────────────────────────────────────────────────────────────────────────────────────────────────────────────────────────────────────────────────────────────────────────────────────────────────────────────────────────────────────────────────────────────────────────────────────────────────────────────────────────────────────────────────────────────────────────────────────────────────────────────────────────────────────────────────────────────────────────────────────────────────────────────────────────────────────────────────────────────────────────────────────────────────────────────────────────────────────────────────────────────────────────────────────────────────────────────────────────────────────────────────────────────────────────────────────────────────────────────────────────────────────────────────────────────────────────────────────────────────────────────────────────────────────────────────────────────────────────────────────────────────────────────────────────────────────────────────────────────────────────────────────────────────────────────────────────────────────────────────────────────────────────────────────────────────────────────────────────────────────────────────────────────────────────────────────────────────────────────────────────────────────────────────────────────────────────────────────────────────────────────────────────────────────────────────────────────────────────────────────────────────────────────────────────────────────────────────────────────────────────────────────────────────────────────────────────────────────────────────────────────────────────────────────────────────────────────────────────────────────────────────────────────────────────────────────────────────────────────────────────────────────────────────────────────────────────────────────────────────────────────────────────────────────────────────────────────────────────────────────────────────────────────────────────────────────────────────────────────────────────────────────────────────────────────────────────────────────────────────────────────────────────────────────────────────────────────────────────────────────────────────────────────────────────────────────────────────────────────────────────────────────────┬───────────┐\n",
       "│ database │ schema  │        name         │                                                                                                                                                                                                                                                                                                                                                                                                                                                                                                                                                                                                                                                                                                                                                                                                                                                                                                                                                                                                                 column_names                                                                                                                                                                                                                                                                                                                                                                                                                                                                                                                                                                                                                                                                                                                                                                                                                                                                                                                                                                                                                 │                                                                                                                                                                                                                                                                                                                                                                                                                                                                                                                                                                                                                                                                                                                                                                                                                                                                                                                                                                                                                                                                                                                                                                                                                                                                                                                                                                                                                                                                                                                                                                                                                                                           column_types                                                                                                                                                                                                                                                                                                                                                                                                                                                                                                                                                                                                                                                                                                                                                                                                                                                                                                                                                                                                                                                                                                                                                                                                                                                                                                                                                                                                                                                                                                                                                                                                                                                            │ temporary │\n",
       "│ varchar  │ varchar │       varchar       │                                                                                                                                                                                                                                                                                                                                                                                                                                                                                                                                                                                                                                                                                                                                                                                                                                                                                                                                                                                                                  varchar[]                                                                                                                                                                                                                                                                                                                                                                                                                                                                                                                                                                                                                                                                                                                                                                                                                                                                                                                                                                                                                   │                                                                                                                                                                                                                                                                                                                                                                                                                                                                                                                                                                                                                                                                                                                                                                                                                                                                                                                                                                                                                                                                                                                                                                                                                                                                                                                                                                                                                                                                                                                                                                                                                                                             varchar[]                                                                                                                                                                                                                                                                                                                                                                                                                                                                                                                                                                                                                                                                                                                                                                                                                                                                                                                                                                                                                                                                                                                                                                                                                                                                                                                                                                                                                                                                                                                                                                                                                                                             │  boolean  │\n",
       "├──────────┼─────────┼─────────────────────┼──────────────────────────────────────────────────────────────────────────────────────────────────────────────────────────────────────────────────────────────────────────────────────────────────────────────────────────────────────────────────────────────────────────────────────────────────────────────────────────────────────────────────────────────────────────────────────────────────────────────────────────────────────────────────────────────────────────────────────────────────────────────────────────────────────────────────────────────────────────────────────────────────────────────────────────────────────────────────────────────────────────────────────────────────────────────────────────────────────────────────────────────────────────────────────────────────────────────────────────────────────────────────────────────────────────────────────────────────────────────────────────────────────────────────────────────────────────────────────────────────────────────────────────────────────────────────────────────────────────────────────────────────────────────────────────────────────────────────────────────────────────────────────────────────────────────────────────────────────────────────────────────────────────────────────────────────────────────────────────────────────────────────────────────────────────────────────────────────────────────────────────────────────────────────────────────────────────────────────────────────────────────────────────────────────────────────────────────────────────────────────────────────────────────────────────────────────────────────────────────────────────────────────────────────────────────────────────────────────────────────────────────────────────────────────────────────────────────────────────────────────────────────────────────────────────────────────────────────────────────────────────────────────────────────────────────────────────────────────────────────────────────────────────────────────────────┼───────────────────────────────────────────────────────────────────────────────────────────────────────────────────────────────────────────────────────────────────────────────────────────────────────────────────────────────────────────────────────────────────────────────────────────────────────────────────────────────────────────────────────────────────────────────────────────────────────────────────────────────────────────────────────────────────────────────────────────────────────────────────────────────────────────────────────────────────────────────────────────────────────────────────────────────────────────────────────────────────────────────────────────────────────────────────────────────────────────────────────────────────────────────────────────────────────────────────────────────────────────────────────────────────────────────────────────────────────────────────────────────────────────────────────────────────────────────────────────────────────────────────────────────────────────────────────────────────────────────────────────────────────────────────────────────────────────────────────────────────────────────────────────────────────────────────────────────────────────────────────────────────────────────────────────────────────────────────────────────────────────────────────────────────────────────────────────────────────────────────────────────────────────────────────────────────────────────────────────────────────────────────────────────────────────────────────────────────────────────────────────────────────────────────────────────────────────────────────────────────────────────────────────────────────────────────────────────────────────────────────────────────────────────────────────────────────────────────────────────────────────────────────────────────────────────────────────────────────────────────────────────────────────────────────────────────────────────────────────────────────────────────────────────────────────────────────────────────────────────────────────────────────────────────────────────────────────────────────────────────────────────────────────────────────────────────────────────────────────────────────────────────────────────────────────────────────────────────────────────────────────────────────────────────────────────────────────────────────────────────────────────────────────────────────────────────────────────────────────────────────────────────────────────────────────────────────────────────────────────────────────────────────────────────────────────────────────────────────────────────────────────────────────────────────────────────────────────────────────────────────────────────────────────────────────────────────────────────────────────────────────────────────────────────────────────────────────────────────────────────────────────────────────────────────────────────────────────────────────────────────────────────────────────────────────────────────────────────────────────────────────────────────────────────────────────────────────────────────────────────────────────────────────────────────────────────────────────────────────────────────────────────────────────────────────────────────────────────────────────────┼───────────┤\n",
       "│ postgres │ public  │ disruptions         │ [rdt_id, ns_lines, rdt_lines, rdt_lines_id, rdt_station_names, rdt_station_codes, cause_nl, cause_en, statistical_cause_nl, statistical_cause_en, cause_group, start_time, end_time, duration_minutes]                                                                                                                                                                                                                                                                                                                                                                                                                                                                                                                                                                                                                                                                                                                                                                                                                                                                                                                                                                                                                                                                                                                                                                                                                                                                                                                                                                                                                                                                                                                                                                                                                                                                                                                                                                                                                                       │ [BIGINT, VARCHAR, VARCHAR, VARCHAR, VARCHAR, VARCHAR, VARCHAR, VARCHAR, VARCHAR, VARCHAR, VARCHAR, TIMESTAMP, TIMESTAMP, BIGINT]                                                                                                                                                                                                                                                                                                                                                                                                                                                                                                                                                                                                                                                                                                                                                                                                                                                                                                                                                                                                                                                                                                                                                                                                                                                                                                                                                                                                                                                                                                                                                                                                                                                                                                                                                                                                                                                                                                                                                                                                                                                                                                                                                                                                                                                                                                                                                                                                                                                                                                                                                                                                                                                                                                                                                                                                                                                                                                                                                                                                                                                                                                                                                                                                  │ false     │\n",
       "│ train_db │ main    │ distances           │ [Station, AC, AH, AHP, AHPR, AHZ, AKL, AKM, ALM, ALMB, ALMM, ALMO, ALMP, AMF, AMFS, AML, AMPO, AMR, AMRI, AMRN, ANA, APD, APDM, APDO, APG, APN, ARN, ASA, ASB, ASD, ASDL, ASDM, ASDZ, ASHD, ASN, ASS, ASSP, ATN, AVAT, BD, BDE, BDG, BDM, BDPB, BET, BF, BGN, BHDV, BHV, BK, BKF, BKG, BKL, BL, BLL, BMN, BMR, BN, BNC, BNK, BNN, BNZ, BP, BR, BRD, BRN, BSD, BSK, BSKS, BSMZ, BTL, BV, BZL, CAS, CK, CL, CO, CPS, CVM, DA, DB, DDN, DDR, DDRS, DDZD, DEI, DID, DL, DLD, DLN, DMN, DMNZ, DN, DR, DRH, DRON, DRP, DT, DTC, DTCH, DTCP, DV, DVC, DVD, DVN, DVNK, DWE, DZ, DZW, EC, ED, EDC, EDN, EEM, EGH, EGHM, EHS, EHV, EKZ, EML, EMN, EMNZ, ES, ESE, ESK, EST, ETN, FN, FWD, GBG, GBR, GD, GDG, GDM, GDR, GERP, GK, GLN, GN, GND, GNN, GO, GP, GR, GS, GV, GVC, GVM, GVMW, GW, GZ, HAD, HB, HBZM, HD, HDB, HDE, HDG, HDR, HDRZ, HFD, HGL, HGLG, HGLO, HGV, HGZ, HIL, HK, HKS, HLG, HLGH, HLM, HLMS, HLO, HM, HMBH, HMBV, HMH, HMN, HN, HNK, HNO, HNP, HON, HOR, HR, HRL, HRLW, HRN, HRT, HRY, HT, HTN, HTNC, HTO, HVL, HVS, HVSM, HVSP, HWD, HWZB, HZE, IJT, KBD, KBK, KLP, KMA, KMR, KMW, KPN, KPNZ, KRD, KRG, KTR, KW, KZ, LAA, LC, LDL, LDM, LEDN, LEER, LG, LLS, LLZM, LP, LTN, LTV, LUT, LW, LWC, MAS, MDB, MES, MG, MMLH, MP, MRB, MRN, MT, MTH, MTN, MTR, MZ, NA, NDB, NH, NKK, NM, NMD, NMGO, NMH, NML, NS, NSCH, NVD, NVP, NWK, O, OBD, ODB, ODZ, OMN, OP, OST, OT, OTB, OVN, OW, PMO, PMR, PMW, PT, RAI, RAT, RB, RD, RH, RHN, RL, RLB, RM, RS, RSD, RSN, RSW, RTA, RTB, RTD, RTN, RTST, RTZ, RV, RVS, SBK, SD, SDA, SDM, SDT, SDTB, SGL, SGN, SHL, SK, SKND, SM, SN, SOG, SPTN, SPTZ, SRN, SSH, ST, STD, STM, STV, STZ, SWD, SWK, TB, TBG, TBR, TBU, TG, TL, TPSW, TWL, UHM, UHZ, UST, UT, UTG, UTLN, UTLR, UTM, UTO, UTT, UTVR, UTZL, VB, VD, VDL, VDM, VEM, VG, VH, VHP, VK, VL, VLB, VNDC, VNDW, VP, VRY, VS, VSS, VST, VSV, VTN, VZ, WAD, WADN, WADT, WC, WD, WDN, WF, WFM, WH, WK, WL, WM, WP, WR, WS, WSM, WT, WTV, WV, WW, WWW, WZ, YPB, ZA, ZB, ZBM, ZD, ZDK, ZH, ZL, ZLSH, ZLW, ZP, ZTM, ZTMO, ZV, ZVB, ZVT, ZWD, ZZS] │ [VARCHAR, BIGINT, BIGINT, BIGINT, BIGINT, BIGINT, BIGINT, BIGINT, BIGINT, BIGINT, BIGINT, BIGINT, BIGINT, BIGINT, BIGINT, BIGINT, BIGINT, BIGINT, BIGINT, BIGINT, BIGINT, BIGINT, BIGINT, BIGINT, BIGINT, BIGINT, BIGINT, BIGINT, BIGINT, BIGINT, BIGINT, BIGINT, BIGINT, BIGINT, BIGINT, BIGINT, BIGINT, BIGINT, BIGINT, BIGINT, BIGINT, BIGINT, BIGINT, BIGINT, BIGINT, BIGINT, BIGINT, BIGINT, BIGINT, BIGINT, BIGINT, BIGINT, BIGINT, BIGINT, BIGINT, BIGINT, BIGINT, BIGINT, BIGINT, BIGINT, BIGINT, BIGINT, BIGINT, BIGINT, BIGINT, BIGINT, BIGINT, BIGINT, BIGINT, BIGINT, BIGINT, BIGINT, BIGINT, BIGINT, BIGINT, BIGINT, BIGINT, BIGINT, BIGINT, BIGINT, BIGINT, BIGINT, BIGINT, BIGINT, BIGINT, BIGINT, BIGINT, BIGINT, BIGINT, BIGINT, BIGINT, BIGINT, BIGINT, BIGINT, BIGINT, BIGINT, BIGINT, BIGINT, BIGINT, BIGINT, BIGINT, BIGINT, BIGINT, BIGINT, BIGINT, BIGINT, BIGINT, BIGINT, BIGINT, BIGINT, BIGINT, BIGINT, BIGINT, BIGINT, BIGINT, BIGINT, BIGINT, BIGINT, BIGINT, BIGINT, BIGINT, BIGINT, BIGINT, BIGINT, BIGINT, BIGINT, BIGINT, BIGINT, BIGINT, BIGINT, BIGINT, BIGINT, BIGINT, BIGINT, BIGINT, BIGINT, BIGINT, BIGINT, BIGINT, BIGINT, BIGINT, BIGINT, BIGINT, BIGINT, BIGINT, BIGINT, BIGINT, BIGINT, BIGINT, BIGINT, BIGINT, BIGINT, BIGINT, BIGINT, BIGINT, BIGINT, BIGINT, BIGINT, BIGINT, BIGINT, BIGINT, BIGINT, BIGINT, BIGINT, BIGINT, BIGINT, BIGINT, BIGINT, BIGINT, BIGINT, BIGINT, BIGINT, BIGINT, BIGINT, BIGINT, BIGINT, BIGINT, BIGINT, BIGINT, BIGINT, BIGINT, BIGINT, BIGINT, BIGINT, BIGINT, BIGINT, BIGINT, BIGINT, BIGINT, BIGINT, BIGINT, BIGINT, BIGINT, BIGINT, BIGINT, BIGINT, BIGINT, BIGINT, BIGINT, BIGINT, BIGINT, BIGINT, BIGINT, BIGINT, BIGINT, BIGINT, BIGINT, BIGINT, BIGINT, BIGINT, BIGINT, BIGINT, BIGINT, BIGINT, BIGINT, BIGINT, BIGINT, BIGINT, BIGINT, BIGINT, BIGINT, BIGINT, BIGINT, BIGINT, BIGINT, BIGINT, BIGINT, BIGINT, BIGINT, BIGINT, BIGINT, BIGINT, BIGINT, BIGINT, BIGINT, BIGINT, BIGINT, BIGINT, BIGINT, BIGINT, BIGINT, BIGINT, BIGINT, BIGINT, BIGINT, BIGINT, BIGINT, BIGINT, BIGINT, BIGINT, BIGINT, BIGINT, BIGINT, BIGINT, BIGINT, BIGINT, BIGINT, BIGINT, BIGINT, BIGINT, BIGINT, BIGINT, BIGINT, BIGINT, BIGINT, BIGINT, BIGINT, BIGINT, BIGINT, BIGINT, BIGINT, BIGINT, BIGINT, BIGINT, BIGINT, BIGINT, BIGINT, BIGINT, BIGINT, BIGINT, BIGINT, BIGINT, BIGINT, BIGINT, BIGINT, BIGINT, BIGINT, BIGINT, BIGINT, BIGINT, BIGINT, BIGINT, BIGINT, BIGINT, BIGINT, BIGINT, BIGINT, BIGINT, BIGINT, BIGINT, BIGINT, BIGINT, BIGINT, BIGINT, BIGINT, BIGINT, BIGINT, BIGINT, BIGINT, BIGINT, BIGINT, BIGINT, BIGINT, BIGINT, BIGINT, BIGINT, BIGINT, BIGINT, BIGINT, BIGINT, BIGINT, BIGINT, BIGINT, BIGINT, BIGINT, BIGINT, BIGINT, BIGINT, BIGINT, BIGINT, BIGINT, BIGINT, BIGINT, BIGINT, BIGINT, BIGINT, BIGINT, BIGINT, BIGINT, BIGINT, BIGINT, BIGINT, BIGINT, BIGINT, BIGINT, BIGINT, BIGINT, BIGINT, BIGINT, BIGINT, BIGINT, BIGINT, BIGINT, BIGINT, BIGINT, BIGINT, BIGINT, BIGINT, BIGINT, BIGINT, BIGINT, BIGINT, BIGINT, BIGINT, BIGINT, BIGINT, BIGINT, BIGINT, BIGINT, BIGINT, BIGINT, BIGINT, BIGINT, BIGINT, BIGINT, BIGINT, BIGINT, BIGINT, BIGINT, BIGINT, BIGINT, BIGINT, BIGINT, BIGINT, BIGINT, BIGINT, BIGINT, BIGINT, BIGINT, BIGINT, BIGINT, BIGINT, BIGINT, BIGINT, BIGINT, BIGINT, BIGINT, BIGINT, BIGINT, BIGINT] │ false     │\n",
       "│ train_db │ main    │ distances_long      │ [Station, other_station, distance]                                                                                                                                                                                                                                                                                                                                                                                                                                                                                                                                                                                                                                                                                                                                                                                                                                                                                                                                                                                                                                                                                                                                                                                                                                                                                                                                                                                                                                                                                                                                                                                                                                                                                                                                                                                                                                                                                                                                                                                                           │ [VARCHAR, VARCHAR, BIGINT]                                                                                                                                                                                                                                                                                                                                                                                                                                                                                                                                                                                                                                                                                                                                                                                                                                                                                                                                                                                                                                                                                                                                                                                                                                                                                                                                                                                                                                                                                                                                                                                                                                                                                                                                                                                                                                                                                                                                                                                                                                                                                                                                                                                                                                                                                                                                                                                                                                                                                                                                                                                                                                                                                                                                                                                                                                                                                                                                                                                                                                                                                                                                                                                                                                                                                                        │ false     │\n",
       "│ train_db │ main    │ services            │ ['Service:RDT-ID', 'Service:Date', 'Service:Type', 'Service:Company', 'Service:Train number', 'Service:Completely cancelled', 'Service:Partly cancelled', 'Service:Maximum delay', 'Stop:RDT-ID', 'Stop:Station code', 'Stop:Station name', 'Stop:Arrival time', 'Stop:Arrival delay', 'Stop:Arrival cancelled', 'Stop:Departure time', 'Stop:Departure delay', 'Stop:Departure cancelled', 'Stop:Platform change', 'Stop:Planned platform', 'Stop:Actual platform']                                                                                                                                                                                                                                                                                                                                                                                                                                                                                                                                                                                                                                                                                                                                                                                                                                                                                                                                                                                                                                                                                                                                                                                                                                                                                                                                                                                                                                                                                                                                                                         │ [BIGINT, DATE, VARCHAR, VARCHAR, BIGINT, BOOLEAN, BOOLEAN, BIGINT, BIGINT, VARCHAR, VARCHAR, TIMESTAMP WITH TIME ZONE, BIGINT, BOOLEAN, TIMESTAMP WITH TIME ZONE, BIGINT, BOOLEAN, BOOLEAN, VARCHAR, VARCHAR]                                                                                                                                                                                                                                                                                                                                                                                                                                                                                                                                                                                                                                                                                                                                                                                                                                                                                                                                                                                                                                                                                                                                                                                                                                                                                                                                                                                                                                                                                                                                                                                                                                                                                                                                                                                                                                                                                                                                                                                                                                                                                                                                                                                                                                                                                                                                                                                                                                                                                                                                                                                                                                                                                                                                                                                                                                                                                                                                                                                                                                                                                                                     │ false     │\n",
       "│ train_db │ main    │ station_connections │ [start_station_code, end_station_code, distance]                                                                                                                                                                                                                                                                                                                                                                                                                                                                                                                                                                                                                                                                                                                                                                                                                                                                                                                                                                                                                                                                                                                                                                                                                                                                                                                                                                                                                                                                                                                                                                                                                                                                                                                                                                                                                                                                                                                                                                                             │ [VARCHAR, VARCHAR, BIGINT]                                                                                                                                                                                                                                                                                                                                                                                                                                                                                                                                                                                                                                                                                                                                                                                                                                                                                                                                                                                                                                                                                                                                                                                                                                                                                                                                                                                                                                                                                                                                                                                                                                                                                                                                                                                                                                                                                                                                                                                                                                                                                                                                                                                                                                                                                                                                                                                                                                                                                                                                                                                                                                                                                                                                                                                                                                                                                                                                                                                                                                                                                                                                                                                                                                                                                                        │ false     │\n",
       "│ train_db │ main    │ stations            │ [id, code, uic, name_short, name_medium, name_long, slug, country, type, geo_lat, geo_lng]                                                                                                                                                                                                                                                                                                                                                                                                                                                                                                                                                                                                                                                                                                                                                                                                                                                                                                                                                                                                                                                                                                                                                                                                                                                                                                                                                                                                                                                                                                                                                                                                                                                                                                                                                                                                                                                                                                                                                   │ [BIGINT, VARCHAR, BIGINT, VARCHAR, VARCHAR, VARCHAR, VARCHAR, VARCHAR, VARCHAR, DOUBLE, DOUBLE]                                                                                                                                                                                                                                                                                                                                                                                                                                                                                                                                                                                                                                                                                                                                                                                                                                                                                                                                                                                                                                                                                                                                                                                                                                                                                                                                                                                                                                                                                                                                                                                                                                                                                                                                                                                                                                                                                                                                                                                                                                                                                                                                                                                                                                                                                                                                                                                                                                                                                                                                                                                                                                                                                                                                                                                                                                                                                                                                                                                                                                                                                                                                                                                                                                   │ false     │\n",
       "└──────────┴─────────┴─────────────────────┴──────────────────────────────────────────────────────────────────────────────────────────────────────────────────────────────────────────────────────────────────────────────────────────────────────────────────────────────────────────────────────────────────────────────────────────────────────────────────────────────────────────────────────────────────────────────────────────────────────────────────────────────────────────────────────────────────────────────────────────────────────────────────────────────────────────────────────────────────────────────────────────────────────────────────────────────────────────────────────────────────────────────────────────────────────────────────────────────────────────────────────────────────────────────────────────────────────────────────────────────────────────────────────────────────────────────────────────────────────────────────────────────────────────────────────────────────────────────────────────────────────────────────────────────────────────────────────────────────────────────────────────────────────────────────────────────────────────────────────────────────────────────────────────────────────────────────────────────────────────────────────────────────────────────────────────────────────────────────────────────────────────────────────────────────────────────────────────────────────────────────────────────────────────────────────────────────────────────────────────────────────────────────────────────────────────────────────────────────────────────────────────────────────────────────────────────────────────────────────────────────────────────────────────────────────────────────────────────────────────────────────────────────────────────────────────────────────────────────────────────────────────────────────────────────────────────────────────────────────────────────────────────────────────────────────────────────────────────────────────────────────────────────────────────────────────────┴───────────────────────────────────────────────────────────────────────────────────────────────────────────────────────────────────────────────────────────────────────────────────────────────────────────────────────────────────────────────────────────────────────────────────────────────────────────────────────────────────────────────────────────────────────────────────────────────────────────────────────────────────────────────────────────────────────────────────────────────────────────────────────────────────────────────────────────────────────────────────────────────────────────────────────────────────────────────────────────────────────────────────────────────────────────────────────────────────────────────────────────────────────────────────────────────────────────────────────────────────────────────────────────────────────────────────────────────────────────────────────────────────────────────────────────────────────────────────────────────────────────────────────────────────────────────────────────────────────────────────────────────────────────────────────────────────────────────────────────────────────────────────────────────────────────────────────────────────────────────────────────────────────────────────────────────────────────────────────────────────────────────────────────────────────────────────────────────────────────────────────────────────────────────────────────────────────────────────────────────────────────────────────────────────────────────────────────────────────────────────────────────────────────────────────────────────────────────────────────────────────────────────────────────────────────────────────────────────────────────────────────────────────────────────────────────────────────────────────────────────────────────────────────────────────────────────────────────────────────────────────────────────────────────────────────────────────────────────────────────────────────────────────────────────────────────────────────────────────────────────────────────────────────────────────────────────────────────────────────────────────────────────────────────────────────────────────────────────────────────────────────────────────────────────────────────────────────────────────────────────────────────────────────────────────────────────────────────────────────────────────────────────────────────────────────────────────────────────────────────────────────────────────────────────────────────────────────────────────────────────────────────────────────────────────────────────────────────────────────────────────────────────────────────────────────────────────────────────────────────────────────────────────────────────────────────────────────────────────────────────────────────────────────────────────────────────────────────────────────────────────────────────────────────────────────────────────────────────────────────────────────────────────────────────────────────────────────────────────────────────────────────────────────────────────────────────────────────────────────────────────────────────────────────────────────────────────────────────────────────────────────────────────────────────────────────────────────────────────────────────┴───────────┘"
      ]
     },
     "execution_count": 19,
     "metadata": {},
     "output_type": "execute_result"
    }
   ],
   "source": [
    "db.sql(\"\"\"SHOW ALL TABLES\"\"\")"
   ]
  },
  {
   "cell_type": "markdown",
   "metadata": {},
   "source": [
    "### How many trains departed from Amsterdam Central station overall\n"
   ]
  },
  {
   "cell_type": "code",
   "execution_count": 20,
   "metadata": {},
   "outputs": [
    {
     "data": {
      "text/plain": [
       "┌────────────────────┬────────────┐\n",
       "│ Stop:Station name  │ departures │\n",
       "│      varchar       │   int64    │\n",
       "├────────────────────┼────────────┤\n",
       "│ Amsterdam Centraal │    1667971 │\n",
       "└────────────────────┴────────────┘"
      ]
     },
     "execution_count": 20,
     "metadata": {},
     "output_type": "execute_result"
    }
   ],
   "source": [
    "db.sql(\n",
    "    query=\"\"\"\n",
    "SELECT \"Stop:Station name\", COUNT(*) AS departures \n",
    "FROM services where \"Stop:Departure time\" IS NOT Null \n",
    "AND \"Stop:Station name\" = 'Amsterdam Centraal' \n",
    "GROUP BY \"Stop:Station name\"\n",
    "\"\"\"\n",
    ")"
   ]
  },
  {
   "cell_type": "markdown",
   "metadata": {},
   "source": [
    "### Average arrival delay of different service types descending by average delay.\n"
   ]
  },
  {
   "cell_type": "code",
   "execution_count": 21,
   "metadata": {},
   "outputs": [
    {
     "data": {
      "text/plain": [
       "┌──────────────────────┬───────────┐\n",
       "│     Service:Type     │ avg_delay │\n",
       "│       varchar        │  double   │\n",
       "├──────────────────────┼───────────┤\n",
       "│ Alpen Express        │     31.84 │\n",
       "│ Krokus Express       │      18.3 │\n",
       "│ European Sleeper     │     12.18 │\n",
       "│ Nightjet             │      9.01 │\n",
       "│ Eurostar             │      6.91 │\n",
       "│ Thalys               │       5.4 │\n",
       "│ ICE International    │      5.31 │\n",
       "│ Int. Trein           │      4.95 │\n",
       "│ Nachttrein           │      4.28 │\n",
       "│ Stoomtrein           │      3.37 │\n",
       "│     ·                │        ·  │\n",
       "│     ·                │        ·  │\n",
       "│     ·                │        ·  │\n",
       "│ Taxibus ipv trein    │       0.0 │\n",
       "│ Stopbus i.p.v. trein │       0.0 │\n",
       "│ Belbus               │       0.0 │\n",
       "│ Snelbus i.p.v. trein │       0.0 │\n",
       "│ stoptrein            │       0.0 │\n",
       "│ Metro                │       0.0 │\n",
       "│ Metro ipv trein      │       0.0 │\n",
       "│ Tram ipv trein       │       0.0 │\n",
       "│ Niet instappen       │       0.0 │\n",
       "│ Tram i.p.v. trein    │       0.0 │\n",
       "├──────────────────────┴───────────┤\n",
       "│ 37 rows (20 shown)     2 columns │\n",
       "└──────────────────────────────────┘"
      ]
     },
     "execution_count": 21,
     "metadata": {},
     "output_type": "execute_result"
    }
   ],
   "source": [
    "db.sql(\n",
    "    query=\"\"\"\n",
    "SELECT \"Service:Type\", ROUND(AVG(\"Stop:Arrival delay\"),2) as avg_delay \n",
    "FROM services where \"Stop:Arrival delay\" IS NOT Null  \n",
    "GROUP BY \"Service:Type\"\n",
    "ORDER BY avg_delay DESC\n",
    "\"\"\"\n",
    ")"
   ]
  },
  {
   "cell_type": "markdown",
   "metadata": {},
   "source": [
    "### The most common disruption cause in different years.\n"
   ]
  },
  {
   "cell_type": "code",
   "execution_count": 22,
   "metadata": {},
   "outputs": [
    {
     "data": {
      "text/plain": [
       "┌───────────────────┬───────┐\n",
       "│       cause       │ year  │\n",
       "│      varchar      │ int64 │\n",
       "├───────────────────┼───────┤\n",
       "│ broken down train │  2011 │\n",
       "│ points failure    │  2012 │\n",
       "│ points failure    │  2013 │\n",
       "│ broken down train │  2014 │\n",
       "│ broken down train │  2015 │\n",
       "│ broken down train │  2016 │\n",
       "│ broken down train │  2017 │\n",
       "│ broken down train │  2018 │\n",
       "│ broken down train │  2019 │\n",
       "│ broken down train │  2020 │\n",
       "│ broken down train │  2021 │\n",
       "│ broken down train │  2022 │\n",
       "│ broken down train │  2023 │\n",
       "├───────────────────┴───────┤\n",
       "│ 13 rows         2 columns │\n",
       "└───────────────────────────┘"
      ]
     },
     "execution_count": 22,
     "metadata": {},
     "output_type": "execute_result"
    }
   ],
   "source": [
    "db.sql(query=\"\"\"\n",
    "SELECT MODE(\"cause_en\") as cause, date_part('year', (start_time)::date) as year \n",
    "FROM postgres.disruptions \n",
    "GROUP BY year \n",
    "ORDER BY YEAR ASC\n",
    "\"\"\"\n",
    ")"
   ]
  },
  {
   "cell_type": "markdown",
   "metadata": {},
   "source": [
    "### Trains that started their overall service in any Amsterdam station.\n"
   ]
  },
  {
   "cell_type": "code",
   "execution_count": 23,
   "metadata": {},
   "outputs": [
    {
     "data": {
      "text/plain": [
       "┌─────────┐\n",
       "│ trains  │\n",
       "│  int64  │\n",
       "├─────────┤\n",
       "│ 7674845 │\n",
       "└─────────┘"
      ]
     },
     "execution_count": 23,
     "metadata": {},
     "output_type": "execute_result"
    }
   ],
   "source": [
    "db.sql(\n",
    "    query=\"\"\"\n",
    "SELECT COUNT(*) as trains FROM services \n",
    "WHERE \"Stop:Departure time\" IS NOT Null \n",
    "AND \"Stop:Station Name\" LIKE ('%Amsterdam%')\n",
    "\"\"\"\n",
    ")"
   ]
  },
  {
   "cell_type": "markdown",
   "metadata": {},
   "source": [
    "### Fraction of services that was run to final destinations outside the Netherlands\n"
   ]
  },
  {
   "cell_type": "code",
   "execution_count": 24,
   "metadata": {},
   "outputs": [
    {
     "data": {
      "text/plain": [
       "┌─────────────────┬──────────┬─────────────────────────┐\n",
       "│ outside_nl_runs │ all_runs │ percentage_outside_runs │\n",
       "│      int64      │  int64   │         double          │\n",
       "├─────────────────┼──────────┼─────────────────────────┤\n",
       "│          942732 │ 14348031 │                    6.57 │\n",
       "└─────────────────┴──────────┴─────────────────────────┘"
      ]
     },
     "execution_count": 24,
     "metadata": {},
     "output_type": "execute_result"
    }
   ],
   "source": [
    "db.sql(\n",
    "    query=\"\"\"\n",
    "WITH all_runs AS (SELECT COUNT(DISTINCT \"Service:RDT-ID\") as total_runs FROM services),\n",
    "       \n",
    "outside_nl_runs AS (SELECT COUNT(DISTINCT \"Service:RDT-ID\") as total_runs\n",
    "FROM services INNER JOIN stations on services.\"Stop:Station name\" = stations.name_long\n",
    "WHERE stations.country <> 'NL')\n",
    "\n",
    "select outside_nl_runs.total_runs as outside_nl_runs, all_runs.total_runs as all_runs,\n",
    "ROUND(100.0 * outside_nl_runs.total_runs / all_runs.total_runs,2) as percentage_outside_runs\n",
    "from outside_nl_runs, all_runs\n",
    "\n",
    "\"\"\"\n",
    ")"
   ]
  },
  {
   "cell_type": "markdown",
   "metadata": {},
   "source": [
    "### The largest distance between stations in the Netherlands\n"
   ]
  },
  {
   "cell_type": "code",
   "execution_count": 25,
   "metadata": {},
   "outputs": [
    {
     "data": {
      "text/plain": [
       "┌────────────┬───────────┬──────────┐\n",
       "│ departure  │  arrival  │ distance │\n",
       "│  varchar   │  varchar  │  int64   │\n",
       "├────────────┼───────────┼──────────┤\n",
       "│ Vlissingen │ Eemshaven │      426 │\n",
       "└────────────┴───────────┴──────────┘"
      ]
     },
     "execution_count": 25,
     "metadata": {},
     "output_type": "execute_result"
    }
   ],
   "source": [
    "db.sql(\"\"\"\n",
    "        SELECT s1.name_long as departure, s2.name_long as arrival, distances_long.distance as distance from distances_long\n",
    "       INNER JOIN stations AS s1 ON distances_long.station = s1.code\n",
    "       INNER JOIN stations AS s2 ON distances_long.other_station = s2.code\n",
    "       WHERE s1.country = 'NL' AND s2.country = 'NL' AND s1.name_long > s2.name_long\n",
    "       ORDER BY distance DESC\n",
    "       LIMIT 1\n",
    "       \"\"\")"
   ]
  },
  {
   "cell_type": "markdown",
   "metadata": {},
   "source": [
    "### Average arrival delay between different train operators.\n"
   ]
  },
  {
   "cell_type": "code",
   "execution_count": 26,
   "metadata": {},
   "outputs": [],
   "source": [
    "avg_delay_by_comapny = db.sql(\n",
    "    query=\"\"\"\n",
    "SELECT \"Service:Company\" as company, ROUND(AVG(\"Stop:Arrival delay\"),2) as avg_delay \n",
    "       FROM services \n",
    "       GROUP BY company \n",
    "       ORDER BY avg_delay DESC\n",
    "\"\"\"\n",
    ").df()"
   ]
  },
  {
   "cell_type": "code",
   "execution_count": 27,
   "metadata": {},
   "outputs": [
    {
     "data": {
      "text/plain": [
       "<Axes: xlabel='company'>"
      ]
     },
     "execution_count": 27,
     "metadata": {},
     "output_type": "execute_result"
    },
    {
     "data": {
      "image/png": "[encoded data removed]",
      "text/plain": [
       "<Figure size 640x480 with 1 Axes>"
      ]
     },
     "metadata": {},
     "output_type": "display_data"
    }
   ],
   "source": [
    "avg_delay_by_comapny.plot.bar(x=\"company\", y=\"avg_delay\")"
   ]
  },
  {
   "cell_type": "markdown",
   "metadata": {},
   "source": [
    "### Number of services disrupted in different years\n"
   ]
  },
  {
   "cell_type": "code",
   "execution_count": 28,
   "metadata": {},
   "outputs": [],
   "source": [
    "disruptions_by_year = db.sql(\n",
    "    query=\"\"\"\n",
    "SELECT COUNT(*) as occurrences, date_part('year', (start_time)::date) as year, from postgres.disruptions \n",
    "GROUP BY year \n",
    "ORDER BY year ASC\n",
    "\n",
    "\"\"\"\n",
    ").df()"
   ]
  },
  {
   "cell_type": "code",
   "execution_count": 29,
   "metadata": {},
   "outputs": [
    {
     "data": {
      "text/plain": [
       "<Axes: xlabel='year'>"
      ]
     },
     "execution_count": 29,
     "metadata": {},
     "output_type": "execute_result"
    },
    {
     "data": {
      "image/png": "[encoded data removed]",
      "text/plain": [
       "<Figure size 640x480 with 1 Axes>"
      ]
     },
     "metadata": {},
     "output_type": "display_data"
    }
   ],
   "source": [
    "disruptions_by_year.set_index(\"year\").plot()"
   ]
  },
  {
   "cell_type": "markdown",
   "metadata": {},
   "source": [
    "### Fraction of all services that were cancelled in different years\n"
   ]
  },
  {
   "cell_type": "code",
   "execution_count": 30,
   "metadata": {},
   "outputs": [],
   "source": [
    "cancellation_by_year = db.sql(\n",
    "    query=\"\"\"\n",
    "with total_runs AS (\n",
    "SELECT  date_part('year',  \"Service:Date\") AS year, \n",
    "COUNT(DISTINCT \"Service:RDT-ID\") AS runs \n",
    "FROM services \n",
    "GROUP BY year \n",
    "ORDER BY year ASC),\n",
    "\n",
    "cancelled_runs AS (\n",
    "SELECT  date_part('year',  \"Service:Date\") AS year, \n",
    "COUNT(DISTINCT \"Service:RDT-ID\") AS runs \n",
    "FROM services \n",
    "WHERE \"Service:Completely cancelled\" = true \n",
    "GROUP BY year \n",
    "ORDER BY year ASC)\n",
    "\n",
    "SELECT t.year AS year, ROUND(100.0 * c.runs / t.runs , 2) AS pct_cancelled \n",
    "FROM total_runs AS t \n",
    "INNER JOIN cancelled_runs AS c \n",
    "ON t.year = c.year \n",
    "ORDER BY year ASC\n",
    "\n",
    "\"\"\"\n",
    ").df()"
   ]
  },
  {
   "cell_type": "code",
   "execution_count": 31,
   "metadata": {},
   "outputs": [
    {
     "data": {
      "text/plain": [
       "<Axes: title={'center': 'Percentage of cancelled services by year'}, xlabel='year'>"
      ]
     },
     "execution_count": 31,
     "metadata": {},
     "output_type": "execute_result"
    },
    {
     "data": {
      "image/png": "[encoded data removed]",
      "text/plain": [
       "<Figure size 640x480 with 1 Axes>"
      ]
     },
     "metadata": {},
     "output_type": "display_data"
    }
   ],
   "source": [
    "cancellation_by_year.set_index(\"year\").plot(\n",
    "    title=\"Percentage of cancelled services by year\"\n",
    ")"
   ]
  },
  {
   "cell_type": "markdown",
   "metadata": {},
   "source": [
    "## Service lengths\n"
   ]
  },
  {
   "cell_type": "code",
   "execution_count": 49,
   "metadata": {},
   "outputs": [],
   "source": [
    "db.sql(\n",
    "    query=\"\"\"\n",
    "CREATE TABLE station_connections AS\n",
    "WITH station_pairs AS (\n",
    "SELECT \n",
    "\"Service:RDT-ID\",\n",
    "\"Stop:Station code\" AS start_station,\n",
    "LEAD(\"Stop:Station code\") OVER (\n",
    "PARTITION BY \"Service:RDT-ID\" \n",
    "ORDER BY \"Stop:Departure time\"\n",
    ") AS end_station\n",
    "FROM services\n",
    "WHERE \"Stop:Departure time\" IS NOT NULL\n",
    "),\n",
    "distinct_pairs AS (\n",
    "SELECT DISTINCT\n",
    "CASE \n",
    "WHEN start_station < end_station THEN start_station \n",
    "ELSE end_station \n",
    "END AS start_station_code,\n",
    "CASE \n",
    "WHEN start_station < end_station THEN end_station \n",
    "ELSE start_station \n",
    "END AS end_station_code\n",
    "FROM station_pairs\n",
    "WHERE end_station IS NOT NULL\n",
    ")\n",
    "SELECT DISTINCT\n",
    "dp.start_station_code,\n",
    "dp.end_station_code,\n",
    "d.distance\n",
    "FROM distinct_pairs dp\n",
    "JOIN distances_long d\n",
    "ON (d.station = dp.start_station_code AND d.other_station = dp.end_station_code)\n",
    "OR (d.station = dp.end_station_code AND d.other_station = dp.start_station_code)\n",
    "\"\"\"\n",
    ")"
   ]
  },
  {
   "cell_type": "code",
   "execution_count": 50,
   "metadata": {},
   "outputs": [
    {
     "data": {
      "text/plain": [
       "┌────────────────────┬──────────────────┬──────────┐\n",
       "│ start_station_code │ end_station_code │ distance │\n",
       "│      varchar       │     varchar      │  int64   │\n",
       "├────────────────────┼──────────────────┼──────────┤\n",
       "│ MT                 │ TB               │      135 │\n",
       "│ AHP                │ HT               │       63 │\n",
       "│ NWK                │ UTG              │       90 │\n",
       "│ AML                │ OBD              │      194 │\n",
       "│ KLP                │ VB               │       91 │\n",
       "│ APN                │ HVS              │       53 │\n",
       "│ GS                 │ VSS              │       24 │\n",
       "│ RVS                │ WC               │        7 │\n",
       "│ ASN                │ ZL               │       78 │\n",
       "│ KPNZ               │ ZL               │       15 │\n",
       "│  ·                 │ ·                │        · │\n",
       "│  ·                 │ ·                │        · │\n",
       "│  ·                 │ ·                │        · │\n",
       "│ ASD                │ BV               │       29 │\n",
       "│ ASD                │ HT               │       87 │\n",
       "│ ASD                │ EHV              │      119 │\n",
       "│ WD                 │ ZDK              │       59 │\n",
       "│ NSCH               │ WS               │       12 │\n",
       "│ BD                 │ RTZ              │       46 │\n",
       "│ DDR                │ ED               │      114 │\n",
       "│ EDN                │ MTR              │        8 │\n",
       "│ HWD                │ LLZM             │      101 │\n",
       "│ RSD                │ RV               │      145 │\n",
       "├────────────────────┴──────────────────┴──────────┤\n",
       "│ 3742 rows (20 shown)                   3 columns │\n",
       "└──────────────────────────────────────────────────┘"
      ]
     },
     "execution_count": 50,
     "metadata": {},
     "output_type": "execute_result"
    }
   ],
   "source": [
    "db.sql(\"\"\"SELECT * FROM station_connections\"\"\")"
   ]
  },
  {
   "cell_type": "markdown",
   "metadata": {},
   "source": [
    "### Largest distance between a pair of stations"
   ]
  },
  {
   "cell_type": "code",
   "execution_count": 51,
   "metadata": {},
   "outputs": [
    {
     "data": {
      "text/plain": [
       "┌────────────────────┬──────────────────┬──────────┐\n",
       "│ start_station_code │ end_station_code │ distance │\n",
       "│      varchar       │     varchar      │  int64   │\n",
       "├────────────────────┼──────────────────┼──────────┤\n",
       "│ HNP                │ VSS              │      411 │\n",
       "└────────────────────┴──────────────────┴──────────┘"
      ]
     },
     "execution_count": 51,
     "metadata": {},
     "output_type": "execute_result"
    }
   ],
   "source": [
    "db.sql(query=\"\"\"\n",
    "SELECT *\n",
    "FROM station_connections \n",
    "ORDER BY distance DESC \n",
    "LIMIT 1\n",
    "\"\"\")"
   ]
  },
  {
   "cell_type": "markdown",
   "metadata": {},
   "source": [
    "### histogram of inter-station distances run by trains"
   ]
  },
  {
   "cell_type": "code",
   "execution_count": 52,
   "metadata": {},
   "outputs": [],
   "source": [
    "inter_station_distances = db.sql(\"\"\"SELECT * FROM station_connections\"\"\").df()"
   ]
  },
  {
   "cell_type": "code",
   "execution_count": 53,
   "metadata": {},
   "outputs": [
    {
     "data": {
      "image/png": "[encoded data removed]",
      "text/plain": [
       "<Figure size 640x480 with 1 Axes>"
      ]
     },
     "metadata": {},
     "output_type": "display_data"
    }
   ],
   "source": [
    "import matplotlib.pyplot as plt\n",
    "\n",
    "plt.hist(x=inter_station_distances['distance'], bins=10)\n",
    "plt.title(\"Histogram of distances between stations\")\n",
    "plt.xlabel(\"distance\")\n",
    "plt.ylabel(\"frequency\")\n",
    "plt.show()"
   ]
  },
  {
   "cell_type": "code",
   "execution_count": null,
   "metadata": {},
   "outputs": [],
   "source": []
  }
 ],
 "metadata": {
  "kernelspec": {
   "display_name": "lab2",
   "language": "python",
   "name": "python3"
  },
  "language_info": {
   "codemirror_mode": {
    "name": "ipython",
    "version": 3
   },
   "file_extension": ".py",
   "mimetype": "text/x-python",
   "name": "python",
   "nbconvert_exporter": "python",
   "pygments_lexer": "ipython3",
   "version": "3.11.4"
  }
 },
 "nbformat": 4,
 "nbformat_minor": 2
}
