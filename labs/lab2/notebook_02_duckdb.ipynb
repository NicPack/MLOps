{
 "cells": [
  {
   "cell_type": "markdown",
   "id": "fc1a78ee-5fa1-4ea1-8da6-4d5e82fa48b8",
   "metadata": {
    "collapsed": true,
    "jupyter": {
     "outputs_hidden": true
    }
   },
   "source": [
    "# DuckDB and file formats\n"
   ]
  },
  {
   "cell_type": "markdown",
   "id": "86a250cc-1273-4eb6-969e-d77eafd73739",
   "metadata": {},
   "source": [
    "This tutorial is slightly based on the DuckDB [tutorial](https://duckdb.org/2024/05/31/analyzing-railway-traffic-in-the-netherlands.html).\n"
   ]
  },
  {
   "cell_type": "markdown",
   "id": "cdcf24e0-2938-4fbc-a5be-de4b98c02110",
   "metadata": {},
   "source": [
    "## Reading from files\n"
   ]
  },
  {
   "cell_type": "markdown",
   "id": "f1b2674c-a7ff-468e-875b-ea47fa4cad99",
   "metadata": {},
   "source": [
    "The only thing needed to run DuckDB is importing it. To compare with Postgres, we will read the CSV file with train services in 2024.\n",
    "\n",
    "By the way, it's highly recommended to always use multi-line strings in triple quotes for all queries, even the simplest ones. It makes them more readable, easier to modify, and removes escaping quotes.\n"
   ]
  },
  {
   "cell_type": "code",
   "execution_count": 1,
   "id": "64b85715-0ccf-45e0-ba41-3a8103ea2f17",
   "metadata": {
    "scrolled": true
   },
   "outputs": [
    {
     "data": {
      "text/plain": [
       "┌────────────────┬──────────────┬──────────────┬─────────────────┬──────────────────────┬──────────────────────────────┬──────────────────────────┬───────────────────────┬─────────────┬───────────────────┬──────────────────────────┬──────────────────────────┬────────────────────┬────────────────────────┬──────────────────────────┬──────────────────────┬──────────────────────────┬──────────────────────┬───────────────────────┬──────────────────────┐\n",
       "│ Service:RDT-ID │ Service:Date │ Service:Type │ Service:Company │ Service:Train number │ Service:Completely cancelled │ Service:Partly cancelled │ Service:Maximum delay │ Stop:RDT-ID │ Stop:Station code │    Stop:Station name     │    Stop:Arrival time     │ Stop:Arrival delay │ Stop:Arrival cancelled │   Stop:Departure time    │ Stop:Departure delay │ Stop:Departure cancelled │ Stop:Platform change │ Stop:Planned platform │ Stop:Actual platform │\n",
       "│     int64      │     date     │   varchar    │     varchar     │        int64         │           boolean            │         boolean          │         int64         │    int64    │      varchar      │         varchar          │ timestamp with time zone │       int64        │        boolean         │ timestamp with time zone │        int64         │         boolean          │       boolean        │        varchar        │       varchar        │\n",
       "├────────────────┼──────────────┼──────────────┼─────────────────┼──────────────────────┼──────────────────────────────┼──────────────────────────┼───────────────────────┼─────────────┼───────────────────┼──────────────────────────┼──────────────────────────┼────────────────────┼────────────────────────┼──────────────────────────┼──────────────────────┼──────────────────────────┼──────────────────────┼───────────────────────┼──────────────────────┤\n",
       "│       12690865 │ 2024-01-01   │ Intercity    │ NS              │                 1410 │ false                        │ false                    │                     2 │   114307592 │ RTD               │ Rotterdam Centraal       │ NULL                     │               NULL │ NULL                   │ 2024-01-01 02:00:00+01   │                    0 │ false                    │ false                │ 9                     │ 9                    │\n",
       "│       12690865 │ 2024-01-01   │ Intercity    │ NS              │                 1410 │ false                        │ false                    │                     0 │   114307593 │ DT                │ Delft                    │ 2024-01-01 02:13:00+01   │                  0 │ false                  │ 2024-01-01 02:13:00+01   │                    0 │ false                    │ false                │ 1                     │ 1                    │\n",
       "│       12690865 │ 2024-01-01   │ Intercity    │ NS              │                 1410 │ false                        │ false                    │                     0 │   114307594 │ GV                │ Den Haag HS              │ 2024-01-01 02:21:00+01   │                  0 │ false                  │ 2024-01-01 02:22:00+01   │                    0 │ false                    │ false                │ 6                     │ 6                    │\n",
       "│       12690865 │ 2024-01-01   │ Intercity    │ NS              │                 1410 │ false                        │ false                    │                     0 │   114307595 │ LEDN              │ Leiden Centraal          │ 2024-01-01 02:35:00+01   │                  0 │ false                  │ 2024-01-01 02:40:00+01   │                    0 │ false                    │ true                 │ 5b                    │ 8b                   │\n",
       "│       12690865 │ 2024-01-01   │ Intercity    │ NS              │                 1410 │ false                        │ false                    │                     0 │   114307596 │ SHL               │ Schiphol Airport         │ 2024-01-01 03:00:00+01   │                  0 │ false                  │ 2024-01-01 03:03:00+01   │                    0 │ false                    │ false                │ 3                     │ 3                    │\n",
       "│       12690865 │ 2024-01-01   │ Intercity    │ NS              │                 1410 │ false                        │ false                    │                     0 │   114307597 │ ASS               │ Amsterdam Sloterdijk     │ 2024-01-01 03:12:00+01   │                  0 │ false                  │ 2024-01-01 03:12:00+01   │                    0 │ false                    │ false                │ 12                    │ 12                   │\n",
       "│       12690865 │ 2024-01-01   │ Intercity    │ NS              │                 1410 │ false                        │ false                    │                     0 │   114307598 │ ASD               │ Amsterdam Centraal       │ 2024-01-01 03:18:00+01   │                  1 │ false                  │ 2024-01-01 03:20:00+01   │                    2 │ false                    │ false                │ 4                     │ 4                    │\n",
       "│       12690865 │ 2024-01-01   │ Intercity    │ NS              │                 1410 │ false                        │ false                    │                     0 │   114307599 │ ASB               │ Amsterdam Bijlmer ArenA  │ 2024-01-01 03:31:00+01   │                  2 │ false                  │ 2024-01-01 03:31:00+01   │                    2 │ false                    │ false                │ 8                     │ 8                    │\n",
       "│       12690865 │ 2024-01-01   │ Intercity    │ NS              │                 1410 │ false                        │ false                    │                     0 │   114307600 │ UT                │ Utrecht Centraal         │ 2024-01-01 03:50:00+01   │                  0 │ false                  │ NULL                     │                 NULL │ NULL                     │ false                │ 15                    │ 15                   │\n",
       "│       12690866 │ 2024-01-01   │ Nightjet     │ NS Int          │                  420 │ false                        │ false                    │                     6 │   114307601 │ NURNB             │ Nürnberg Hbf             │ NULL                     │               NULL │ NULL                   │ 2024-01-01 02:01:00+01   │                    0 │ false                    │ false                │ NULL                  │ NULL                 │\n",
       "│           ·    │     ·        │    ·         │ ·               │                   ·  │   ·                          │   ·                      │                     · │       ·     │ ·                 │      ·                   │  ·                       │                  · │  ·                     │           ·              │                    · │   ·                      │   ·                  │ ·                     │ ·                    │\n",
       "│           ·    │     ·        │    ·         │ ·               │                   ·  │   ·                          │   ·                      │                     · │       ·     │ ·                 │      ·                   │  ·                       │                  · │  ·                     │           ·              │                    · │   ·                      │   ·                  │ ·                     │ ·                    │\n",
       "│           ·    │     ·        │    ·         │ ·               │                   ·  │   ·                          │   ·                      │                     · │       ·     │ ·                 │      ·                   │  ·                       │                  · │  ·                     │           ·              │                    · │   ·                      │   ·                  │ ·                     │ ·                    │\n",
       "│       12691967 │ 2024-01-01   │ Intercity    │ NS              │                 2944 │ false                        │ false                    │                     0 │   114318419 │ UT                │ Utrecht Centraal         │ 2024-01-01 13:51:00+01   │                  0 │ false                  │ 2024-01-01 13:53:00+01   │                    0 │ false                    │ false                │ 7                     │ 7                    │\n",
       "│       12691967 │ 2024-01-01   │ Intercity    │ NS              │                 2944 │ false                        │ false                    │                     0 │   114318420 │ ASA               │ Amsterdam Amstel         │ 2024-01-01 14:11:00+01   │                  0 │ false                  │ 2024-01-01 14:11:00+01   │                    0 │ false                    │ false                │ 1                     │ 1                    │\n",
       "│       12691967 │ 2024-01-01   │ Intercity    │ NS              │                 2944 │ false                        │ false                    │                     0 │   114318421 │ ASD               │ Amsterdam Centraal       │ 2024-01-01 14:19:00+01   │                  0 │ false                  │ 2024-01-01 14:23:00+01   │                    2 │ false                    │ false                │ 8a                    │ 8a                   │\n",
       "│       12691967 │ 2024-01-01   │ Intercity    │ NS              │                 2944 │ false                        │ false                    │                     0 │   114318422 │ ASS               │ Amsterdam Sloterdijk     │ 2024-01-01 14:29:00+01   │                  5 │ false                  │ 2024-01-01 14:29:00+01   │                    5 │ false                    │ false                │ 3                     │ 3                    │\n",
       "│       12691967 │ 2024-01-01   │ Intercity    │ NS              │                 2944 │ false                        │ false                    │                     0 │   114318423 │ HN                │ Hoorn                    │ 2024-01-01 14:55:00+01   │                  3 │ false                  │ 2024-01-01 14:59:00+01   │                    0 │ false                    │ false                │ 1                     │ 1                    │\n",
       "│       12691967 │ 2024-01-01   │ Intercity    │ NS              │                 2944 │ false                        │ false                    │                     0 │   114318424 │ HNK               │ Hoorn Kersenboogerd      │ 2024-01-01 15:03:00+01   │                  0 │ false                  │ 2024-01-01 15:03:00+01   │                    0 │ false                    │ false                │ 2                     │ 2                    │\n",
       "│       12691967 │ 2024-01-01   │ Intercity    │ NS              │                 2944 │ false                        │ false                    │                     0 │   114318425 │ HKS               │ Hoogkarspel              │ 2024-01-01 15:10:00+01   │                  0 │ false                  │ 2024-01-01 15:10:00+01   │                    0 │ false                    │ false                │ 2                     │ 2                    │\n",
       "│       12691967 │ 2024-01-01   │ Intercity    │ NS              │                 2944 │ false                        │ false                    │                     0 │   114318426 │ BKG               │ Bovenkarspel-Grootebroek │ 2024-01-01 15:15:00+01   │                  0 │ false                  │ 2024-01-01 15:17:00+01   │                    0 │ false                    │ false                │ 1                     │ 1                    │\n",
       "│       12691967 │ 2024-01-01   │ Intercity    │ NS              │                 2944 │ false                        │ false                    │                     0 │   114318427 │ BKF               │ Bovenkarspel Flora       │ 2024-01-01 15:19:00+01   │                  0 │ false                  │ 2024-01-01 15:19:00+01   │                    0 │ false                    │ false                │ 1                     │ 1                    │\n",
       "│       12691967 │ 2024-01-01   │ Intercity    │ NS              │                 2944 │ false                        │ false                    │                     0 │   114318428 │ EKZ               │ Enkhuizen                │ 2024-01-01 15:23:00+01   │                  0 │ false                  │ NULL                     │                 NULL │ NULL                     │ false                │ 1                     │ 1                    │\n",
       "├────────────────┴──────────────┴──────────────┴─────────────────┴──────────────────────┴──────────────────────────────┴──────────────────────────┴───────────────────────┴─────────────┴───────────────────┴──────────────────────────┴──────────────────────────┴────────────────────┴────────────────────────┴──────────────────────────┴──────────────────────┴──────────────────────────┴──────────────────────┴───────────────────────┴──────────────────────┤\n",
       "│ ? rows (>9999 rows, 20 shown)                                                                                                                                                                                                                                                                                                                                                                                                                         20 columns │\n",
       "└──────────────────────────────────────────────────────────────────────────────────────────────────────────────────────────────────────────────────────────────────────────────────────────────────────────────────────────────────────────────────────────────────────────────────────────────────────────────────────────────────────────────────────────────────────────────────────────────────────────────────────────────────────────────────────────────────┘"
      ]
     },
     "execution_count": 1,
     "metadata": {},
     "output_type": "execute_result"
    }
   ],
   "source": [
    "import duckdb\n",
    "\n",
    "duckdb.sql(\"\"\"\n",
    "SELECT *\n",
    "FROM \"data/services-2024.csv\"\n",
    "\"\"\")"
   ]
  },
  {
   "cell_type": "markdown",
   "id": "9e1fcdcc-cea5-4de0-bc33-f1e39d872ff6",
   "metadata": {},
   "source": [
    "Now that was fast and easy! DuckDB parses CSV and infers type with [quite advanced features](https://duckdb.org/docs/stable/data/csv/auto_detection.html). You can also specify options manually ([documentation](https://duckdb.org/docs/stable/data/csv/overview.html)), e.g.:\n",
    "\n",
    "`FROM read_csv(\"flights.csv\", delim = \"|\")`.\n",
    "\n",
    "Jupyter Notebook automatically prints the results, but we could also save them and call `.show()` explicitly. It is returned as `DuckDBPyRelation` object ([documentation](https://duckdb.org/docs/stable/clients/python/reference/#duckdb.DuckDBPyRelation)). You can use the object-oriented Relational API ([documentation](https://duckdb.org/docs/stable/clients/python/relational_api.html)) instead of writing SQL to compose queries based on Python language constructs. It's less popular than SQL though, and can be less readable.\n"
   ]
  },
  {
   "cell_type": "code",
   "execution_count": 2,
   "id": "4229d5ae-8736-4187-8dbe-af184bddfa2a",
   "metadata": {
    "scrolled": true
   },
   "outputs": [
    {
     "name": "stdout",
     "output_type": "stream",
     "text": [
      "<class '_duckdb.DuckDBPyRelation'>\n",
      "┌────────────────┬──────────────┬──────────────┬─────────────────┬──────────────────────┬──────────────────────────────┬──────────────────────────┬───────────────────────┬─────────────┬───────────────────┬──────────────────────────┬──────────────────────────┬────────────────────┬────────────────────────┬──────────────────────────┬──────────────────────┬──────────────────────────┬──────────────────────┬───────────────────────┬──────────────────────┐\n",
      "│ Service:RDT-ID │ Service:Date │ Service:Type │ Service:Company │ Service:Train number │ Service:Completely cancelled │ Service:Partly cancelled │ Service:Maximum delay │ Stop:RDT-ID │ Stop:Station code │    Stop:Station name     │    Stop:Arrival time     │ Stop:Arrival delay │ Stop:Arrival cancelled │   Stop:Departure time    │ Stop:Departure delay │ Stop:Departure cancelled │ Stop:Platform change │ Stop:Planned platform │ Stop:Actual platform │\n",
      "│     int64      │     date     │   varchar    │     varchar     │        int64         │           boolean            │         boolean          │         int64         │    int64    │      varchar      │         varchar          │ timestamp with time zone │       int64        │        boolean         │ timestamp with time zone │        int64         │         boolean          │       boolean        │        varchar        │       varchar        │\n",
      "├────────────────┼──────────────┼──────────────┼─────────────────┼──────────────────────┼──────────────────────────────┼──────────────────────────┼───────────────────────┼─────────────┼───────────────────┼──────────────────────────┼──────────────────────────┼────────────────────┼────────────────────────┼──────────────────────────┼──────────────────────┼──────────────────────────┼──────────────────────┼───────────────────────┼──────────────────────┤\n",
      "│       12690865 │ 2024-01-01   │ Intercity    │ NS              │                 1410 │ false                        │ false                    │                     2 │   114307592 │ RTD               │ Rotterdam Centraal       │ NULL                     │               NULL │ NULL                   │ 2024-01-01 02:00:00+01   │                    0 │ false                    │ false                │ 9                     │ 9                    │\n",
      "│       12690865 │ 2024-01-01   │ Intercity    │ NS              │                 1410 │ false                        │ false                    │                     0 │   114307593 │ DT                │ Delft                    │ 2024-01-01 02:13:00+01   │                  0 │ false                  │ 2024-01-01 02:13:00+01   │                    0 │ false                    │ false                │ 1                     │ 1                    │\n",
      "│       12690865 │ 2024-01-01   │ Intercity    │ NS              │                 1410 │ false                        │ false                    │                     0 │   114307594 │ GV                │ Den Haag HS              │ 2024-01-01 02:21:00+01   │                  0 │ false                  │ 2024-01-01 02:22:00+01   │                    0 │ false                    │ false                │ 6                     │ 6                    │\n",
      "│       12690865 │ 2024-01-01   │ Intercity    │ NS              │                 1410 │ false                        │ false                    │                     0 │   114307595 │ LEDN              │ Leiden Centraal          │ 2024-01-01 02:35:00+01   │                  0 │ false                  │ 2024-01-01 02:40:00+01   │                    0 │ false                    │ true                 │ 5b                    │ 8b                   │\n",
      "│       12690865 │ 2024-01-01   │ Intercity    │ NS              │                 1410 │ false                        │ false                    │                     0 │   114307596 │ SHL               │ Schiphol Airport         │ 2024-01-01 03:00:00+01   │                  0 │ false                  │ 2024-01-01 03:03:00+01   │                    0 │ false                    │ false                │ 3                     │ 3                    │\n",
      "│       12690865 │ 2024-01-01   │ Intercity    │ NS              │                 1410 │ false                        │ false                    │                     0 │   114307597 │ ASS               │ Amsterdam Sloterdijk     │ 2024-01-01 03:12:00+01   │                  0 │ false                  │ 2024-01-01 03:12:00+01   │                    0 │ false                    │ false                │ 12                    │ 12                   │\n",
      "│       12690865 │ 2024-01-01   │ Intercity    │ NS              │                 1410 │ false                        │ false                    │                     0 │   114307598 │ ASD               │ Amsterdam Centraal       │ 2024-01-01 03:18:00+01   │                  1 │ false                  │ 2024-01-01 03:20:00+01   │                    2 │ false                    │ false                │ 4                     │ 4                    │\n",
      "│       12690865 │ 2024-01-01   │ Intercity    │ NS              │                 1410 │ false                        │ false                    │                     0 │   114307599 │ ASB               │ Amsterdam Bijlmer ArenA  │ 2024-01-01 03:31:00+01   │                  2 │ false                  │ 2024-01-01 03:31:00+01   │                    2 │ false                    │ false                │ 8                     │ 8                    │\n",
      "│       12690865 │ 2024-01-01   │ Intercity    │ NS              │                 1410 │ false                        │ false                    │                     0 │   114307600 │ UT                │ Utrecht Centraal         │ 2024-01-01 03:50:00+01   │                  0 │ false                  │ NULL                     │                 NULL │ NULL                     │ false                │ 15                    │ 15                   │\n",
      "│       12690866 │ 2024-01-01   │ Nightjet     │ NS Int          │                  420 │ false                        │ false                    │                     6 │   114307601 │ NURNB             │ Nürnberg Hbf             │ NULL                     │               NULL │ NULL                   │ 2024-01-01 02:01:00+01   │                    0 │ false                    │ false                │ NULL                  │ NULL                 │\n",
      "│           ·    │     ·        │    ·         │ ·               │                   ·  │   ·                          │   ·                      │                     · │       ·     │ ·                 │      ·                   │  ·                       │                  · │  ·                     │           ·              │                    · │   ·                      │   ·                  │ ·                     │ ·                    │\n",
      "│           ·    │     ·        │    ·         │ ·               │                   ·  │   ·                          │   ·                      │                     · │       ·     │ ·                 │      ·                   │  ·                       │                  · │  ·                     │           ·              │                    · │   ·                      │   ·                  │ ·                     │ ·                    │\n",
      "│           ·    │     ·        │    ·         │ ·               │                   ·  │   ·                          │   ·                      │                     · │       ·     │ ·                 │      ·                   │  ·                       │                  · │  ·                     │           ·              │                    · │   ·                      │   ·                  │ ·                     │ ·                    │\n",
      "│       12691967 │ 2024-01-01   │ Intercity    │ NS              │                 2944 │ false                        │ false                    │                     0 │   114318419 │ UT                │ Utrecht Centraal         │ 2024-01-01 13:51:00+01   │                  0 │ false                  │ 2024-01-01 13:53:00+01   │                    0 │ false                    │ false                │ 7                     │ 7                    │\n",
      "│       12691967 │ 2024-01-01   │ Intercity    │ NS              │                 2944 │ false                        │ false                    │                     0 │   114318420 │ ASA               │ Amsterdam Amstel         │ 2024-01-01 14:11:00+01   │                  0 │ false                  │ 2024-01-01 14:11:00+01   │                    0 │ false                    │ false                │ 1                     │ 1                    │\n",
      "│       12691967 │ 2024-01-01   │ Intercity    │ NS              │                 2944 │ false                        │ false                    │                     0 │   114318421 │ ASD               │ Amsterdam Centraal       │ 2024-01-01 14:19:00+01   │                  0 │ false                  │ 2024-01-01 14:23:00+01   │                    2 │ false                    │ false                │ 8a                    │ 8a                   │\n",
      "│       12691967 │ 2024-01-01   │ Intercity    │ NS              │                 2944 │ false                        │ false                    │                     0 │   114318422 │ ASS               │ Amsterdam Sloterdijk     │ 2024-01-01 14:29:00+01   │                  5 │ false                  │ 2024-01-01 14:29:00+01   │                    5 │ false                    │ false                │ 3                     │ 3                    │\n",
      "│       12691967 │ 2024-01-01   │ Intercity    │ NS              │                 2944 │ false                        │ false                    │                     0 │   114318423 │ HN                │ Hoorn                    │ 2024-01-01 14:55:00+01   │                  3 │ false                  │ 2024-01-01 14:59:00+01   │                    0 │ false                    │ false                │ 1                     │ 1                    │\n",
      "│       12691967 │ 2024-01-01   │ Intercity    │ NS              │                 2944 │ false                        │ false                    │                     0 │   114318424 │ HNK               │ Hoorn Kersenboogerd      │ 2024-01-01 15:03:00+01   │                  0 │ false                  │ 2024-01-01 15:03:00+01   │                    0 │ false                    │ false                │ 2                     │ 2                    │\n",
      "│       12691967 │ 2024-01-01   │ Intercity    │ NS              │                 2944 │ false                        │ false                    │                     0 │   114318425 │ HKS               │ Hoogkarspel              │ 2024-01-01 15:10:00+01   │                  0 │ false                  │ 2024-01-01 15:10:00+01   │                    0 │ false                    │ false                │ 2                     │ 2                    │\n",
      "│       12691967 │ 2024-01-01   │ Intercity    │ NS              │                 2944 │ false                        │ false                    │                     0 │   114318426 │ BKG               │ Bovenkarspel-Grootebroek │ 2024-01-01 15:15:00+01   │                  0 │ false                  │ 2024-01-01 15:17:00+01   │                    0 │ false                    │ false                │ 1                     │ 1                    │\n",
      "│       12691967 │ 2024-01-01   │ Intercity    │ NS              │                 2944 │ false                        │ false                    │                     0 │   114318427 │ BKF               │ Bovenkarspel Flora       │ 2024-01-01 15:19:00+01   │                  0 │ false                  │ 2024-01-01 15:19:00+01   │                    0 │ false                    │ false                │ 1                     │ 1                    │\n",
      "│       12691967 │ 2024-01-01   │ Intercity    │ NS              │                 2944 │ false                        │ false                    │                     0 │   114318428 │ EKZ               │ Enkhuizen                │ 2024-01-01 15:23:00+01   │                  0 │ false                  │ NULL                     │                 NULL │ NULL                     │ false                │ 1                     │ 1                    │\n",
      "├────────────────┴──────────────┴──────────────┴─────────────────┴──────────────────────┴──────────────────────────────┴──────────────────────────┴───────────────────────┴─────────────┴───────────────────┴──────────────────────────┴──────────────────────────┴────────────────────┴────────────────────────┴──────────────────────────┴──────────────────────┴──────────────────────────┴──────────────────────┴───────────────────────┴──────────────────────┤\n",
      "│ ? rows (>9999 rows, 20 shown)                                                                                                                                                                                                                                                                                                                                                                                                                         20 columns │\n",
      "└──────────────────────────────────────────────────────────────────────────────────────────────────────────────────────────────────────────────────────────────────────────────────────────────────────────────────────────────────────────────────────────────────────────────────────────────────────────────────────────────────────────────────────────────────────────────────────────────────────────────────────────────────────────────────────────────────┘\n",
      "\n"
     ]
    }
   ],
   "source": [
    "results = duckdb.sql(\"\"\"\n",
    "SELECT *\n",
    "FROM \"data/services-2024.csv\"\n",
    "\"\"\")\n",
    "print(type(results))\n",
    "results.show()"
   ]
  },
  {
   "cell_type": "code",
   "execution_count": 3,
   "id": "33383868-d7b8-48f4-bcd2-dc1ca4dfdd19",
   "metadata": {
    "scrolled": true
   },
   "outputs": [
    {
     "name": "stdout",
     "output_type": "stream",
     "text": [
      "┌────────────────┬──────────────┬──────────────┬─────────────────┬──────────────────────┬──────────────────────────────┬──────────────────────────┬───────────────────────┬─────────────┬───────────────────┬─────────────────────────┬──────────────────────────┬────────────────────┬────────────────────────┬──────────────────────────┬──────────────────────┬──────────────────────────┬──────────────────────┬───────────────────────┬──────────────────────┐\n",
      "│ Service:RDT-ID │ Service:Date │ Service:Type │ Service:Company │ Service:Train number │ Service:Completely cancelled │ Service:Partly cancelled │ Service:Maximum delay │ Stop:RDT-ID │ Stop:Station code │    Stop:Station name    │    Stop:Arrival time     │ Stop:Arrival delay │ Stop:Arrival cancelled │   Stop:Departure time    │ Stop:Departure delay │ Stop:Departure cancelled │ Stop:Platform change │ Stop:Planned platform │ Stop:Actual platform │\n",
      "│     int64      │     date     │   varchar    │     varchar     │        int64         │           boolean            │         boolean          │         int64         │    int64    │      varchar      │         varchar         │ timestamp with time zone │       int64        │        boolean         │ timestamp with time zone │        int64         │         boolean          │       boolean        │        varchar        │       varchar        │\n",
      "├────────────────┼──────────────┼──────────────┼─────────────────┼──────────────────────┼──────────────────────────────┼──────────────────────────┼───────────────────────┼─────────────┼───────────────────┼─────────────────────────┼──────────────────────────┼────────────────────┼────────────────────────┼──────────────────────────┼──────────────────────┼──────────────────────────┼──────────────────────┼───────────────────────┼──────────────────────┤\n",
      "│       12690865 │ 2024-01-01   │ Intercity    │ NS              │                 1410 │ false                        │ false                    │                     2 │   114307592 │ RTD               │ Rotterdam Centraal      │ NULL                     │               NULL │ NULL                   │ 2024-01-01 02:00:00+01   │                    0 │ false                    │ false                │ 9                     │ 9                    │\n",
      "│       12690865 │ 2024-01-01   │ Intercity    │ NS              │                 1410 │ false                        │ false                    │                     0 │   114307593 │ DT                │ Delft                   │ 2024-01-01 02:13:00+01   │                  0 │ false                  │ 2024-01-01 02:13:00+01   │                    0 │ false                    │ false                │ 1                     │ 1                    │\n",
      "│       12690865 │ 2024-01-01   │ Intercity    │ NS              │                 1410 │ false                        │ false                    │                     0 │   114307594 │ GV                │ Den Haag HS             │ 2024-01-01 02:21:00+01   │                  0 │ false                  │ 2024-01-01 02:22:00+01   │                    0 │ false                    │ false                │ 6                     │ 6                    │\n",
      "│       12690865 │ 2024-01-01   │ Intercity    │ NS              │                 1410 │ false                        │ false                    │                     0 │   114307595 │ LEDN              │ Leiden Centraal         │ 2024-01-01 02:35:00+01   │                  0 │ false                  │ 2024-01-01 02:40:00+01   │                    0 │ false                    │ true                 │ 5b                    │ 8b                   │\n",
      "│       12690865 │ 2024-01-01   │ Intercity    │ NS              │                 1410 │ false                        │ false                    │                     0 │   114307596 │ SHL               │ Schiphol Airport        │ 2024-01-01 03:00:00+01   │                  0 │ false                  │ 2024-01-01 03:03:00+01   │                    0 │ false                    │ false                │ 3                     │ 3                    │\n",
      "│       12690865 │ 2024-01-01   │ Intercity    │ NS              │                 1410 │ false                        │ false                    │                     0 │   114307597 │ ASS               │ Amsterdam Sloterdijk    │ 2024-01-01 03:12:00+01   │                  0 │ false                  │ 2024-01-01 03:12:00+01   │                    0 │ false                    │ false                │ 12                    │ 12                   │\n",
      "│       12690865 │ 2024-01-01   │ Intercity    │ NS              │                 1410 │ false                        │ false                    │                     0 │   114307598 │ ASD               │ Amsterdam Centraal      │ 2024-01-01 03:18:00+01   │                  1 │ false                  │ 2024-01-01 03:20:00+01   │                    2 │ false                    │ false                │ 4                     │ 4                    │\n",
      "│       12690865 │ 2024-01-01   │ Intercity    │ NS              │                 1410 │ false                        │ false                    │                     0 │   114307599 │ ASB               │ Amsterdam Bijlmer ArenA │ 2024-01-01 03:31:00+01   │                  2 │ false                  │ 2024-01-01 03:31:00+01   │                    2 │ false                    │ false                │ 8                     │ 8                    │\n",
      "│       12690865 │ 2024-01-01   │ Intercity    │ NS              │                 1410 │ false                        │ false                    │                     0 │   114307600 │ UT                │ Utrecht Centraal        │ 2024-01-01 03:50:00+01   │                  0 │ false                  │ NULL                     │                 NULL │ NULL                     │ false                │ 15                    │ 15                   │\n",
      "│       12690866 │ 2024-01-01   │ Nightjet     │ NS Int          │                  420 │ false                        │ false                    │                     6 │   114307601 │ NURNB             │ Nürnberg Hbf            │ NULL                     │               NULL │ NULL                   │ 2024-01-01 02:01:00+01   │                    0 │ false                    │ false                │ NULL                  │ NULL                 │\n",
      "├────────────────┴──────────────┴──────────────┴─────────────────┴──────────────────────┴──────────────────────────────┴──────────────────────────┴───────────────────────┴─────────────┴───────────────────┴─────────────────────────┴──────────────────────────┴────────────────────┴────────────────────────┴──────────────────────────┴──────────────────────┴──────────────────────────┴──────────────────────┴───────────────────────┴──────────────────────┤\n",
      "│ 10 rows                                                                                                                                                                                                                                                                                                                                                                                                                                              20 columns │\n",
      "└─────────────────────────────────────────────────────────────────────────────────────────────────────────────────────────────────────────────────────────────────────────────────────────────────────────────────────────────────────────────────────────────────────────────────────────────────────────────────────────────────────────────────────────────────────────────────────────────────────────────────────────────────────────────────────────────────┘\n",
      "\n"
     ]
    }
   ],
   "source": [
    "# last 10 rows\n",
    "duckdb.sql(\"\"\"\n",
    "SELECT *\n",
    "FROM \"data/services-2024.csv\"\n",
    "ORDER BY \"Service:Date\"\n",
    "LIMIT 10\n",
    "\"\"\").show()"
   ]
  },
  {
   "cell_type": "code",
   "execution_count": 4,
   "id": "1b2f1cc0-6ec9-4bf9-ba23-d5e624906ba6",
   "metadata": {},
   "outputs": [
    {
     "data": {
      "text/plain": [
       "┌──────────────┐\n",
       "│ count_star() │\n",
       "│    int64     │\n",
       "├──────────────┤\n",
       "│      6153743 │\n",
       "└──────────────┘"
      ]
     },
     "execution_count": 4,
     "metadata": {},
     "output_type": "execute_result"
    }
   ],
   "source": [
    "# total number of late trains\n",
    "duckdb.sql(\"\"\"\n",
    "SELECT COUNT(*)\n",
    "FROM \"data/services-2024.csv\"\n",
    "WHERE \"Stop:Arrival delay\" > 0\n",
    "\"\"\")"
   ]
  },
  {
   "cell_type": "markdown",
   "id": "c8f96f56-502a-4937-9c42-82c2430fdda8",
   "metadata": {},
   "source": [
    "Queries like above are transient (in-memory). They can temporarily spill data to disk to process larger-than-memory datasets, but don't save results. In particular, each query needs to parse CSV file.\n",
    "\n",
    "To make results persistent, we can create `.db` (or `.duckdb`) file, similarly to SQLite. This is useful for a few reasons:\n",
    "\n",
    "- you want to save work and go home\n",
    "- for storing intermediate computation results for longer workflows\n",
    "- avoiding reading and parsing files, or downloading remote data\n",
    "\n",
    "Such file holds regular tables, which can be created from other data sources.\n"
   ]
  },
  {
   "cell_type": "code",
   "execution_count": 5,
   "id": "8b1e1a59-5e34-42b4-9c0f-2f06d2acc7f6",
   "metadata": {},
   "outputs": [
    {
     "data": {
      "text/plain": [
       "<_duckdb.DuckDBPyConnection at 0x1066104f0>"
      ]
     },
     "execution_count": 5,
     "metadata": {},
     "output_type": "execute_result"
    }
   ],
   "source": [
    "db = duckdb.connect(\"data/duckdb_trains.db\")\n",
    "db"
   ]
  },
  {
   "cell_type": "markdown",
   "id": "e951e875-0583-4dd3-be13-b3c1ee3bba33",
   "metadata": {},
   "source": [
    "If you call methods on `db` object, they will be run on the database. If you use `duckdb` module, the default in-memory session will be used instead.\n",
    "\n",
    "Let's create table from CSV and compare sizes with on-disk file.\n"
   ]
  },
  {
   "cell_type": "code",
   "execution_count": 6,
   "id": "6578cd4a-d703-45e0-a14a-113f06ebface",
   "metadata": {},
   "outputs": [
    {
     "data": {
      "application/vnd.jupyter.widget-view+json": {
       "model_id": "6fe41adfec6b4d08a7490621b05d2a80",
       "version_major": 2,
       "version_minor": 0
      },
      "text/plain": [
       "FloatProgress(value=0.0, layout=Layout(width='auto'), style=ProgressStyle(bar_color='black'))"
      ]
     },
     "metadata": {},
     "output_type": "display_data"
    },
    {
     "name": "stdout",
     "output_type": "stream",
     "text": [
      "CSV size: 3162 MB\n",
      "DuckDB size: 449 MB\n"
     ]
    }
   ],
   "source": [
    "import os\n",
    "\n",
    "db.sql(\"\"\"\n",
    "CREATE TABLE IF NOT EXISTS services AS\n",
    "FROM \"data/services-2024.csv\"\n",
    "\"\"\")\n",
    "\n",
    "csv_size_mb = os.path.getsize(\"data/services-2024.csv\") // (1024 * 1024)\n",
    "duckdb_size_mb = os.path.getsize(\"data/duckdb_trains.db\") // (1024 * 1024)\n",
    "\n",
    "print(f\"CSV size: {csv_size_mb} MB\")\n",
    "print(f\"DuckDB size: {duckdb_size_mb} MB\")"
   ]
  },
  {
   "cell_type": "markdown",
   "id": "0384fabb-1a73-4bde-be84-de2811155402",
   "metadata": {},
   "source": [
    "DuckDB uses many [\"friendly SQL\"](https://duckdb.org/docs/stable/sql/dialect/friendly_sql.html) extensions, which make SQL queries easier to write. They also offer many built-in features and functions. Some of them are DuckDB-exclusive, while others (e.g. PIVOT, UNPIVOT) are commonly adopted by many SQL databases.\n",
    "\n",
    "Above, we use [FROM-first syntax](https://duckdb.org/docs/stable/sql/query_syntax/from.html#from-first-syntax), which allows omitting `SELECT *`. Without it, the query would be `AS SELECT * FROM ...`.\n",
    "\n",
    "It also allows switching order of SELECT and FROM. Many people find this more readable. Let's see this in action.\n"
   ]
  },
  {
   "cell_type": "code",
   "execution_count": 7,
   "id": "6b3e7ce8-4c15-41af-a456-2042d868c833",
   "metadata": {},
   "outputs": [
    {
     "data": {
      "text/plain": [
       "┌──────────────┐\n",
       "│ count_star() │\n",
       "│    int64     │\n",
       "├──────────────┤\n",
       "│     21857914 │\n",
       "└──────────────┘"
      ]
     },
     "execution_count": 7,
     "metadata": {},
     "output_type": "execute_result"
    }
   ],
   "source": [
    "db.sql(\"FROM services SELECT COUNT(*)\")"
   ]
  },
  {
   "cell_type": "markdown",
   "id": "bc4ae854-b8d5-44f2-8515-36d960a21567",
   "metadata": {},
   "source": [
    "Another friendly SQL extension is [DESCRIBE](https://duckdb.org/docs/stable/guides/meta/describe.html), which provides a summary of table columns, data types, and their basic features. It's very useful to verify the data after loading CSV or other unreliable formats. It even allows skipping SELECT and FROM altogether.\n"
   ]
  },
  {
   "cell_type": "code",
   "execution_count": 8,
   "id": "897ffe42-3fb6-46c7-9c4a-075d3798abbd",
   "metadata": {
    "scrolled": true
   },
   "outputs": [
    {
     "data": {
      "text/plain": [
       "┌──────────────────────────────┬──────────────────────────┬─────────┬─────────┬─────────┬─────────┐\n",
       "│         column_name          │       column_type        │  null   │   key   │ default │  extra  │\n",
       "│           varchar            │         varchar          │ varchar │ varchar │ varchar │ varchar │\n",
       "├──────────────────────────────┼──────────────────────────┼─────────┼─────────┼─────────┼─────────┤\n",
       "│ Service:RDT-ID               │ BIGINT                   │ YES     │ NULL    │ NULL    │ NULL    │\n",
       "│ Service:Date                 │ DATE                     │ YES     │ NULL    │ NULL    │ NULL    │\n",
       "│ Service:Type                 │ VARCHAR                  │ YES     │ NULL    │ NULL    │ NULL    │\n",
       "│ Service:Company              │ VARCHAR                  │ YES     │ NULL    │ NULL    │ NULL    │\n",
       "│ Service:Train number         │ BIGINT                   │ YES     │ NULL    │ NULL    │ NULL    │\n",
       "│ Service:Completely cancelled │ BOOLEAN                  │ YES     │ NULL    │ NULL    │ NULL    │\n",
       "│ Service:Partly cancelled     │ BOOLEAN                  │ YES     │ NULL    │ NULL    │ NULL    │\n",
       "│ Service:Maximum delay        │ BIGINT                   │ YES     │ NULL    │ NULL    │ NULL    │\n",
       "│ Stop:RDT-ID                  │ BIGINT                   │ YES     │ NULL    │ NULL    │ NULL    │\n",
       "│ Stop:Station code            │ VARCHAR                  │ YES     │ NULL    │ NULL    │ NULL    │\n",
       "│ Stop:Station name            │ VARCHAR                  │ YES     │ NULL    │ NULL    │ NULL    │\n",
       "│ Stop:Arrival time            │ TIMESTAMP WITH TIME ZONE │ YES     │ NULL    │ NULL    │ NULL    │\n",
       "│ Stop:Arrival delay           │ BIGINT                   │ YES     │ NULL    │ NULL    │ NULL    │\n",
       "│ Stop:Arrival cancelled       │ BOOLEAN                  │ YES     │ NULL    │ NULL    │ NULL    │\n",
       "│ Stop:Departure time          │ TIMESTAMP WITH TIME ZONE │ YES     │ NULL    │ NULL    │ NULL    │\n",
       "│ Stop:Departure delay         │ BIGINT                   │ YES     │ NULL    │ NULL    │ NULL    │\n",
       "│ Stop:Departure cancelled     │ BOOLEAN                  │ YES     │ NULL    │ NULL    │ NULL    │\n",
       "│ Stop:Platform change         │ BOOLEAN                  │ YES     │ NULL    │ NULL    │ NULL    │\n",
       "│ Stop:Planned platform        │ VARCHAR                  │ YES     │ NULL    │ NULL    │ NULL    │\n",
       "│ Stop:Actual platform         │ VARCHAR                  │ YES     │ NULL    │ NULL    │ NULL    │\n",
       "├──────────────────────────────┴──────────────────────────┴─────────┴─────────┴─────────┴─────────┤\n",
       "│ 20 rows                                                                               6 columns │\n",
       "└─────────────────────────────────────────────────────────────────────────────────────────────────┘"
      ]
     },
     "execution_count": 8,
     "metadata": {},
     "output_type": "execute_result"
    }
   ],
   "source": [
    "db.sql(\"DESCRIBE services\")"
   ]
  },
  {
   "cell_type": "markdown",
   "id": "cdce677dd54559d1",
   "metadata": {},
   "source": [
    "Let's see a few examples of queries on this table:\n"
   ]
  },
  {
   "cell_type": "code",
   "execution_count": 9,
   "id": "9606e812",
   "metadata": {},
   "outputs": [
    {
     "data": {
      "text/plain": [
       "┌──────────────────────────────────┐\n",
       "│ count(DISTINCT \"Service:RDT-ID\") │\n",
       "│              int64               │\n",
       "├──────────────────────────────────┤\n",
       "│                          2395636 │\n",
       "└──────────────────────────────────┘"
      ]
     },
     "execution_count": 9,
     "metadata": {},
     "output_type": "execute_result"
    }
   ],
   "source": [
    "# number of all the services\n",
    "db.sql(\"\"\"\n",
    "SELECT COUNT(DISTINCT \"Service:RDT-ID\") \n",
    "FROM services\n",
    "\"\"\")"
   ]
  },
  {
   "cell_type": "code",
   "execution_count": null,
   "id": "a447df3f",
   "metadata": {},
   "outputs": [
    {
     "data": {
      "text/plain": [
       "┌────────────────┬───────────┐\n",
       "│ Service:RDT-ID │ num_stops │\n",
       "│     int64      │   int64   │\n",
       "├────────────────┼───────────┤\n",
       "│       13135724 │        40 │\n",
       "│       13135987 │        40 │\n",
       "│       13135118 │        40 │\n",
       "│       13134703 │        40 │\n",
       "│       13136166 │        40 │\n",
       "│       13136903 │        40 │\n",
       "│       13137078 │        40 │\n",
       "│       13134909 │        40 │\n",
       "│       13137270 │        40 │\n",
       "│       13135311 │        40 │\n",
       "│           ·    │         · │\n",
       "│           ·    │         · │\n",
       "│           ·    │         · │\n",
       "│       14649732 │        23 │\n",
       "│       13941340 │        23 │\n",
       "│       15052243 │        23 │\n",
       "│       12832328 │        23 │\n",
       "│       14811331 │        23 │\n",
       "│       13939945 │        23 │\n",
       "│       14625415 │        23 │\n",
       "│       13949055 │        23 │\n",
       "│       14172436 │        23 │\n",
       "│       14986698 │        23 │\n",
       "├────────────────┴───────────┤\n",
       "│ ? rows           2 columns │\n",
       "│ (>9999 rows, 20 shown)     │\n",
       "└────────────────────────────┘"
      ]
     },
     "execution_count": 10,
     "metadata": {},
     "output_type": "execute_result"
    }
   ],
   "source": [
    "# number of stops per service\n",
    "db.sql(\"\"\"\n",
    "SELECT \"Service:RDT-ID\",\n",
    "       COUNT(*) AS num_stops\n",
    "FROM services\n",
    "GROUP BY \"Service:RDT-ID\"\n",
    "ORDER BY num_stops DESC\n",
    "\"\"\")"
   ]
  },
  {
   "cell_type": "code",
   "execution_count": 11,
   "id": "b1f85fbb",
   "metadata": {},
   "outputs": [
    {
     "data": {
      "text/plain": [
       "┌───────────────────┬───────────────────────┐\n",
       "│   Service:Type    │   avg_arrival_delay   │\n",
       "│      varchar      │        double         │\n",
       "├───────────────────┼───────────────────────┤\n",
       "│ European Sleeper  │    13.104823151125402 │\n",
       "│ Stoomtrein        │                  12.0 │\n",
       "│ Nightjet          │     9.099788781976063 │\n",
       "│ Eurostar          │     7.788637531155463 │\n",
       "│ ICE International │     6.904159898297903 │\n",
       "│ Int. Trein        │     4.480769230769231 │\n",
       "│ Nachttrein        │     3.885049365303244 │\n",
       "│ Intercity direct  │     3.252410781587087 │\n",
       "│ Extra trein       │    2.9482057627717873 │\n",
       "│ Eurocity Direct   │    2.2482360487491984 │\n",
       "│ Sneltrein         │    1.7591278687918004 │\n",
       "│ EuroCity          │    1.4974285126517177 │\n",
       "│ Intercity         │    1.2479878711782384 │\n",
       "│ Speciale Trein    │    0.9782588323493581 │\n",
       "│ Sprinter          │    0.8619189684480987 │\n",
       "│ Stoptrein         │    0.7848326562950719 │\n",
       "│ Stopbus ipv trein │ 0.0005534048555484629 │\n",
       "│ Snelbus ipv trein │ 4.915937469275391e-05 │\n",
       "│ Belbus            │                   0.0 │\n",
       "│ Taxibus ipv trein │                   0.0 │\n",
       "│ Bus               │                   0.0 │\n",
       "│ Metro ipv trein   │                   0.0 │\n",
       "├───────────────────┴───────────────────────┤\n",
       "│ 22 rows                         2 columns │\n",
       "└───────────────────────────────────────────┘"
      ]
     },
     "execution_count": 11,
     "metadata": {},
     "output_type": "execute_result"
    }
   ],
   "source": [
    "# average arrival delay per service type\n",
    "db.sql(\"\"\"\n",
    "SELECT \"Service:Type\",\n",
    "       AVG(\"Stop:Arrival delay\") AS avg_arrival_delay\n",
    "FROM services\n",
    "WHERE \"Stop:Arrival delay\" IS NOT NULL\n",
    "GROUP BY \"Service:Type\"\n",
    "ORDER BY avg_arrival_delay DESC\n",
    "\"\"\")"
   ]
  },
  {
   "cell_type": "markdown",
   "id": "0c9ce6df-2e58-48d9-b16e-fff5cf6cc34a",
   "metadata": {},
   "source": [
    "**Exercises**\n",
    "\n",
    "1. Which 10 stations were busiest, i.e. got the most train arrivals or departures?\n",
    "2. Load file `data/disruptions-2023.csv` as `disruptions` table. Describe it.\n",
    "3. What were the 5 most frequent disruption causes in 2023, and how many times did they occur?\n",
    "4. Select the row with the longest disruption. What was the cause? How long was it in days?\n"
   ]
  },
  {
   "cell_type": "code",
   "execution_count": 14,
   "id": "706864cf-7c09-4893-a3cf-336ad88cba65",
   "metadata": {
    "scrolled": true
   },
   "outputs": [
    {
     "data": {
      "text/plain": [
       "┌──────────────────────┬──────────────────┐\n",
       "│   busiest_stations   │ number_of_trains │\n",
       "│       varchar        │      int64       │\n",
       "├──────────────────────┼──────────────────┤\n",
       "│ Utrecht Centraal     │           478676 │\n",
       "│ Amsterdam Centraal   │           404915 │\n",
       "│ Amsterdam Sloterdijk │           291613 │\n",
       "│ Rotterdam Centraal   │           285306 │\n",
       "│ Schiphol Airport     │           278134 │\n",
       "│ Zwolle               │           261619 │\n",
       "│ Den Haag Centraal    │           244257 │\n",
       "│ Arnhem Centraal      │           234542 │\n",
       "│ Leiden Centraal      │           230761 │\n",
       "│ Groningen            │           215052 │\n",
       "├──────────────────────┴──────────────────┤\n",
       "│ 10 rows                       2 columns │\n",
       "└─────────────────────────────────────────┘"
      ]
     },
     "execution_count": 14,
     "metadata": {},
     "output_type": "execute_result"
    }
   ],
   "source": [
    "db.sql(\"\"\"\n",
    "    SELECT \"Stop:Station name\" as busiest_stations, COUNT(*) as number_of_trains\n",
    "    FROM services \n",
    "    GROUP BY \"Stop:Station name\" \n",
    "    ORDER BY number_of_trains DESC \n",
    "    LIMIT 10\n",
    "\"\"\")"
   ]
  },
  {
   "cell_type": "code",
   "execution_count": null,
   "id": "fdf3c81e",
   "metadata": {},
   "outputs": [
    {
     "data": {
      "text/plain": [
       "<_duckdb.DuckDBPyConnection at 0x1066104f0>"
      ]
     },
     "execution_count": 38,
     "metadata": {},
     "output_type": "execute_result"
    }
   ],
   "source": [
    "db.execute(\n",
    "    query=\"\"\"\n",
    "CREATE TABLE IF NOT EXISTS disruptions AS\n",
    "FROM \"data/disruptions-2023.csv\" \n",
    "\"\"\"\n",
    ")"
   ]
  },
  {
   "cell_type": "code",
   "execution_count": 40,
   "id": "2404133c",
   "metadata": {},
   "outputs": [
    {
     "data": {
      "text/plain": [
       "┌──────────────────────┬─────────────┬─────────┬─────────┬─────────┬─────────┐\n",
       "│     column_name      │ column_type │  null   │   key   │ default │  extra  │\n",
       "│       varchar        │   varchar   │ varchar │ varchar │ varchar │ varchar │\n",
       "├──────────────────────┼─────────────┼─────────┼─────────┼─────────┼─────────┤\n",
       "│ rdt_id               │ BIGINT      │ YES     │ NULL    │ NULL    │ NULL    │\n",
       "│ ns_lines             │ VARCHAR     │ YES     │ NULL    │ NULL    │ NULL    │\n",
       "│ rdt_lines            │ VARCHAR     │ YES     │ NULL    │ NULL    │ NULL    │\n",
       "│ rdt_lines_id         │ VARCHAR     │ YES     │ NULL    │ NULL    │ NULL    │\n",
       "│ rdt_station_names    │ VARCHAR     │ YES     │ NULL    │ NULL    │ NULL    │\n",
       "│ rdt_station_codes    │ VARCHAR     │ YES     │ NULL    │ NULL    │ NULL    │\n",
       "│ cause_nl             │ VARCHAR     │ YES     │ NULL    │ NULL    │ NULL    │\n",
       "│ cause_en             │ VARCHAR     │ YES     │ NULL    │ NULL    │ NULL    │\n",
       "│ statistical_cause_nl │ VARCHAR     │ YES     │ NULL    │ NULL    │ NULL    │\n",
       "│ statistical_cause_en │ VARCHAR     │ YES     │ NULL    │ NULL    │ NULL    │\n",
       "│ cause_group          │ VARCHAR     │ YES     │ NULL    │ NULL    │ NULL    │\n",
       "│ start_time           │ TIMESTAMP   │ YES     │ NULL    │ NULL    │ NULL    │\n",
       "│ end_time             │ TIMESTAMP   │ YES     │ NULL    │ NULL    │ NULL    │\n",
       "│ duration_minutes     │ BIGINT      │ YES     │ NULL    │ NULL    │ NULL    │\n",
       "├──────────────────────┴─────────────┴─────────┴─────────┴─────────┴─────────┤\n",
       "│ 14 rows                                                          6 columns │\n",
       "└────────────────────────────────────────────────────────────────────────────┘"
      ]
     },
     "execution_count": 40,
     "metadata": {},
     "output_type": "execute_result"
    }
   ],
   "source": [
    "db.sql(\"\"\"\n",
    "DESCRIBE disruptions\n",
    "\"\"\")"
   ]
  },
  {
   "cell_type": "code",
   "execution_count": null,
   "id": "e51470db",
   "metadata": {},
   "outputs": [
    {
     "data": {
      "text/plain": [
       "┌────────┬───────────────────────────────────────┬────────────────────────────────────────────────────────────────────────────────────┬──────────────┬─────────────────────────────────────────────────────────────────────────────────────────────────────────────────────┬───────────────────────────────────────┬──────────────────────────────────┬─────────────────────────────────┬──────────────────────────────────┬─────────────────────────────────┬────────────────┬─────────────────────┬─────────────────────┬──────────────────┐\n",
       "│ rdt_id │               ns_lines                │                                     rdt_lines                                      │ rdt_lines_id │                                                  rdt_station_names                                                  │           rdt_station_codes           │             cause_nl             │            cause_en             │       statistical_cause_nl       │      statistical_cause_en       │  cause_group   │     start_time      │      end_time       │ duration_minutes │\n",
       "│ int64  │                varchar                │                                      varchar                                       │   varchar    │                                                       varchar                                                       │                varchar                │             varchar              │             varchar             │             varchar              │             varchar             │    varchar     │      timestamp      │      timestamp      │      int64       │\n",
       "├────────┼───────────────────────────────────────┼────────────────────────────────────────────────────────────────────────────────────┼──────────────┼─────────────────────────────────────────────────────────────────────────────────────────────────────────────────────┼───────────────────────────────────────┼──────────────────────────────────┼─────────────────────────────────┼──────────────────────────────────┼─────────────────────────────────┼────────────────┼─────────────────────┼─────────────────────┼──────────────────┤\n",
       "│  45999 │ Amsterdam-Rotterdam-Brussel (HSL)     │ Amsterdam Centraal - Schiphol Airport, Rotterdam Centraal - Schiphol Airport (HSL) │ 24,32        │ Amsterdam Centraal,Amsterdam Lelylaan,Amsterdam Sloterdijk,Rotterdam Centraal,Schiphol Airport                      │ ASD, ASDL, ASS, RTD, SHL              │ wisselstoring                    │ points failure                  │ wisselstoring                    │ points failure                  │ infrastructure │ 2023-01-01 08:19:26 │ 2023-01-01 22:43:08 │              864 │\n",
       "│  46000 │ Zwolle-Leeuwarden                     │ Leeuwarden - Zwolle                                                                │ 160          │ Heerenveen,Wolvega,Heerenveen IJsstadion                                                                            │ HR, WV, HRY                           │ dier op het spoor                │ an animal on the railway track  │ dier op het spoor                │ an animal on the railway track  │ external       │ 2023-01-01 10:31:49 │ 2023-01-01 10:56:17 │               24 │\n",
       "│  46001 │ Heerlen-Aachen Hbf                    │ Aachen Hbf - Heerlen                                                               │ 130          │ Aachen Hbf,Eygelshoven Markt,Heerlen,Heerlen De Kissel,Herzogenrath,Landgraaf,Aachen West                           │ AHBF, EGHM, HRL, HRLK, HZ, LG, AW     │ beperkingen in de materieelinzet │ problems with the rolling stock │ beperkingen in de materieelinzet │ problems with the rolling stock │ rolling stock  │ 2023-01-01 13:19:24 │ 2023-01-02 00:02:39 │              643 │\n",
       "│  46002 │ Zutphen-Winterswijk                   │ Winterswijk - Zutphen                                                              │ 83           │ Vorden,Zutphen                                                                                                      │ VD, ZP                                │ aanrijding                       │ collision                       │ aanrijding                       │ collision                       │ accidents      │ 2023-01-01 17:15:22 │ 2023-01-01 20:14:23 │              179 │\n",
       "│  46003 │ Heerlen-Aachen Hbf                    │ Aachen Hbf - Heerlen                                                               │ 130          │ Aachen Hbf,Eygelshoven Markt,Heerlen,Heerlen De Kissel,Herzogenrath,Landgraaf,Aachen West                           │ AHBF, EGHM, HRL, HRLK, HZ, LG, AW     │ beperkingen in de materieelinzet │ problems with the rolling stock │ beperkingen in de materieelinzet │ problems with the rolling stock │ rolling stock  │ 2023-01-02 05:57:27 │ 2023-01-03 02:07:13 │             1210 │\n",
       "│  46004 │ Amersfoort-Ede-Wageningen             │ Amersfoort - Ede-Wageningen                                                        │ 47           │ Amersfoort Centraal,Barneveld Centrum,Barneveld Noord,Ede-Wageningen,Ede Centrum,Lunteren,Hoevelaken,Barneveld Zuid │ AMF, BNC, BNN, ED, EDC, LTN, HVL, BNZ │ defecte trein                    │ broken down train               │ defecte trein                    │ broken down train               │ rolling stock  │ 2023-01-02 06:36:39 │ 2023-01-02 07:28:16 │               52 │\n",
       "│  46005 │ Dordrecht-Breda; Dordrecht-Roosendaal │ Breda - Dordrecht, Dordrecht - Roosendaal                                          │ 170,171      │ Dordrecht,Dordrecht Zuid,Lage Zwaluwe                                                                               │ DDR, DDZD, ZLW                        │ defecte trein                    │ broken down train               │ defecte trein                    │ broken down train               │ rolling stock  │ 2023-01-02 07:31:33 │ 2023-01-02 08:09:37 │               38 │\n",
       "│  46006 │ 's-Hertogenbosch-Tilburg              │ 's-Hertogenbosch - Tilburg                                                         │ 69           │ 's-Hertogenbosch,Tilburg                                                                                            │ HT, TB                                │ defecte trein                    │ broken down train               │ defecte trein                    │ broken down train               │ rolling stock  │ 2023-01-02 11:33:15 │ 2023-01-02 11:44:27 │               11 │\n",
       "│  46007 │ Rotterdam-Breda (HSL)                 │ Breda - Rotterdam Centraal (HSL)                                                   │ 15           │ Breda,Rotterdam Centraal                                                                                            │ BD, RTD                               │ gestrande trein                  │ stranded train                  │ gestrande trein                  │ stranded train                  │ rolling stock  │ 2023-01-02 11:50:11 │ 2023-01-02 12:25:39 │               35 │\n",
       "│  46008 │ Amsterdam-Schiphol-Rotterdam (HSL)    │ Amsterdam Centraal - Schiphol Airport, Rotterdam Centraal - Schiphol Airport (HSL) │ 24,32        │ Amsterdam Centraal,Amsterdam Lelylaan,Amsterdam Sloterdijk,Rotterdam Centraal,Schiphol Airport                      │ ASD, ASDL, ASS, RTD, SHL              │ defecte trein                    │ broken down train               │ defecte trein                    │ broken down train               │ rolling stock  │ 2023-01-02 12:40:11 │ 2023-01-02 13:08:08 │               28 │\n",
       "├────────┴───────────────────────────────────────┴────────────────────────────────────────────────────────────────────────────────────┴──────────────┴─────────────────────────────────────────────────────────────────────────────────────────────────────────────────────┴───────────────────────────────────────┴──────────────────────────────────┴─────────────────────────────────┴──────────────────────────────────┴─────────────────────────────────┴────────────────┴─────────────────────┴─────────────────────┴──────────────────┤\n",
       "│ 10 rows                                                                                                                                                                                                                                                                                                                                                                                                                                                                                                                         14 columns │\n",
       "└────────────────────────────────────────────────────────────────────────────────────────────────────────────────────────────────────────────────────────────────────────────────────────────────────────────────────────────────────────────────────────────────────────────────────────────────────────────────────────────────────────────────────────────────────────────────────────────────────────────────────────────────────────────────────────────────────────────────────────────────────────────────────────────────────────────┘"
      ]
     },
     "execution_count": 41,
     "metadata": {},
     "output_type": "execute_result"
    }
   ],
   "source": [
    "db.sql(query=\"\"\"SELECT * FROM disruptions LIMIT 10 \"\"\")"
   ]
  },
  {
   "cell_type": "code",
   "execution_count": null,
   "id": "1ad0736d",
   "metadata": {},
   "outputs": [
    {
     "data": {
      "text/plain": [
       "┌───────────────────────────────┬─────────────┐\n",
       "│       disruption_cause        │ occurrences │\n",
       "│            varchar            │    int64    │\n",
       "├───────────────────────────────┼─────────────┤\n",
       "│ broken down train             │        1702 │\n",
       "│ collision                     │         493 │\n",
       "│ signalling and points failure │         288 │\n",
       "│ points failure                │         230 │\n",
       "│ signal failure                │         161 │\n",
       "└───────────────────────────────┴─────────────┘"
      ]
     },
     "execution_count": 42,
     "metadata": {},
     "output_type": "execute_result"
    }
   ],
   "source": [
    "db.sql(\n",
    "    query=\"\"\"\n",
    "                SELECT \"cause_en\" as disruption_cause, COUNT(*) as occurrences \n",
    "                FROM disruptions \n",
    "                GROUP BY disruption_cause \n",
    "                ORDER BY occurrences DESC LIMIT 5\n",
    "\"\"\"\n",
    ")"
   ]
  },
  {
   "cell_type": "code",
   "execution_count": null,
   "id": "5a916ca0",
   "metadata": {},
   "outputs": [
    {
     "data": {
      "text/plain": [
       "┌─────────────────────────────┬──────────┐\n",
       "│ cause_of_longest_disruption │ duration │\n",
       "│           varchar           │  int32   │\n",
       "├─────────────────────────────┼──────────┤\n",
       "│ engineering works           │        5 │\n",
       "└─────────────────────────────┴──────────┘"
      ]
     },
     "execution_count": 43,
     "metadata": {},
     "output_type": "execute_result"
    }
   ],
   "source": [
    "db.sql(\n",
    "    query=\"\"\"\n",
    "WITH longest_disruption as (\n",
    "SELECT \"cause_en\" AS cause_of_longest_disruption, ANY_VALUE(\"end_time\") - ANY_VALUE(\"start_time\") AS duration \n",
    "FROM disruptions GROUP BY cause_of_longest_disruption \n",
    "ORDER BY duration DESC \n",
    "LIMIT 1)\n",
    "\n",
    "SELECT cause_of_longest_disruption, (EXTRACT(epoch FROM duration)/86400)::INT as duration FROM longest_disruption\n",
    "\"\"\"\n",
    ")"
   ]
  },
  {
   "cell_type": "markdown",
   "id": "96451233-1aaa-4dba-83b1-1094a414dd7d",
   "metadata": {},
   "source": [
    "## Connecting to databases\n"
   ]
  },
  {
   "cell_type": "markdown",
   "id": "aad30a8a-466b-43c6-b378-359aee8a0756",
   "metadata": {},
   "source": [
    "DuckDB can connect to various data sources, e.g. Excel, databases, cloud files, data lakehouses, and others. It uses a system of [extensions](https://duckdb.org/docs/stable/extensions/overview), which are loaded explicitly. This avoids bloating the base package and is very flexible. We will now install and load the Postgres extension, and query the database.\n",
    "\n",
    "Make sure that PostgreSQL is up and running in Docker Compose.\n"
   ]
  },
  {
   "cell_type": "code",
   "execution_count": 44,
   "id": "65377fb6-53cd-43fe-96da-69cb4dfab533",
   "metadata": {},
   "outputs": [],
   "source": [
    "# install and import extension\n",
    "db.sql(\"\"\"INSTALL postgres; LOAD postgres;\"\"\")\n",
    "\n",
    "# NEVER write password like this explicitly in real code!\n",
    "conn_string = \"host=localhost user=postgres password=postgres dbname=postgres\"\n",
    "\n",
    "# note that we create the alias for this Postgres database here\n",
    "# this also needs to be in single quotes\n",
    "db.sql(f\"\"\"\n",
    "ATTACH IF NOT EXISTS '{conn_string}' AS postgres_db_read (TYPE postgres, READ_ONLY);\n",
    "\"\"\")"
   ]
  },
  {
   "cell_type": "code",
   "execution_count": 45,
   "id": "2be0c6a5-1a0e-43f8-9720-137d1dbcb140",
   "metadata": {
    "scrolled": true
   },
   "outputs": [
    {
     "data": {
      "text/plain": [
       "┌──────────────────┬─────────┬─────────────┬──────────────────────────────────────────────────────────────────────────────────────────────────────────────────────────────────────────────────────────────────────────────────────────────────────────────────────────────────────────────────────────────────────────────────────────────────────────────────────────────────────────────────────────────────────────────────────────────────────────────────────────────────────────────────────────────────────┬───────────────────────────────────────────────────────────────────────────────────────────────────────────────────────────────────────────────────────────────────────────────────────────────────────────────┬───────────┐\n",
       "│     database     │ schema  │    name     │                                                                                                                                                                                                                             column_names                                                                                                                                                                                                                             │                                                                                                 column_types                                                                                                  │ temporary │\n",
       "│     varchar      │ varchar │   varchar   │                                                                                                                                                                                                                              varchar[]                                                                                                                                                                                                                               │                                                                                                   varchar[]                                                                                                   │  boolean  │\n",
       "├──────────────────┼─────────┼─────────────┼──────────────────────────────────────────────────────────────────────────────────────────────────────────────────────────────────────────────────────────────────────────────────────────────────────────────────────────────────────────────────────────────────────────────────────────────────────────────────────────────────────────────────────────────────────────────────────────────────────────────────────────────────────────────────────────────────────┼───────────────────────────────────────────────────────────────────────────────────────────────────────────────────────────────────────────────────────────────────────────────────────────────────────────────┼───────────┤\n",
       "│ duckdb_trains    │ main    │ disruptions │ [rdt_id, ns_lines, rdt_lines, rdt_lines_id, rdt_station_names, rdt_station_codes, cause_nl, cause_en, statistical_cause_nl, statistical_cause_en, cause_group, start_time, end_time, duration_minutes]                                                                                                                                                                                                                                                               │ [BIGINT, VARCHAR, VARCHAR, VARCHAR, VARCHAR, VARCHAR, VARCHAR, VARCHAR, VARCHAR, VARCHAR, VARCHAR, TIMESTAMP, TIMESTAMP, BIGINT]                                                                              │ false     │\n",
       "│ duckdb_trains    │ main    │ services    │ ['Service:RDT-ID', 'Service:Date', 'Service:Type', 'Service:Company', 'Service:Train number', 'Service:Completely cancelled', 'Service:Partly cancelled', 'Service:Maximum delay', 'Stop:RDT-ID', 'Stop:Station code', 'Stop:Station name', 'Stop:Arrival time', 'Stop:Arrival delay', 'Stop:Arrival cancelled', 'Stop:Departure time', 'Stop:Departure delay', 'Stop:Departure cancelled', 'Stop:Platform change', 'Stop:Planned platform', 'Stop:Actual platform'] │ [BIGINT, DATE, VARCHAR, VARCHAR, BIGINT, BOOLEAN, BOOLEAN, BIGINT, BIGINT, VARCHAR, VARCHAR, TIMESTAMP WITH TIME ZONE, BIGINT, BOOLEAN, TIMESTAMP WITH TIME ZONE, BIGINT, BOOLEAN, BOOLEAN, VARCHAR, VARCHAR] │ false     │\n",
       "│ postgres_db_read │ public  │ services    │ ['Service:RDT-ID', 'Service:Date', 'Service:Type', 'Service:Company', 'Service:Train number', 'Service:Completely cancelled', 'Service:Partly cancelled', 'Service:Maximum delay', 'Stop:RDT-ID', 'Stop:Station code', 'Stop:Station name', 'Stop:Arrival time', 'Stop:Arrival delay', 'Stop:Arrival cancelled', 'Stop:Departure time', 'Stop:Departure delay', 'Stop:Departure cancelled', 'Stop:Platform change', 'Stop:Planned platform', 'Stop:Actual platform'] │ [INTEGER, DATE, VARCHAR, VARCHAR, INTEGER, BOOLEAN, BOOLEAN, INTEGER, INTEGER, VARCHAR, VARCHAR, TIMESTAMP, INTEGER, BOOLEAN, TIMESTAMP, INTEGER, BOOLEAN, BOOLEAN, VARCHAR, VARCHAR]                         │ false     │\n",
       "└──────────────────┴─────────┴─────────────┴──────────────────────────────────────────────────────────────────────────────────────────────────────────────────────────────────────────────────────────────────────────────────────────────────────────────────────────────────────────────────────────────────────────────────────────────────────────────────────────────────────────────────────────────────────────────────────────────────────────────────────────────────────────────────────────────────────┴───────────────────────────────────────────────────────────────────────────────────────────────────────────────────────────────────────────────────────────────────────────────────────────────────────────────┴───────────┘"
      ]
     },
     "execution_count": 45,
     "metadata": {},
     "output_type": "execute_result"
    }
   ],
   "source": [
    "# command to list all tables available\n",
    "db.sql(\"SHOW ALL TABLES\")"
   ]
  },
  {
   "cell_type": "markdown",
   "id": "55238326-00fd-4c2c-a2b3-0687bf8dff58",
   "metadata": {},
   "source": [
    "You can securely store connections information in [DuckDB secrets](https://duckdb.org/docs/stable/extensions/postgres.html#configuring-via-secrets). Here, we make a read-only connection, but DuckDB can also [write to Postgres](https://duckdb.org/docs/stable/extensions/postgres.html#writing-data-to-postgresql). This way you can e.g. insert Parquet data into Postgres, which is not supported natively.\n",
    "\n",
    "When a database is attached, the data is queried from it each time. It guarantees the newest data, but also results in networking overhead. You can [copy Postgres table](https://duckdb.org/docs/stable/extensions/postgres.html#usage) into DuckDB to avoid this, but you have stale data this way.\n",
    "\n",
    "We have two `services` tables now - to query the Postgres one, we prefix it with database alias. Compare querying Postgres and DuckDB tables.\n"
   ]
  },
  {
   "cell_type": "code",
   "execution_count": 46,
   "id": "d92dddf4-9f84-4e8f-9a4d-de40ac863720",
   "metadata": {},
   "outputs": [
    {
     "data": {
      "text/plain": [
       "┌──────────────┐\n",
       "│ count_star() │\n",
       "│    int64     │\n",
       "├──────────────┤\n",
       "│     21857914 │\n",
       "└──────────────┘"
      ]
     },
     "execution_count": 46,
     "metadata": {},
     "output_type": "execute_result"
    }
   ],
   "source": [
    "db.sql(\"\"\"\n",
    "SELECT COUNT(*)\n",
    "FROM postgres_db_read.services\n",
    "\"\"\")"
   ]
  },
  {
   "cell_type": "code",
   "execution_count": 47,
   "id": "db21a89b-aab2-41df-9515-1efb1d951a24",
   "metadata": {},
   "outputs": [
    {
     "data": {
      "text/plain": [
       "┌──────────────┐\n",
       "│ count_star() │\n",
       "│    int64     │\n",
       "├──────────────┤\n",
       "│     21857914 │\n",
       "└──────────────┘"
      ]
     },
     "execution_count": 47,
     "metadata": {},
     "output_type": "execute_result"
    }
   ],
   "source": [
    "db.sql(\"\"\"\n",
    "SELECT COUNT(*)\n",
    "FROM services\n",
    "\"\"\")"
   ]
  },
  {
   "cell_type": "markdown",
   "id": "febaae58-038c-49e4-b1ed-d21fd08221a3",
   "metadata": {},
   "source": [
    "You can run any queries this way, e.g. JOIN files and databases, insert and update data sources, and more. To remove a database, use DETACH command:\n"
   ]
  },
  {
   "cell_type": "code",
   "execution_count": 48,
   "id": "a6f4a2dc-278e-4e3d-8979-996eebba1e8d",
   "metadata": {},
   "outputs": [],
   "source": [
    "db.sql(\"DETACH postgres_db_read\")"
   ]
  },
  {
   "cell_type": "markdown",
   "id": "4db17c74-5822-43c9-bb8d-43c1e111f842",
   "metadata": {},
   "source": [
    "**Exercise**\n",
    "\n",
    "1. Download data about disruptions from 2022 ([Rijden de Treinen page](https://www.rijdendetreinen.nl/en/open-data/disruptions)). You can use either Python (e.g. [urllib](https://stackoverflow.com/a/19602990/9472066)) or wget.\n",
    "2. Create read-write connection to Postgres.\n",
    "3. Use [Postgres CREATE TABLE](https://duckdb.org/docs/stable/extensions/postgres.html#create-table) in DuckDB to insert both 2023 and 2024 disruptions data into Postgres database as `disruptions` table. See [documentation about reading multiple files](https://duckdb.org/docs/stable/data/multiple_files/overview.html).\n",
    "4. Query how many disruptions occurred in 2022 and 2023.\n"
   ]
  },
  {
   "cell_type": "code",
   "execution_count": null,
   "id": "d6d3d329-165b-4920-8f5a-ac1c0214855a",
   "metadata": {},
   "outputs": [],
   "source": [
    "db.sql(\n",
    "    query=f\"\"\"\n",
    "ATTACH IF NOT EXISTS '{conn_string}' \n",
    "AS postgres_db (TYPE postgres)\n",
    "\"\"\"\n",
    ")"
   ]
  },
  {
   "cell_type": "code",
   "execution_count": null,
   "id": "14eda890",
   "metadata": {},
   "outputs": [],
   "source": [
    "db.sql(\n",
    "    query=\"\"\"\n",
    "CREATE TABLE postgres_db.disruptions AS \n",
    "SELECT * FROM read_csv(['data/disruptions-2022.csv', 'data/disruptions-2023.csv'], union_by_name = true, filename = true)\n",
    "\"\"\"\n",
    ")"
   ]
  },
  {
   "cell_type": "code",
   "execution_count": null,
   "id": "85c95242",
   "metadata": {},
   "outputs": [
    {
     "data": {
      "text/plain": [
       "┌───────────────────────┐\n",
       "│ number_of_disruptions │\n",
       "│         int64         │\n",
       "├───────────────────────┤\n",
       "│                 10667 │\n",
       "└───────────────────────┘"
      ]
     },
     "execution_count": 55,
     "metadata": {},
     "output_type": "execute_result"
    }
   ],
   "source": [
    "db.sql(\n",
    "    query=\"\"\"\n",
    "SELECT COUNT(*) as number_of_disruptions from postgres_db.disruptions\n",
    "\"\"\"\n",
    ")"
   ]
  },
  {
   "cell_type": "markdown",
   "id": "67ea8a8e-99c9-478b-bf91-4d1cb6278ba3",
   "metadata": {},
   "source": [
    "## Writing data\n"
   ]
  },
  {
   "cell_type": "markdown",
   "id": "18694e7a-60f4-452a-80f1-02ef7128bb4e",
   "metadata": {},
   "source": [
    "DuckDB can not only insert data into databases, but also write regular files to disk, for example [JSON and JSON Lines](https://duckdb.org/docs/stable/data/json/writing_json) and [Parquet](https://duckdb.org/docs/stable/data/parquet/overview). It also makes it very convenient as a format conversion tool, e.g. as a first part in a data processing workflow.\n",
    "\n",
    "DuckDB is very fast at reading CSV, and [gets faster over time](https://duckdb.org/2024/06/26/benchmarks-over-time.html#csv-reader). However, its unique feature is [very robust and advanced CSV parsing](https://duckdb.org/2023/10/27/csv-sniffer.html), based on paper [\"Multiple hypothesis CSV parsing\" T. Döhmen et al.](https://hannes.muehleisen.org/publications/ssdbm2017-muehleisen-csvs.pdf), and in case of errors it has [verbose error informations](https://duckdb.org/docs/stable/data/csv/reading_faulty_csv_files), as well as option to omit faulty lines.\n",
    "\n",
    "Let's read the CSV file with 2024 train services and change it to TSV (tab-separated values) file. Exporting files also uses COPY command, with format-specific options ([documentation](https://duckdb.org/docs/stable/sql/statements/copy.html#csv-options)).\n"
   ]
  },
  {
   "cell_type": "code",
   "execution_count": 57,
   "id": "1474ef5c-3615-48b4-95a6-7b84f5899c02",
   "metadata": {},
   "outputs": [
    {
     "data": {
      "application/vnd.jupyter.widget-view+json": {
       "model_id": "aa3e28e4ed1d4416a4e6bca7e8085a72",
       "version_major": 2,
       "version_minor": 0
      },
      "text/plain": [
       "FloatProgress(value=0.0, layout=Layout(width='auto'), style=ProgressStyle(bar_color='black'))"
      ]
     },
     "metadata": {},
     "output_type": "display_data"
    },
    {
     "name": "stdout",
     "output_type": "stream",
     "text": [
      "Service:RDT-ID\tService:Date\tService:Type\tService:Company\tService:Train number\tService:Completely cancelled\tService:Partly cancelled\tService:Maximum delay\tStop:RDT-ID\tStop:Station code\tStop:Station name\tStop:Arrival time\tStop:Arrival delay\tStop:Arrival cancelled\tStop:Departure time\tStop:Departure delay\tStop:Departure cancelled\tStop:Platform change\tStop:Planned platform\tStop:Actual platform\n",
      "\n",
      "12690865\t2024-01-01\tIntercity\tNS\t1410\tfalse\tfalse\t2\t114307592\tRTD\tRotterdam Centraal\t\t\t\t2024-01-01 02:00:00+01\t0\tfalse\tfalse\t9\t9\n",
      "\n",
      "12690865\t2024-01-01\tIntercity\tNS\t1410\tfalse\tfalse\t0\t114307593\tDT\tDelft\t2024-01-01 02:13:00+01\t0\tfalse\t2024-01-01 02:13:00+01\t0\tfalse\tfalse\t1\t1\n",
      "\n",
      "12690865\t2024-01-01\tIntercity\tNS\t1410\tfalse\tfalse\t0\t114307594\tGV\tDen Haag HS\t2024-01-01 02:21:00+01\t0\tfalse\t2024-01-01 02:22:00+01\t0\tfalse\tfalse\t6\t6\n",
      "\n",
      "12690865\t2024-01-01\tIntercity\tNS\t1410\tfalse\tfalse\t0\t114307595\tLEDN\tLeiden Centraal\t2024-01-01 02:35:00+01\t0\tfalse\t2024-01-01 02:40:00+01\t0\tfalse\ttrue\t5b\t8b\n",
      "\n"
     ]
    }
   ],
   "source": [
    "duckdb.sql(\"\"\"\n",
    "COPY (SELECT * FROM \"data/services-2024.csv\") TO \"data/services_2024_duckdb.tsv\" (HEADER, DELIMITER \"\\t\");\n",
    "\"\"\")\n",
    "\n",
    "with open(\"data/services_2024_duckdb.tsv\") as file:\n",
    "    i = 0\n",
    "    for i, line in enumerate(file):\n",
    "        i += 1\n",
    "        print(line)\n",
    "        if i == 5:\n",
    "            break"
   ]
  },
  {
   "cell_type": "markdown",
   "id": "0894db81-7f8b-4617-961d-6e013115b25e",
   "metadata": {},
   "source": [
    "**Exercise**\n",
    "\n",
    "1. Convert the 2024 services file into JSON, JSON Lines and Parquet files. Use ZSTD compression for Parquet. Use [DuckDB documentation](https://duckdb.org/docs/stable/sql/statements/copy.html#format-specific-options).\n",
    "2. Compare file size of each file format (including CSV) in MB.\n",
    "3. Compare loading time of each file format (including CSV), e.g. to count how many trains arrived at Rotterdam Centraal station. Use `time` module. Report mean time of 3 repetitions.\n"
   ]
  },
  {
   "cell_type": "code",
   "execution_count": 58,
   "id": "866bb448-26c7-4e93-b27c-1594968f2d78",
   "metadata": {},
   "outputs": [
    {
     "data": {
      "application/vnd.jupyter.widget-view+json": {
       "model_id": "7d9c7d78e3fe4e6b9bf5e60418ad0e04",
       "version_major": 2,
       "version_minor": 0
      },
      "text/plain": [
       "FloatProgress(value=0.0, layout=Layout(width='auto'), style=ProgressStyle(bar_color='black'))"
      ]
     },
     "metadata": {},
     "output_type": "display_data"
    }
   ],
   "source": [
    "db.sql(\"\"\"\n",
    "COPY (SELECT * FROM \"data/services-2024.csv\") TO \"data/services_2024_duckdb.json\";\n",
    "\"\"\")"
   ]
  },
  {
   "cell_type": "code",
   "execution_count": 59,
   "id": "bc52379a",
   "metadata": {},
   "outputs": [
    {
     "data": {
      "application/vnd.jupyter.widget-view+json": {
       "model_id": "3eae9a43a4804150b9c1efc690cf474c",
       "version_major": 2,
       "version_minor": 0
      },
      "text/plain": [
       "FloatProgress(value=0.0, layout=Layout(width='auto'), style=ProgressStyle(bar_color='black'))"
      ]
     },
     "metadata": {},
     "output_type": "display_data"
    }
   ],
   "source": [
    "db.sql(\"\"\"\n",
    "COPY (SELECT * FROM \"data/services-2024.csv\") TO \"data/services_2024_duckdb.jsonl\";\n",
    "\"\"\")"
   ]
  },
  {
   "cell_type": "code",
   "execution_count": 60,
   "id": "e332ed53",
   "metadata": {},
   "outputs": [
    {
     "data": {
      "application/vnd.jupyter.widget-view+json": {
       "model_id": "be0143d15a6b4e35a673533a462630dd",
       "version_major": 2,
       "version_minor": 0
      },
      "text/plain": [
       "FloatProgress(value=0.0, layout=Layout(width='auto'), style=ProgressStyle(bar_color='black'))"
      ]
     },
     "metadata": {},
     "output_type": "display_data"
    }
   ],
   "source": [
    "db.sql(\"\"\"\n",
    "COPY (SELECT * FROM \"data/services-2024.csv\") TO \"data/services_2024_duckdb.parquet\" (COMPRESSION zstd);\n",
    "\"\"\")"
   ]
  },
  {
   "cell_type": "code",
   "execution_count": null,
   "id": "e6cef678",
   "metadata": {},
   "outputs": [
    {
     "name": "stdout",
     "output_type": "stream",
     "text": [
      "parquet size: 178MB\n",
      "json size: 12530MB\n",
      "tsv size: 3051MB\n",
      "jsonl size: 12530MB\n"
     ]
    }
   ],
   "source": [
    "for file in os.listdir(\"data\"):\n",
    "    if file.startswith(\"services_2024\"):\n",
    "        extension = file.split(\".\")[1]\n",
    "        file_size = os.path.getsize(f\"data/{file}\") // (1024 * 1024)\n",
    "        print(f\"{extension} size: {file_size}MB\")"
   ]
  },
  {
   "cell_type": "code",
   "execution_count": 77,
   "id": "486943ce",
   "metadata": {},
   "outputs": [
    {
     "name": "stdout",
     "output_type": "stream",
     "text": [
      "json mean query time: 0.073s\n",
      "jsonl mean query time: 0.064s\n",
      "tsv mean query time: 0.066s\n",
      "parquet mean query time: 0.002s\n"
     ]
    }
   ],
   "source": [
    "import time\n",
    "extensions = [\".json\", '.jsonl', '.tsv', '.parquet']\n",
    "\n",
    "\n",
    "for ext in extensions:\n",
    "    statement = f\"\"\"SELECT * FROM \"data/services_2024_duckdb{ext}\" WHERE \"Stop:Station name\" = 'Rotterdam Centraal' \"\"\"\n",
    "    start_time = time.time()\n",
    "    for _ in range(3):\n",
    "        db.sql(query=statement)\n",
    "    mean_time = (time.time() - start_time) / 3\n",
    "    print(f\"{ext[1:]} mean query time: {mean_time:.3f}s\")"
   ]
  },
  {
   "cell_type": "markdown",
   "id": "c9f18a0f-9b7f-4d2a-9813-778d8b1305c6",
   "metadata": {},
   "source": [
    "## DuckDB interoperability\n"
   ]
  },
  {
   "cell_type": "markdown",
   "id": "30503632-321c-4e49-ad37-dc35f3acb1f7",
   "metadata": {},
   "source": [
    "DuckDB is highly interoperable with Python and with data processing frameworks like Pandas and Polars. It can convert results to them, as well as query DataFrames with SQL. This has a few uses:\n",
    "\n",
    "- switch to SQL whenever you want\n",
    "- use DuckDB for fast and robust data reading, e.g. for CSV\n",
    "- convert to Pandas for plotting the results\n",
    "- pool data from various sources with DuckDB and then build complex workflows with DataFrames\n",
    "\n",
    "Getting results in Python works similarly to `psycopg`, with methods `.fetchone()` and `.fetchall()`.\n",
    "\n",
    "Let's see how many services were run in January and December 2024.\n"
   ]
  },
  {
   "cell_type": "code",
   "execution_count": 78,
   "id": "39b810aa-956c-4fbf-8258-7c24f86f9fd2",
   "metadata": {},
   "outputs": [
    {
     "name": "stdout",
     "output_type": "stream",
     "text": [
      "January services: 187778\n",
      "December services: 186992\n"
     ]
    }
   ],
   "source": [
    "num_jan_services = duckdb.sql(\"\"\"\n",
    "SELECT COUNT(DISTINCT \"Service:RDT-ID\")\n",
    "FROM \"data/services-2024.csv\"\n",
    "WHERE \"Service:Date\" BETWEEN '2024-01-01' AND '2024-01-31'\n",
    "\"\"\")\n",
    "num_jan_services = num_jan_services.fetchone()[0]\n",
    "\n",
    "num_dec_services = duckdb.sql(\"\"\"\n",
    "SELECT COUNT(DISTINCT \"Service:RDT-ID\")\n",
    "FROM \"data/services-2024.csv\"\n",
    "WHERE \"Service:Date\" BETWEEN '2024-12-01' AND '2024-12-31'\n",
    "\"\"\")\n",
    "num_dec_services = num_dec_services.fetchone()[0]\n",
    "\n",
    "print(f\"January services: {num_jan_services}\")\n",
    "print(f\"December services: {num_dec_services}\")"
   ]
  },
  {
   "cell_type": "markdown",
   "id": "e38253fe-76af-41f3-8f2f-4d767c2e5fda",
   "metadata": {},
   "source": [
    "Converting to Pandas is similar, with method `.to_df()` (aliases: `.fetch_df()`, `.df()`). Let's fetch all services by month.\n"
   ]
  },
  {
   "cell_type": "code",
   "execution_count": 79,
   "id": "f9ed1557-fcc6-4de7-91c9-3e555f7e7da1",
   "metadata": {},
   "outputs": [
    {
     "data": {
      "text/html": [
       "<div>\n",
       "<style scoped>\n",
       "    .dataframe tbody tr th:only-of-type {\n",
       "        vertical-align: middle;\n",
       "    }\n",
       "\n",
       "    .dataframe tbody tr th {\n",
       "        vertical-align: top;\n",
       "    }\n",
       "\n",
       "    .dataframe thead th {\n",
       "        text-align: right;\n",
       "    }\n",
       "</style>\n",
       "<table border=\"1\" class=\"dataframe\">\n",
       "  <thead>\n",
       "    <tr style=\"text-align: right;\">\n",
       "      <th></th>\n",
       "      <th>month</th>\n",
       "      <th>num_services</th>\n",
       "    </tr>\n",
       "  </thead>\n",
       "  <tbody>\n",
       "    <tr>\n",
       "      <th>0</th>\n",
       "      <td>1</td>\n",
       "      <td>187778</td>\n",
       "    </tr>\n",
       "    <tr>\n",
       "      <th>1</th>\n",
       "      <td>2</td>\n",
       "      <td>193117</td>\n",
       "    </tr>\n",
       "    <tr>\n",
       "      <th>2</th>\n",
       "      <td>3</td>\n",
       "      <td>202644</td>\n",
       "    </tr>\n",
       "    <tr>\n",
       "      <th>3</th>\n",
       "      <td>4</td>\n",
       "      <td>190436</td>\n",
       "    </tr>\n",
       "    <tr>\n",
       "      <th>4</th>\n",
       "      <td>5</td>\n",
       "      <td>203625</td>\n",
       "    </tr>\n",
       "    <tr>\n",
       "      <th>5</th>\n",
       "      <td>6</td>\n",
       "      <td>200795</td>\n",
       "    </tr>\n",
       "    <tr>\n",
       "      <th>6</th>\n",
       "      <td>7</td>\n",
       "      <td>227031</td>\n",
       "    </tr>\n",
       "    <tr>\n",
       "      <th>7</th>\n",
       "      <td>8</td>\n",
       "      <td>202115</td>\n",
       "    </tr>\n",
       "    <tr>\n",
       "      <th>8</th>\n",
       "      <td>9</td>\n",
       "      <td>186368</td>\n",
       "    </tr>\n",
       "    <tr>\n",
       "      <th>9</th>\n",
       "      <td>10</td>\n",
       "      <td>219174</td>\n",
       "    </tr>\n",
       "    <tr>\n",
       "      <th>10</th>\n",
       "      <td>11</td>\n",
       "      <td>195561</td>\n",
       "    </tr>\n",
       "    <tr>\n",
       "      <th>11</th>\n",
       "      <td>12</td>\n",
       "      <td>186992</td>\n",
       "    </tr>\n",
       "  </tbody>\n",
       "</table>\n",
       "</div>"
      ],
      "text/plain": [
       "    month  num_services\n",
       "0       1        187778\n",
       "1       2        193117\n",
       "2       3        202644\n",
       "3       4        190436\n",
       "4       5        203625\n",
       "5       6        200795\n",
       "6       7        227031\n",
       "7       8        202115\n",
       "8       9        186368\n",
       "9      10        219174\n",
       "10     11        195561\n",
       "11     12        186992"
      ]
     },
     "execution_count": 79,
     "metadata": {},
     "output_type": "execute_result"
    }
   ],
   "source": [
    "num_monthly_services = duckdb.sql(\"\"\"\n",
    "SELECT MONTH(\"Service:Date\") AS month, COUNT(DISTINCT \"Service:RDT-ID\") AS num_services \n",
    "FROM \"data/services-2024.csv\"\n",
    "GROUP BY MONTH(\"Service:Date\")\n",
    "ORDER BY month\n",
    "\"\"\").df()\n",
    "\n",
    "num_monthly_services"
   ]
  },
  {
   "cell_type": "markdown",
   "id": "835949bc-e95e-49c9-a8dc-aba5fb762144",
   "metadata": {},
   "source": [
    "Since we're already here, let's visualize this with Matplotlib. Pandas has handy shortcuts in `.plot` method ([documentation](https://pandas.pydata.org/docs/reference/api/pandas.DataFrame.plot.html)).\n"
   ]
  },
  {
   "cell_type": "code",
   "execution_count": 80,
   "id": "603ef954-be62-42a0-9c02-cde597281a22",
   "metadata": {},
   "outputs": [
    {
     "data": {
      "text/plain": [
       "<Axes: title={'center': 'Number of services in 2024 by month'}, xlabel='month'>"
      ]
     },
     "execution_count": 80,
     "metadata": {},
     "output_type": "execute_result"
    },
    {
     "data": {
      "image/png": "[encoded data removed]",
      "text/plain": [
       "<Figure size 640x480 with 1 Axes>"
      ]
     },
     "metadata": {},
     "output_type": "display_data"
    }
   ],
   "source": [
    "num_monthly_services.plot.line(\n",
    "    x=\"month\", y=\"num_services\", title=\"Number of services in 2024 by month\"\n",
    ")"
   ]
  },
  {
   "cell_type": "markdown",
   "id": "13f75c4e-eecf-4882-9b27-f0a11fd1b178",
   "metadata": {},
   "source": [
    "We can also query Pandas DataFrames by just using variable names like tables. Note that we should use Arrow backend for good performance here. Let's load the disruptions from 2023 and check for frequency of top 10 most popular causes. Then we will go back to Pandas and make a bar plot.\n"
   ]
  },
  {
   "cell_type": "code",
   "execution_count": 81,
   "id": "5ae1efef-389e-4c68-bb68-8050d2591302",
   "metadata": {},
   "outputs": [
    {
     "data": {
      "text/plain": [
       "<Axes: ylabel='cause'>"
      ]
     },
     "execution_count": 81,
     "metadata": {},
     "output_type": "execute_result"
    },
    {
     "data": {
      "image/png": "[encoded data removed]",
      "text/plain": [
       "<Figure size 640x480 with 1 Axes>"
      ]
     },
     "metadata": {},
     "output_type": "display_data"
    }
   ],
   "source": [
    "import pandas as pd\n",
    "\n",
    "df_disruptions = pd.read_csv(\"data/disruptions-2023.csv\", dtype_backend=\"pyarrow\")\n",
    "\n",
    "df_disruptions_statistics = duckdb.sql(\"\"\"\n",
    "SELECT statistical_cause_en AS cause, COUNT(*) / (SELECT COUNT(*) FROM df_disruptions) AS cause_frequency\n",
    "FROM df_disruptions\n",
    "GROUP BY statistical_cause_en\n",
    "ORDER BY cause_frequency DESC\n",
    "LIMIT 10\n",
    "\"\"\").df()\n",
    "\n",
    "df_disruptions_statistics.plot.barh(x=\"cause\", y=\"cause_frequency\")"
   ]
  },
  {
   "cell_type": "markdown",
   "id": "d61cf59c-316d-4443-b1a5-78486288b9e6",
   "metadata": {},
   "source": [
    "**Exercise**\n",
    "\n",
    "1. Extract the average daily arrival delays of 2024 train services with DuckDB. Note that NULL delay means zero, and you have to use [COALESCE function](https://duckdb.org/docs/stable/sql/functions/utility.html#coalesceexpr-) to fill them as zeros.\n",
    "2. Visualize those changes over time with Pandas on a line plot. Plot daily average, and also rolling mean (average) of 7 and 30 days to analyze longer trends.\n"
   ]
  },
  {
   "cell_type": "code",
   "execution_count": 96,
   "id": "cd725613-fec8-40fa-8dab-ab33fbc13ab6",
   "metadata": {},
   "outputs": [
    {
     "data": {
      "text/html": [
       "<div>\n",
       "<style scoped>\n",
       "    .dataframe tbody tr th:only-of-type {\n",
       "        vertical-align: middle;\n",
       "    }\n",
       "\n",
       "    .dataframe tbody tr th {\n",
       "        vertical-align: top;\n",
       "    }\n",
       "\n",
       "    .dataframe thead th {\n",
       "        text-align: right;\n",
       "    }\n",
       "</style>\n",
       "<table border=\"1\" class=\"dataframe\">\n",
       "  <thead>\n",
       "    <tr style=\"text-align: right;\">\n",
       "      <th></th>\n",
       "      <th>date</th>\n",
       "      <th>avg_arrival_delay</th>\n",
       "    </tr>\n",
       "  </thead>\n",
       "  <tbody>\n",
       "    <tr>\n",
       "      <th>0</th>\n",
       "      <td>2024-01-01</td>\n",
       "      <td>1</td>\n",
       "    </tr>\n",
       "    <tr>\n",
       "      <th>1</th>\n",
       "      <td>2024-01-02</td>\n",
       "      <td>1</td>\n",
       "    </tr>\n",
       "    <tr>\n",
       "      <th>2</th>\n",
       "      <td>2024-01-03</td>\n",
       "      <td>1</td>\n",
       "    </tr>\n",
       "    <tr>\n",
       "      <th>3</th>\n",
       "      <td>2024-01-04</td>\n",
       "      <td>1</td>\n",
       "    </tr>\n",
       "    <tr>\n",
       "      <th>4</th>\n",
       "      <td>2024-01-05</td>\n",
       "      <td>1</td>\n",
       "    </tr>\n",
       "    <tr>\n",
       "      <th>...</th>\n",
       "      <td>...</td>\n",
       "      <td>...</td>\n",
       "    </tr>\n",
       "    <tr>\n",
       "      <th>363</th>\n",
       "      <td>2024-12-29</td>\n",
       "      <td>1</td>\n",
       "    </tr>\n",
       "    <tr>\n",
       "      <th>364</th>\n",
       "      <td>2024-12-30</td>\n",
       "      <td>1</td>\n",
       "    </tr>\n",
       "    <tr>\n",
       "      <th>365</th>\n",
       "      <td>2024-12-31</td>\n",
       "      <td>1</td>\n",
       "    </tr>\n",
       "    <tr>\n",
       "      <th>366</th>\n",
       "      <td>2025-01-01</td>\n",
       "      <td>1</td>\n",
       "    </tr>\n",
       "    <tr>\n",
       "      <th>367</th>\n",
       "      <td>NaT</td>\n",
       "      <td>0</td>\n",
       "    </tr>\n",
       "  </tbody>\n",
       "</table>\n",
       "<p>368 rows × 2 columns</p>\n",
       "</div>"
      ],
      "text/plain": [
       "          date  avg_arrival_delay\n",
       "0   2024-01-01                  1\n",
       "1   2024-01-02                  1\n",
       "2   2024-01-03                  1\n",
       "3   2024-01-04                  1\n",
       "4   2024-01-05                  1\n",
       "..         ...                ...\n",
       "363 2024-12-29                  1\n",
       "364 2024-12-30                  1\n",
       "365 2024-12-31                  1\n",
       "366 2025-01-01                  1\n",
       "367        NaT                  0\n",
       "\n",
       "[368 rows x 2 columns]"
      ]
     },
     "execution_count": 96,
     "metadata": {},
     "output_type": "execute_result"
    }
   ],
   "source": [
    "avg_daily_arrival_delay = db.sql(\"\"\"\n",
    "WITH non_null_services AS (SELECT COALESCE(\"Stop:Arrival delay\", 0) as arrival_delay, (\"Stop:Arrival time\")::DATE as date FROM services)\n",
    "SELECT date, (AVG(arrival_delay))::INT as avg_arrival_delay\n",
    "FROM non_null_services\n",
    "GROUP BY date\n",
    "ORDER BY date ASC\n",
    "\"\"\").df()\n",
    "\n",
    "avg_daily_arrival_delay"
   ]
  },
  {
   "cell_type": "code",
   "execution_count": null,
   "id": "65945322-2276-4dbf-8931-d8f2e30217d8",
   "metadata": {},
   "outputs": [
    {
     "data": {
      "text/html": [
       "<div>\n",
       "<style scoped>\n",
       "    .dataframe tbody tr th:only-of-type {\n",
       "        vertical-align: middle;\n",
       "    }\n",
       "\n",
       "    .dataframe tbody tr th {\n",
       "        vertical-align: top;\n",
       "    }\n",
       "\n",
       "    .dataframe thead th {\n",
       "        text-align: right;\n",
       "    }\n",
       "</style>\n",
       "<table border=\"1\" class=\"dataframe\">\n",
       "  <thead>\n",
       "    <tr style=\"text-align: right;\">\n",
       "      <th></th>\n",
       "      <th>date</th>\n",
       "      <th>avg_arrival_delay</th>\n",
       "      <th>rolling_7</th>\n",
       "      <th>rolling_30</th>\n",
       "    </tr>\n",
       "  </thead>\n",
       "  <tbody>\n",
       "    <tr>\n",
       "      <th>0</th>\n",
       "      <td>2024-01-01</td>\n",
       "      <td>1</td>\n",
       "      <td>NaN</td>\n",
       "      <td>NaN</td>\n",
       "    </tr>\n",
       "    <tr>\n",
       "      <th>1</th>\n",
       "      <td>2024-01-02</td>\n",
       "      <td>1</td>\n",
       "      <td>NaN</td>\n",
       "      <td>NaN</td>\n",
       "    </tr>\n",
       "    <tr>\n",
       "      <th>2</th>\n",
       "      <td>2024-01-03</td>\n",
       "      <td>1</td>\n",
       "      <td>NaN</td>\n",
       "      <td>NaN</td>\n",
       "    </tr>\n",
       "    <tr>\n",
       "      <th>3</th>\n",
       "      <td>2024-01-04</td>\n",
       "      <td>1</td>\n",
       "      <td>NaN</td>\n",
       "      <td>NaN</td>\n",
       "    </tr>\n",
       "    <tr>\n",
       "      <th>4</th>\n",
       "      <td>2024-01-05</td>\n",
       "      <td>1</td>\n",
       "      <td>NaN</td>\n",
       "      <td>NaN</td>\n",
       "    </tr>\n",
       "    <tr>\n",
       "      <th>...</th>\n",
       "      <td>...</td>\n",
       "      <td>...</td>\n",
       "      <td>...</td>\n",
       "      <td>...</td>\n",
       "    </tr>\n",
       "    <tr>\n",
       "      <th>363</th>\n",
       "      <td>2024-12-29</td>\n",
       "      <td>1</td>\n",
       "      <td>0.857143</td>\n",
       "      <td>1.000000</td>\n",
       "    </tr>\n",
       "    <tr>\n",
       "      <th>364</th>\n",
       "      <td>2024-12-30</td>\n",
       "      <td>1</td>\n",
       "      <td>0.857143</td>\n",
       "      <td>1.000000</td>\n",
       "    </tr>\n",
       "    <tr>\n",
       "      <th>365</th>\n",
       "      <td>2024-12-31</td>\n",
       "      <td>1</td>\n",
       "      <td>0.857143</td>\n",
       "      <td>1.000000</td>\n",
       "    </tr>\n",
       "    <tr>\n",
       "      <th>366</th>\n",
       "      <td>2025-01-01</td>\n",
       "      <td>1</td>\n",
       "      <td>1.000000</td>\n",
       "      <td>1.000000</td>\n",
       "    </tr>\n",
       "    <tr>\n",
       "      <th>367</th>\n",
       "      <td>NaT</td>\n",
       "      <td>0</td>\n",
       "      <td>0.857143</td>\n",
       "      <td>0.966667</td>\n",
       "    </tr>\n",
       "  </tbody>\n",
       "</table>\n",
       "<p>368 rows × 4 columns</p>\n",
       "</div>"
      ],
      "text/plain": [
       "          date  avg_arrival_delay  rolling_7  rolling_30\n",
       "0   2024-01-01                  1        NaN         NaN\n",
       "1   2024-01-02                  1        NaN         NaN\n",
       "2   2024-01-03                  1        NaN         NaN\n",
       "3   2024-01-04                  1        NaN         NaN\n",
       "4   2024-01-05                  1        NaN         NaN\n",
       "..         ...                ...        ...         ...\n",
       "363 2024-12-29                  1   0.857143    1.000000\n",
       "364 2024-12-30                  1   0.857143    1.000000\n",
       "365 2024-12-31                  1   0.857143    1.000000\n",
       "366 2025-01-01                  1   1.000000    1.000000\n",
       "367        NaT                  0   0.857143    0.966667\n",
       "\n",
       "[368 rows x 4 columns]"
      ]
     },
     "execution_count": 97,
     "metadata": {},
     "output_type": "execute_result"
    }
   ],
   "source": [
    "avg_daily_arrival_delay['rolling_7'] = avg_daily_arrival_delay['avg_arrival_delay'].rolling(window=7).mean()\n",
    "avg_daily_arrival_delay['rolling_30'] = avg_daily_arrival_delay['avg_arrival_delay'].rolling(window=30).mean()\n",
    "avg_daily_arrival_delay\n"
   ]
  },
  {
   "cell_type": "code",
   "execution_count": 102,
   "id": "73cb4983",
   "metadata": {},
   "outputs": [
    {
     "data": {
      "image/png": "[encoded data removed]",
      "text/plain": [
       "<Figure size 640x480 with 1 Axes>"
      ]
     },
     "metadata": {},
     "output_type": "display_data"
    }
   ],
   "source": [
    "import matplotlib.pyplot as plt\n",
    "avg_daily_arrival_delay = avg_daily_arrival_delay.set_index(\"date\")\n",
    "avg_daily_arrival_delay.plot()\n",
    "plt.show()"
   ]
  },
  {
   "cell_type": "code",
   "execution_count": null,
   "id": "d450c5b4",
   "metadata": {},
   "outputs": [],
   "source": []
  }
 ],
 "metadata": {
  "kernelspec": {
   "display_name": "lab2",
   "language": "python",
   "name": "python3"
  },
  "language_info": {
   "codemirror_mode": {
    "name": "ipython",
    "version": 3
   },
   "file_extension": ".py",
   "mimetype": "text/x-python",
   "name": "python",
   "nbconvert_exporter": "python",
   "pygments_lexer": "ipython3",
   "version": "3.11.4"
  }
 },
 "nbformat": 4,
 "nbformat_minor": 5
}
